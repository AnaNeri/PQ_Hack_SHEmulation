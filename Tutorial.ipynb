{
 "cells": [
  {
   "cell_type": "markdown",
   "id": "15192834-cdbd-4895-a874-9397b51d7714",
   "metadata": {},
   "source": [
    "# Getting started with Qadence\n",
    "\n",
    "Qadence is a quantum computing SDK developed at Pasqal. It has a seamless integration with:\n",
    "- Pytorch, for creating and optimizing variational circuits.\n",
    "- Sympy, for integrating symbolic expressions into into the circuits."
   ]
  },
  {
   "cell_type": "markdown",
   "id": "15d517b8-05b0-447c-93ef-ce1f3f3ada68",
   "metadata": {},
   "source": [
    "## Quantum states\n",
    "\n",
    "For the purpose of this hackathon, you will only work with a statevector representation of quantum states. For a system of $N$ qubits, the statevector is a $2^N$ vector corresponding to the complex amplitudes of each basis state. For example, a 2-qubit state $|\\psi\\rangle$ has four complex amplitudes (a, b, c, d):\n",
    "\n",
    "$$\n",
    "|\\psi\\rangle = a|00\\rangle + b|01\\rangle + c|10\\rangle + d|11\\rangle\n",
    "$$\n",
    "\n",
    "Qadence integrates with PyTorch, and vectors and matrices are typically represented as a `torch.tensor`, which is similar to the `ndarray` from NumPy.\n",
    "\n",
    "Qadence has some convenience functions to initialize and process statevectors."
   ]
  },
  {
   "cell_type": "code",
   "execution_count": 31,
   "id": "58c28a12-fc30-486b-ac64-b915952071d0",
   "metadata": {},
   "outputs": [],
   "source": [
    "from qadence import zero_state, one_state, product_state, ghz_state, random_state\n",
    "\n",
    "n_qubits = 3\n",
    "\n",
    "state = zero_state(n_qubits)   # The state |000>\n",
    "state = one_state(n_qubits)    # The state |111>\n",
    "state = product_state(\"101\")   # The state |101>\n",
    "state = ghz_state(n_qubits)    # The state (1/√2)(|000> + |111>)\n",
    "state = random_state(n_qubits) # A random 3-qubit state"
   ]
  },
  {
   "cell_type": "markdown",
   "id": "17d63c5c-0693-44c0-9d46-80b70292e3ad",
   "metadata": {},
   "source": [
    "In all cases above, the `state` is an 8 (2^3) entry torch tensor with the amplitude values. \n",
    "\n",
    "Note that often in Qadence there is an extra dimension at the start of a tensor to account for the possibility of batching many states into a single object. In this case, there is only one state being created, so the tensor size is $[1, 8]$"
   ]
  },
  {
   "cell_type": "code",
   "execution_count": 32,
   "id": "0f6f231f-fb5f-4d50-bb07-1b2b59663a3c",
   "metadata": {},
   "outputs": [
    {
     "name": "stdout",
     "output_type": "stream",
     "text": [
      "tensor([[-0.2736+0.1355j, -0.0248-0.1435j,  0.2856-0.2917j,  0.1158+0.0303j,\n",
      "         -0.0513+0.2727j,  0.1130+0.6251j, -0.1405+0.4301j, -0.0419+0.1328j]])\n"
     ]
    }
   ],
   "source": [
    "assert list(state.size()) == [1, 8]\n",
    "\n",
    "print(state)"
   ]
  },
  {
   "cell_type": "markdown",
   "id": "b9b86440-bcb8-40e5-b88c-d6c544b7117d",
   "metadata": {},
   "source": [
    "We expect quantum states to be normalized, which we can check:"
   ]
  },
  {
   "cell_type": "code",
   "execution_count": 33,
   "id": "f228138b-a860-47a5-b0b4-996b11ef34d3",
   "metadata": {},
   "outputs": [
    {
     "name": "stdout",
     "output_type": "stream",
     "text": [
      "True\n",
      "False\n",
      "True\n"
     ]
    }
   ],
   "source": [
    "from qadence import is_normalized, normalize\n",
    "\n",
    "print(is_normalized(state))\n",
    "\n",
    "print(is_normalized(2.0 * state))\n",
    "\n",
    "new_state = normalize(2.0 * state)\n",
    "\n",
    "print(is_normalized(new_state))"
   ]
  },
  {
   "cell_type": "markdown",
   "id": "e14d517e-62d8-4043-8734-8d0114434440",
   "metadata": {},
   "source": [
    "It is often useful to compute the overlap, or inner-product, between two states $\\langle \\psi|\\phi \\rangle$. Below we construct two batches of random product states (which are computational basis states), and compute the overlap between them."
   ]
  },
  {
   "cell_type": "code",
   "execution_count": 34,
   "id": "590c33f1-37f6-4659-a7c9-148460f33f0c",
   "metadata": {},
   "outputs": [
    {
     "data": {
      "text/plain": [
       "tensor([0., 0., 0., 0., 0., 0., 0., 0., 0., 0.])"
      ]
     },
     "execution_count": 34,
     "metadata": {},
     "output_type": "execute_result"
    }
   ],
   "source": [
    "from qadence import rand_product_state, overlap\n",
    "\n",
    "n_qubits = 3\n",
    "\n",
    "batch0 = rand_product_state(n_qubits, batch_size = 10)\n",
    "batch1 = rand_product_state(n_qubits, batch_size = 10)\n",
    "\n",
    "overlap(batch0, batch1)"
   ]
  },
  {
   "cell_type": "markdown",
   "id": "06f1b2c0-cbcd-4410-8c27-2af442ad879d",
   "metadata": {},
   "source": [
    "You can find more information on qubit ordering conventions in the [State Conventions documentation page](https://pasqal-io.github.io/qadence/latest/content/state_conventions/)."
   ]
  },
  {
   "cell_type": "markdown",
   "id": "a0d404d7-5e3a-49c5-a292-42d0943085b7",
   "metadata": {},
   "source": [
    "## The block system\n",
    "\n",
    "Program composition in Qadence is done with the block system. Each basic operation is a type of \"block\", and all blocks can be composed together to create more complex blocks. Ultimately, the full quantum circuit is a composition of blocks.\n",
    "\n",
    "Basic primitive gates only need the target qubit as input."
   ]
  },
  {
   "cell_type": "code",
   "execution_count": 35,
   "id": "07bc8cc3-87a5-4199-add1-cca80a89a19d",
   "metadata": {},
   "outputs": [],
   "source": [
    "from qadence import X, Y, Z\n",
    "from qadence import chain\n",
    "\n",
    "# A block chaining three Pauli operators\n",
    "block = chain(X(0), Y(1), Z(2)) \n",
    "\n",
    "# The * operator is an alias for the chain() function\n",
    "block = X(0) * Y(1) * Z(2)"
   ]
  },
  {
   "cell_type": "markdown",
   "id": "d59c2741-12be-4b40-8f5e-52733df9ca44",
   "metadata": {},
   "source": [
    "Each block or full circuit can be visualized with the `display` function from `qadence.draw`. \n",
    "\n",
    "Note that this requires you to install the `graphviz` package on your system, and also the `visualization` extra (`pip install \"qadence[visualization]\"`). You can find more information here: [Qadence installation instructions](https://pasqal-io.github.io/qadence/latest/getting_started/installation/).\n",
    "\n"
   ]
  },
  {
   "cell_type": "code",
   "execution_count": 36,
   "id": "2ee7830d-0f62-4695-b58b-0a2dd1aa803b",
   "metadata": {},
   "outputs": [
    {
     "name": "stderr",
     "output_type": "stream",
     "text": [
      "\n",
      "(process:20504): Pango-WARNING **: 14:05:38.455: couldn't load font \"JetBrains Mono Not-Rotated 15\", falling back to \"Sans Not-Rotated 15\", expect ugly output.\n",
      "\n",
      "(process:20504): Pango-WARNING **: 14:05:38.460: couldn't load font \"JetBrains Mono Not-Rotated 20\", falling back to \"Sans Not-Rotated 20\", expect ugly output.\n"
     ]
    },
    {
     "data": {
      "image/svg+xml": [
       "<?xml version=\"1.0\" encoding=\"UTF-8\" standalone=\"no\"?>\n",
       "<!DOCTYPE svg PUBLIC \"-//W3C//DTD SVG 1.1//EN\"\n",
       " \"http://www.w3.org/Graphics/SVG/1.1/DTD/svg11.dtd\">\n",
       "<!-- Generated by graphviz version 2.50.0 (0)\n",
       " -->\n",
       "<!-- Pages: 1 -->\n",
       "<svg width=\"434pt\" height=\"160pt\"\n",
       " viewBox=\"0.00 0.00 434.00 160.00\" xmlns=\"http://www.w3.org/2000/svg\" xmlns:xlink=\"http://www.w3.org/1999/xlink\">\n",
       "<g id=\"graph0\" class=\"graph\" transform=\"scale(1 1) rotate(0) translate(4 156)\">\n",
       "<polygon fill=\"white\" stroke=\"transparent\" points=\"-4,4 -4,-156 430,-156 430,4 -4,4\"/>\n",
       "<!-- c71270f3da7e45e6b8faca8d36f79a7a -->\n",
       "<g id=\"node1\" class=\"node\">\n",
       "<title>c71270f3da7e45e6b8faca8d36f79a7a</title>\n",
       "<text text-anchor=\"middle\" x=\"27\" y=\"-119.5\" font-family=\"JetBrains Mono\" font-size=\"15.00\">0</text>\n",
       "</g>\n",
       "<!-- 0365612a155447f3a00b1d6a91aaa2e1 -->\n",
       "<g id=\"node2\" class=\"node\">\n",
       "<title>0365612a155447f3a00b1d6a91aaa2e1</title>\n",
       "<path fill=\"#f0c1be\" stroke=\"#d03a2f\" stroke-width=\"2.7\" d=\"M136,-152C136,-152 102,-152 102,-152 96,-152 90,-146 90,-140 90,-140 90,-106 90,-106 90,-100 96,-94 102,-94 102,-94 136,-94 136,-94 142,-94 148,-100 148,-106 148,-106 148,-140 148,-140 148,-146 142,-152 136,-152\"/>\n",
       "<text text-anchor=\"middle\" x=\"119\" y=\"-118\" font-family=\"JetBrains Mono\" font-size=\"20.00\">X</text>\n",
       "</g>\n",
       "<!-- c71270f3da7e45e6b8faca8d36f79a7a&#45;&#45;0365612a155447f3a00b1d6a91aaa2e1 -->\n",
       "<g id=\"edge1\" class=\"edge\">\n",
       "<title>c71270f3da7e45e6b8faca8d36f79a7a&#45;&#45;0365612a155447f3a00b1d6a91aaa2e1</title>\n",
       "<path fill=\"none\" stroke=\"black\" stroke-width=\"2.7\" d=\"M54.03,-123C65.25,-123 78.38,-123 89.82,-123\"/>\n",
       "</g>\n",
       "<!-- 5c39c1fdc4f14f879a197568a93c555c -->\n",
       "<g id=\"node6\" class=\"node\">\n",
       "<title>5c39c1fdc4f14f879a197568a93c555c</title>\n",
       "<text text-anchor=\"middle\" x=\"27\" y=\"-72.5\" font-family=\"JetBrains Mono\" font-size=\"15.00\">1</text>\n",
       "</g>\n",
       "<!-- c71270f3da7e45e6b8faca8d36f79a7a&#45;&#45;5c39c1fdc4f14f879a197568a93c555c -->\n",
       "<!-- 5ca0abfacd78470bad5629a03f1c0138 -->\n",
       "<g id=\"node3\" class=\"node\">\n",
       "<title>5ca0abfacd78470bad5629a03f1c0138</title>\n",
       "<polygon fill=\"black\" stroke=\"black\" stroke-width=\"1.35\" points=\"213.5,-123.5 212.5,-123.5 212.5,-122.5 213.5,-122.5 213.5,-123.5\"/>\n",
       "</g>\n",
       "<!-- 0365612a155447f3a00b1d6a91aaa2e1&#45;&#45;5ca0abfacd78470bad5629a03f1c0138 -->\n",
       "<g id=\"edge2\" class=\"edge\">\n",
       "<title>0365612a155447f3a00b1d6a91aaa2e1&#45;&#45;5ca0abfacd78470bad5629a03f1c0138</title>\n",
       "<path fill=\"none\" stroke=\"black\" stroke-width=\"2.7\" d=\"M148.1,-123C174.31,-123 209.71,-123 211.89,-123\"/>\n",
       "</g>\n",
       "<!-- 66181ec6aaa845578bc8091d476d00ed -->\n",
       "<g id=\"node4\" class=\"node\">\n",
       "<title>66181ec6aaa845578bc8091d476d00ed</title>\n",
       "<polygon fill=\"black\" stroke=\"black\" stroke-width=\"1.35\" points=\"307.5,-123.5 306.5,-123.5 306.5,-122.5 307.5,-122.5 307.5,-123.5\"/>\n",
       "</g>\n",
       "<!-- 5ca0abfacd78470bad5629a03f1c0138&#45;&#45;66181ec6aaa845578bc8091d476d00ed -->\n",
       "<g id=\"edge3\" class=\"edge\">\n",
       "<title>5ca0abfacd78470bad5629a03f1c0138&#45;&#45;66181ec6aaa845578bc8091d476d00ed</title>\n",
       "<path fill=\"none\" stroke=\"black\" stroke-width=\"2.7\" d=\"M214.07,-123C216.81,-123 303.24,-123 305.94,-123\"/>\n",
       "</g>\n",
       "<!-- 314b49c6874f4046bd1a23b7d1617c2a -->\n",
       "<g id=\"node5\" class=\"node\">\n",
       "<title>314b49c6874f4046bd1a23b7d1617c2a</title>\n",
       "</g>\n",
       "<!-- 66181ec6aaa845578bc8091d476d00ed&#45;&#45;314b49c6874f4046bd1a23b7d1617c2a -->\n",
       "<g id=\"edge4\" class=\"edge\">\n",
       "<title>66181ec6aaa845578bc8091d476d00ed&#45;&#45;314b49c6874f4046bd1a23b7d1617c2a</title>\n",
       "<path fill=\"none\" stroke=\"black\" stroke-width=\"2.7\" d=\"M308.07,-123C309.8,-123 345.79,-123 371.7,-123\"/>\n",
       "</g>\n",
       "<!-- 05dc1adc622e4d9584a9f4ab6321ff1b -->\n",
       "<g id=\"node10\" class=\"node\">\n",
       "<title>05dc1adc622e4d9584a9f4ab6321ff1b</title>\n",
       "</g>\n",
       "<!-- 314b49c6874f4046bd1a23b7d1617c2a&#45;&#45;05dc1adc622e4d9584a9f4ab6321ff1b -->\n",
       "<!-- e72119c079d04e968ebf60cec5324774 -->\n",
       "<g id=\"node7\" class=\"node\">\n",
       "<title>e72119c079d04e968ebf60cec5324774</title>\n",
       "<polygon fill=\"black\" stroke=\"black\" stroke-width=\"1.35\" points=\"119.5,-76.5 118.5,-76.5 118.5,-75.5 119.5,-75.5 119.5,-76.5\"/>\n",
       "</g>\n",
       "<!-- 5c39c1fdc4f14f879a197568a93c555c&#45;&#45;e72119c079d04e968ebf60cec5324774 -->\n",
       "<g id=\"edge5\" class=\"edge\">\n",
       "<title>5c39c1fdc4f14f879a197568a93c555c&#45;&#45;e72119c079d04e968ebf60cec5324774</title>\n",
       "<path fill=\"none\" stroke=\"black\" stroke-width=\"2.7\" d=\"M54.03,-76C79.78,-76 115.67,-76 117.89,-76\"/>\n",
       "</g>\n",
       "<!-- 1356f77de1ba4096a8af27a623cff210 -->\n",
       "<g id=\"node11\" class=\"node\">\n",
       "<title>1356f77de1ba4096a8af27a623cff210</title>\n",
       "<text text-anchor=\"middle\" x=\"27\" y=\"-25.5\" font-family=\"JetBrains Mono\" font-size=\"15.00\">2</text>\n",
       "</g>\n",
       "<!-- 5c39c1fdc4f14f879a197568a93c555c&#45;&#45;1356f77de1ba4096a8af27a623cff210 -->\n",
       "<!-- 942bdd97566b408f9b07ca996d4a9297 -->\n",
       "<g id=\"node8\" class=\"node\">\n",
       "<title>942bdd97566b408f9b07ca996d4a9297</title>\n",
       "<path fill=\"#f0c1be\" stroke=\"#d03a2f\" stroke-width=\"2.7\" d=\"M230,-105C230,-105 196,-105 196,-105 190,-105 184,-99 184,-93 184,-93 184,-59 184,-59 184,-53 190,-47 196,-47 196,-47 230,-47 230,-47 236,-47 242,-53 242,-59 242,-59 242,-93 242,-93 242,-99 236,-105 230,-105\"/>\n",
       "<text text-anchor=\"middle\" x=\"213\" y=\"-71\" font-family=\"JetBrains Mono\" font-size=\"20.00\">Y</text>\n",
       "</g>\n",
       "<!-- e72119c079d04e968ebf60cec5324774&#45;&#45;942bdd97566b408f9b07ca996d4a9297 -->\n",
       "<g id=\"edge6\" class=\"edge\">\n",
       "<title>e72119c079d04e968ebf60cec5324774&#45;&#45;942bdd97566b408f9b07ca996d4a9297</title>\n",
       "<path fill=\"none\" stroke=\"black\" stroke-width=\"2.7\" d=\"M120.07,-76C121.81,-76 157.28,-76 183.65,-76\"/>\n",
       "</g>\n",
       "<!-- c7c7933dc27d4355a4a36500a5cdf1fb -->\n",
       "<g id=\"node9\" class=\"node\">\n",
       "<title>c7c7933dc27d4355a4a36500a5cdf1fb</title>\n",
       "<polygon fill=\"black\" stroke=\"black\" stroke-width=\"1.35\" points=\"307.5,-76.5 306.5,-76.5 306.5,-75.5 307.5,-75.5 307.5,-76.5\"/>\n",
       "</g>\n",
       "<!-- 942bdd97566b408f9b07ca996d4a9297&#45;&#45;c7c7933dc27d4355a4a36500a5cdf1fb -->\n",
       "<g id=\"edge7\" class=\"edge\">\n",
       "<title>942bdd97566b408f9b07ca996d4a9297&#45;&#45;c7c7933dc27d4355a4a36500a5cdf1fb</title>\n",
       "<path fill=\"none\" stroke=\"black\" stroke-width=\"2.7\" d=\"M242.1,-76C268.31,-76 303.71,-76 305.89,-76\"/>\n",
       "</g>\n",
       "<!-- c7c7933dc27d4355a4a36500a5cdf1fb&#45;&#45;05dc1adc622e4d9584a9f4ab6321ff1b -->\n",
       "<g id=\"edge8\" class=\"edge\">\n",
       "<title>c7c7933dc27d4355a4a36500a5cdf1fb&#45;&#45;05dc1adc622e4d9584a9f4ab6321ff1b</title>\n",
       "<path fill=\"none\" stroke=\"black\" stroke-width=\"2.7\" d=\"M308.07,-76C309.8,-76 345.79,-76 371.7,-76\"/>\n",
       "</g>\n",
       "<!-- c99bc55a549a4d1c878a7b3e15edd57d -->\n",
       "<g id=\"node15\" class=\"node\">\n",
       "<title>c99bc55a549a4d1c878a7b3e15edd57d</title>\n",
       "</g>\n",
       "<!-- 05dc1adc622e4d9584a9f4ab6321ff1b&#45;&#45;c99bc55a549a4d1c878a7b3e15edd57d -->\n",
       "<!-- bc06497ef7554e11a3dd1d3d19e8e65a -->\n",
       "<g id=\"node12\" class=\"node\">\n",
       "<title>bc06497ef7554e11a3dd1d3d19e8e65a</title>\n",
       "<polygon fill=\"black\" stroke=\"black\" stroke-width=\"1.35\" points=\"119.5,-29.5 118.5,-29.5 118.5,-28.5 119.5,-28.5 119.5,-29.5\"/>\n",
       "</g>\n",
       "<!-- 1356f77de1ba4096a8af27a623cff210&#45;&#45;bc06497ef7554e11a3dd1d3d19e8e65a -->\n",
       "<g id=\"edge9\" class=\"edge\">\n",
       "<title>1356f77de1ba4096a8af27a623cff210&#45;&#45;bc06497ef7554e11a3dd1d3d19e8e65a</title>\n",
       "<path fill=\"none\" stroke=\"black\" stroke-width=\"2.7\" d=\"M54.03,-29C79.78,-29 115.67,-29 117.89,-29\"/>\n",
       "</g>\n",
       "<!-- 45d9b5efe0184634b79e53e0a750d87c -->\n",
       "<g id=\"node13\" class=\"node\">\n",
       "<title>45d9b5efe0184634b79e53e0a750d87c</title>\n",
       "<polygon fill=\"black\" stroke=\"black\" stroke-width=\"1.35\" points=\"213.5,-29.5 212.5,-29.5 212.5,-28.5 213.5,-28.5 213.5,-29.5\"/>\n",
       "</g>\n",
       "<!-- bc06497ef7554e11a3dd1d3d19e8e65a&#45;&#45;45d9b5efe0184634b79e53e0a750d87c -->\n",
       "<g id=\"edge10\" class=\"edge\">\n",
       "<title>bc06497ef7554e11a3dd1d3d19e8e65a&#45;&#45;45d9b5efe0184634b79e53e0a750d87c</title>\n",
       "<path fill=\"none\" stroke=\"black\" stroke-width=\"2.7\" d=\"M120.07,-29C122.81,-29 209.24,-29 211.94,-29\"/>\n",
       "</g>\n",
       "<!-- 86890b248f7245858a19adbea7a5458c -->\n",
       "<g id=\"node14\" class=\"node\">\n",
       "<title>86890b248f7245858a19adbea7a5458c</title>\n",
       "<path fill=\"#f0c1be\" stroke=\"#d03a2f\" stroke-width=\"2.7\" d=\"M324,-58C324,-58 290,-58 290,-58 284,-58 278,-52 278,-46 278,-46 278,-12 278,-12 278,-6 284,0 290,0 290,0 324,0 324,0 330,0 336,-6 336,-12 336,-12 336,-46 336,-46 336,-52 330,-58 324,-58\"/>\n",
       "<text text-anchor=\"middle\" x=\"307\" y=\"-24\" font-family=\"JetBrains Mono\" font-size=\"20.00\">Z</text>\n",
       "</g>\n",
       "<!-- 45d9b5efe0184634b79e53e0a750d87c&#45;&#45;86890b248f7245858a19adbea7a5458c -->\n",
       "<g id=\"edge11\" class=\"edge\">\n",
       "<title>45d9b5efe0184634b79e53e0a750d87c&#45;&#45;86890b248f7245858a19adbea7a5458c</title>\n",
       "<path fill=\"none\" stroke=\"black\" stroke-width=\"2.7\" d=\"M214.07,-29C215.81,-29 251.28,-29 277.65,-29\"/>\n",
       "</g>\n",
       "<!-- 86890b248f7245858a19adbea7a5458c&#45;&#45;c99bc55a549a4d1c878a7b3e15edd57d -->\n",
       "<g id=\"edge12\" class=\"edge\">\n",
       "<title>86890b248f7245858a19adbea7a5458c&#45;&#45;c99bc55a549a4d1c878a7b3e15edd57d</title>\n",
       "<path fill=\"none\" stroke=\"black\" stroke-width=\"2.7\" d=\"M336.48,-29C347.81,-29 360.76,-29 371.85,-29\"/>\n",
       "</g>\n",
       "</g>\n",
       "</svg>\n"
      ],
      "text/plain": [
       "<graphviz.graphs.Graph at 0x22a9eee52e0>"
      ]
     },
     "execution_count": 36,
     "metadata": {},
     "output_type": "execute_result"
    }
   ],
   "source": [
    "from qadence.draw import display\n",
    "\n",
    "display(block)"
   ]
  },
  {
   "cell_type": "markdown",
   "id": "13ddf795-bc81-4b0a-a87f-b7c968dddad0",
   "metadata": {},
   "source": [
    "Each operator above acts on a different qubit, and so chaining them in sequence is equivalent to combining them in parallel. Combining them in parallel is represented by the kronecker product of each operator. Explicitly calling the `kron()` is only possible when the qubit support is different."
   ]
  },
  {
   "cell_type": "code",
   "execution_count": 37,
   "id": "09e32885-6c5c-4793-9512-d5793e5c8718",
   "metadata": {},
   "outputs": [
    {
     "name": "stderr",
     "output_type": "stream",
     "text": [
      "\n",
      "(process:16256): Pango-WARNING **: 14:05:38.515: couldn't load font \"JetBrains Mono Not-Rotated 15\", falling back to \"Sans Not-Rotated 15\", expect ugly output.\n",
      "\n",
      "(process:16256): Pango-WARNING **: 14:05:38.519: couldn't load font \"JetBrains Mono Not-Rotated 20\", falling back to \"Sans Not-Rotated 20\", expect ugly output.\n"
     ]
    },
    {
     "data": {
      "image/svg+xml": [
       "<?xml version=\"1.0\" encoding=\"UTF-8\" standalone=\"no\"?>\n",
       "<!DOCTYPE svg PUBLIC \"-//W3C//DTD SVG 1.1//EN\"\n",
       " \"http://www.w3.org/Graphics/SVG/1.1/DTD/svg11.dtd\">\n",
       "<!-- Generated by graphviz version 2.50.0 (0)\n",
       " -->\n",
       "<!-- Pages: 1 -->\n",
       "<svg width=\"246pt\" height=\"204pt\"\n",
       " viewBox=\"0.00 0.00 246.00 204.00\" xmlns=\"http://www.w3.org/2000/svg\" xmlns:xlink=\"http://www.w3.org/1999/xlink\">\n",
       "<g id=\"graph0\" class=\"graph\" transform=\"scale(1 1) rotate(0) translate(4 200)\">\n",
       "<polygon fill=\"white\" stroke=\"transparent\" points=\"-4,4 -4,-200 242,-200 242,4 -4,4\"/>\n",
       "<!-- c1fbb12a35d5416e8205bf3019c05eec -->\n",
       "<g id=\"node1\" class=\"node\">\n",
       "<title>c1fbb12a35d5416e8205bf3019c05eec</title>\n",
       "<text text-anchor=\"middle\" x=\"27\" y=\"-163.5\" font-family=\"JetBrains Mono\" font-size=\"15.00\">0</text>\n",
       "</g>\n",
       "<!-- ed6f08bb9125477fa23dcf4f4f882d10 -->\n",
       "<g id=\"node2\" class=\"node\">\n",
       "<title>ed6f08bb9125477fa23dcf4f4f882d10</title>\n",
       "<path fill=\"#f0c1be\" stroke=\"#d03a2f\" stroke-width=\"2.7\" d=\"M136,-196C136,-196 102,-196 102,-196 96,-196 90,-190 90,-184 90,-184 90,-150 90,-150 90,-144 96,-138 102,-138 102,-138 136,-138 136,-138 142,-138 148,-144 148,-150 148,-150 148,-184 148,-184 148,-190 142,-196 136,-196\"/>\n",
       "<text text-anchor=\"middle\" x=\"119\" y=\"-162\" font-family=\"JetBrains Mono\" font-size=\"20.00\">X</text>\n",
       "</g>\n",
       "<!-- c1fbb12a35d5416e8205bf3019c05eec&#45;&#45;ed6f08bb9125477fa23dcf4f4f882d10 -->\n",
       "<g id=\"edge1\" class=\"edge\">\n",
       "<title>c1fbb12a35d5416e8205bf3019c05eec&#45;&#45;ed6f08bb9125477fa23dcf4f4f882d10</title>\n",
       "<path fill=\"none\" stroke=\"black\" stroke-width=\"2.7\" d=\"M54.03,-167C65.25,-167 78.38,-167 89.82,-167\"/>\n",
       "</g>\n",
       "<!-- de3a626d3e1048bd96abcd8d8288de50 -->\n",
       "<g id=\"node4\" class=\"node\">\n",
       "<title>de3a626d3e1048bd96abcd8d8288de50</title>\n",
       "<text text-anchor=\"middle\" x=\"27\" y=\"-94.5\" font-family=\"JetBrains Mono\" font-size=\"15.00\">1</text>\n",
       "</g>\n",
       "<!-- c1fbb12a35d5416e8205bf3019c05eec&#45;&#45;de3a626d3e1048bd96abcd8d8288de50 -->\n",
       "<!-- 6897a9112ddd4968b14418da931d29ed -->\n",
       "<g id=\"node3\" class=\"node\">\n",
       "<title>6897a9112ddd4968b14418da931d29ed</title>\n",
       "</g>\n",
       "<!-- ed6f08bb9125477fa23dcf4f4f882d10&#45;&#45;6897a9112ddd4968b14418da931d29ed -->\n",
       "<g id=\"edge2\" class=\"edge\">\n",
       "<title>ed6f08bb9125477fa23dcf4f4f882d10&#45;&#45;6897a9112ddd4968b14418da931d29ed</title>\n",
       "<path fill=\"none\" stroke=\"black\" stroke-width=\"2.7\" d=\"M148.48,-167C159.81,-167 172.76,-167 183.85,-167\"/>\n",
       "</g>\n",
       "<!-- 5278fc4b1dae42a6a4216ffa391b5da6 -->\n",
       "<g id=\"node6\" class=\"node\">\n",
       "<title>5278fc4b1dae42a6a4216ffa391b5da6</title>\n",
       "</g>\n",
       "<!-- 6897a9112ddd4968b14418da931d29ed&#45;&#45;5278fc4b1dae42a6a4216ffa391b5da6 -->\n",
       "<!-- 8a2fc91ce4094e058f1566650656b105 -->\n",
       "<g id=\"node5\" class=\"node\">\n",
       "<title>8a2fc91ce4094e058f1566650656b105</title>\n",
       "<path fill=\"#f0c1be\" stroke=\"#d03a2f\" stroke-width=\"2.7\" d=\"M136,-127C136,-127 102,-127 102,-127 96,-127 90,-121 90,-115 90,-115 90,-81 90,-81 90,-75 96,-69 102,-69 102,-69 136,-69 136,-69 142,-69 148,-75 148,-81 148,-81 148,-115 148,-115 148,-121 142,-127 136,-127\"/>\n",
       "<text text-anchor=\"middle\" x=\"119\" y=\"-93\" font-family=\"JetBrains Mono\" font-size=\"20.00\">Y</text>\n",
       "</g>\n",
       "<!-- de3a626d3e1048bd96abcd8d8288de50&#45;&#45;8a2fc91ce4094e058f1566650656b105 -->\n",
       "<g id=\"edge3\" class=\"edge\">\n",
       "<title>de3a626d3e1048bd96abcd8d8288de50&#45;&#45;8a2fc91ce4094e058f1566650656b105</title>\n",
       "<path fill=\"none\" stroke=\"black\" stroke-width=\"2.7\" d=\"M54.03,-98C65.25,-98 78.38,-98 89.82,-98\"/>\n",
       "</g>\n",
       "<!-- 8f90d85611964b6289758ea236294ff3 -->\n",
       "<g id=\"node7\" class=\"node\">\n",
       "<title>8f90d85611964b6289758ea236294ff3</title>\n",
       "<text text-anchor=\"middle\" x=\"27\" y=\"-25.5\" font-family=\"JetBrains Mono\" font-size=\"15.00\">2</text>\n",
       "</g>\n",
       "<!-- de3a626d3e1048bd96abcd8d8288de50&#45;&#45;8f90d85611964b6289758ea236294ff3 -->\n",
       "<!-- 8a2fc91ce4094e058f1566650656b105&#45;&#45;5278fc4b1dae42a6a4216ffa391b5da6 -->\n",
       "<g id=\"edge4\" class=\"edge\">\n",
       "<title>8a2fc91ce4094e058f1566650656b105&#45;&#45;5278fc4b1dae42a6a4216ffa391b5da6</title>\n",
       "<path fill=\"none\" stroke=\"black\" stroke-width=\"2.7\" d=\"M148.48,-98C159.81,-98 172.76,-98 183.85,-98\"/>\n",
       "</g>\n",
       "<!-- 3df5a0f9a2e84368990882a9ab993e83 -->\n",
       "<g id=\"node9\" class=\"node\">\n",
       "<title>3df5a0f9a2e84368990882a9ab993e83</title>\n",
       "</g>\n",
       "<!-- 5278fc4b1dae42a6a4216ffa391b5da6&#45;&#45;3df5a0f9a2e84368990882a9ab993e83 -->\n",
       "<!-- cf66f495d002454ba9c705f869495ca2 -->\n",
       "<g id=\"node8\" class=\"node\">\n",
       "<title>cf66f495d002454ba9c705f869495ca2</title>\n",
       "<path fill=\"#f0c1be\" stroke=\"#d03a2f\" stroke-width=\"2.7\" d=\"M136,-58C136,-58 102,-58 102,-58 96,-58 90,-52 90,-46 90,-46 90,-12 90,-12 90,-6 96,0 102,0 102,0 136,0 136,0 142,0 148,-6 148,-12 148,-12 148,-46 148,-46 148,-52 142,-58 136,-58\"/>\n",
       "<text text-anchor=\"middle\" x=\"119\" y=\"-24\" font-family=\"JetBrains Mono\" font-size=\"20.00\">Z</text>\n",
       "</g>\n",
       "<!-- 8f90d85611964b6289758ea236294ff3&#45;&#45;cf66f495d002454ba9c705f869495ca2 -->\n",
       "<g id=\"edge5\" class=\"edge\">\n",
       "<title>8f90d85611964b6289758ea236294ff3&#45;&#45;cf66f495d002454ba9c705f869495ca2</title>\n",
       "<path fill=\"none\" stroke=\"black\" stroke-width=\"2.7\" d=\"M54.03,-29C65.25,-29 78.38,-29 89.82,-29\"/>\n",
       "</g>\n",
       "<!-- cf66f495d002454ba9c705f869495ca2&#45;&#45;3df5a0f9a2e84368990882a9ab993e83 -->\n",
       "<g id=\"edge6\" class=\"edge\">\n",
       "<title>cf66f495d002454ba9c705f869495ca2&#45;&#45;3df5a0f9a2e84368990882a9ab993e83</title>\n",
       "<path fill=\"none\" stroke=\"black\" stroke-width=\"2.7\" d=\"M148.48,-29C159.81,-29 172.76,-29 183.85,-29\"/>\n",
       "</g>\n",
       "</g>\n",
       "</svg>\n"
      ],
      "text/plain": [
       "<graphviz.graphs.Graph at 0x22a9f18ab40>"
      ]
     },
     "execution_count": 37,
     "metadata": {},
     "output_type": "execute_result"
    }
   ],
   "source": [
    "from qadence import kron\n",
    "\n",
    "# A block doing the kronecker product of three Pauli operators\n",
    "block = kron(X(0), Y(1), Z(2)) \n",
    "\n",
    "# The @ operator is an alias for the kron() function\n",
    "block = X(0) @ Y(1) @ Z(2)\n",
    "\n",
    "display(block)"
   ]
  },
  {
   "cell_type": "markdown",
   "id": "7c6f3056-1ca9-412f-964e-574cc7c0f654",
   "metadata": {},
   "source": [
    "Some more useful tips on the block system:"
   ]
  },
  {
   "cell_type": "code",
   "execution_count": 38,
   "id": "4a0a45cd-6b48-42f6-a086-ecc46a4ac6be",
   "metadata": {},
   "outputs": [
    {
     "name": "stdout",
     "output_type": "stream",
     "text": [
      "Child block acting on qubits (0,)\n",
      "Child block acting on qubits (1,)\n",
      "Child block acting on qubits (2,)\n"
     ]
    }
   ],
   "source": [
    "n_qubits = 3\n",
    "\n",
    "# Composition functions support list comprehension syntax\n",
    "block = kron(X(i) for i in range(n_qubits))\n",
    "\n",
    "# The qubit support of any block can be inspected\n",
    "assert block.qubit_support == (0, 1, 2)\n",
    "\n",
    "# Any composite block is a tree of blocks\n",
    "for block in block.blocks:\n",
    "    print(\"Child block acting on qubits\", block.qubit_support)"
   ]
  },
  {
   "cell_type": "markdown",
   "id": "bbfef3b1-a548-406b-a1a4-23684921aef7",
   "metadata": {},
   "source": [
    "Any composite block can be equally used when composing an even more complex block. If you simply print the block, you will see an ASCII representation of the block tree:"
   ]
  },
  {
   "cell_type": "code",
   "execution_count": 39,
   "id": "ce485bda-359c-46e5-ade3-d7fc50e3ad52",
   "metadata": {},
   "outputs": [
    {
     "data": {
      "text/html": [
       "<pre style=\"white-space:pre;overflow-x:auto;line-height:normal;font-family:Menlo,'DejaVu Sans Mono',consolas,'Courier New',monospace\"></pre>\n"
      ],
      "text/plain": []
     },
     "metadata": {},
     "output_type": "display_data"
    },
    {
     "data": {
      "text/plain": [
       "ChainBlock(0,1,2)\n",
       "├── KronBlock(0,1,2)\n",
       "│   ├── X(0)\n",
       "│   ├── X(1)\n",
       "│   └── X(2)\n",
       "├── CNOT(0, 1)\n",
       "└── CNOT(1, 2)"
      ]
     },
     "execution_count": 39,
     "metadata": {},
     "output_type": "execute_result"
    }
   ],
   "source": [
    "from qadence import CNOT\n",
    "\n",
    "n_qubits = 3\n",
    "\n",
    "block = kron(X(i) for i in range(n_qubits))\n",
    "\n",
    "new_block = chain(block, CNOT(0, 1), CNOT(1, 2))\n",
    "\n",
    "new_block"
   ]
  },
  {
   "cell_type": "markdown",
   "id": "5050fbe0-6f8f-4681-a69e-80de2c8ccb8c",
   "metadata": {},
   "source": [
    "In a statevector simulation each quantum operator acting on $N$ qubits is represented as a matrix of size $2^N\\times2^N$. So far in our examples, we have only used the symbolic representation of the operators, so this matrix is not yet created (and often, it never needs to be created). Nevertheless, we can forcefully inspect it with the `tensor` method:"
   ]
  },
  {
   "cell_type": "code",
   "execution_count": 40,
   "id": "ef7be997-d141-4967-bfab-61f5d5afce2b",
   "metadata": {},
   "outputs": [
    {
     "data": {
      "text/plain": [
       "tensor([[[0.+0.j, 0.+0.j, 0.+0.j, 0.+0.j, 0.+0.j, 0.+0.j, 0.+0.j, 1.+0.j],\n",
       "         [0.+0.j, 0.+0.j, 0.+0.j, 0.+0.j, 0.+0.j, 0.+0.j, 1.+0.j, 0.+0.j],\n",
       "         [0.+0.j, 0.+0.j, 0.+0.j, 0.+0.j, 0.+0.j, 1.+0.j, 0.+0.j, 0.+0.j],\n",
       "         [0.+0.j, 0.+0.j, 0.+0.j, 0.+0.j, 1.+0.j, 0.+0.j, 0.+0.j, 0.+0.j],\n",
       "         [0.+0.j, 0.+0.j, 0.+0.j, 1.+0.j, 0.+0.j, 0.+0.j, 0.+0.j, 0.+0.j],\n",
       "         [0.+0.j, 0.+0.j, 1.+0.j, 0.+0.j, 0.+0.j, 0.+0.j, 0.+0.j, 0.+0.j],\n",
       "         [0.+0.j, 1.+0.j, 0.+0.j, 0.+0.j, 0.+0.j, 0.+0.j, 0.+0.j, 0.+0.j],\n",
       "         [1.+0.j, 0.+0.j, 0.+0.j, 0.+0.j, 0.+0.j, 0.+0.j, 0.+0.j, 0.+0.j]]])"
      ]
     },
     "execution_count": 40,
     "metadata": {},
     "output_type": "execute_result"
    }
   ],
   "source": [
    "block.tensor()"
   ]
  },
  {
   "cell_type": "markdown",
   "id": "574b6e6e-3fe8-40a3-b056-34eeca4afcb3",
   "metadata": {},
   "source": [
    "## Quickly running blocks\n",
    "\n",
    "Later on we will learn how to build more complex programs with the `QuantumModel` class to target specific applications. \n",
    "\n",
    "However, sometimes we just want to quickly apply some operators to a statevector to inspect the result. For this purpose, Qadence supports three quick execution functions:\n",
    "\n",
    "- `run`: returns the final statevector after running the block.\n",
    "- `sample`: samples from the final statevector and returns a counter.\n",
    "- `expectation`: computes the exact expectation value of an observable after running a block."
   ]
  },
  {
   "cell_type": "code",
   "execution_count": 41,
   "id": "366353c0-2290-41d6-a1d2-feb455000530",
   "metadata": {},
   "outputs": [],
   "source": [
    "from qadence import X, kron, run\n",
    "from qadence import product_state, overlap\n",
    "\n",
    "n_qubits = 3\n",
    "\n",
    "block = kron(X(i) for i in range(n_qubits))\n",
    "\n",
    "# By default the initial state is the all-zero state\n",
    "state = run(block)\n",
    "assert overlap(state, product_state(\"111\")) == 1.0\n",
    "\n",
    "# We can change it with the state argument\n",
    "init_state = product_state(\"010\")\n",
    "state = run(block, state = init_state)\n",
    "assert overlap(state, product_state(\"101\")) == 1.0"
   ]
  },
  {
   "cell_type": "markdown",
   "id": "cdd86fa2-a7df-4e9b-9c15-7e63c2ff185a",
   "metadata": {},
   "source": [
    "As you might know, on real hardware it is not possible to directly inspect the statevector. Instead quantum computing on real devices typically relies on repeatedly running experiments and measuring the final wavefunction to obtain samples of the basis states following the probability distribution encoded in the amplitudes. This is also called the $Z$-basis, as the states $|0\\rangle$ and $|1\\rangle$ are eigenvectors of the $Z$ Pauli operator:\n",
    "\n",
    "$$\n",
    "Z = \\begin{bmatrix}\n",
    "1 & 0 \\\\\n",
    "0 & -1\n",
    "\\end{bmatrix}\n",
    "$$\n",
    "\n",
    "The `sample` function replicates this behaviour by performing a certain number of shots:"
   ]
  },
  {
   "cell_type": "code",
   "execution_count": 42,
   "id": "df135dfb-a7f8-4405-8e45-ee90b1c55d56",
   "metadata": {},
   "outputs": [
    {
     "data": {
      "text/plain": [
       "[OrderedCounter({'000': 507, '111': 493})]"
      ]
     },
     "execution_count": 42,
     "metadata": {},
     "output_type": "execute_result"
    }
   ],
   "source": [
    "from qadence import H, CNOT, sample\n",
    "\n",
    "n_qubits = 3\n",
    "\n",
    "# The GHZ state (1/√2)(|000> + |111>) can be built \n",
    "# with an Hadamard gate + two CNOT gates\n",
    "block = H(0) * CNOT(0, 1) * CNOT(0, 2)\n",
    "\n",
    "sample(block, n_shots = 1000)"
   ]
  },
  {
   "cell_type": "markdown",
   "id": "bf627fcd-b668-4ce1-b82f-f42bc70c3b4f",
   "metadata": {},
   "source": [
    "The expectation value of a given observable $\\hat{O}$ is another useful output often used in quantum computing. For a quantum state $|\\psi\\rangle$, that is the quantity $\\langle \\psi|\\hat{O}|\\psi \\rangle$. In a statevector simulation, this can be computed exactly with a vector-matrix-vector product.\n",
    "\n",
    "Observables are Hermitian operators, often represented as sums of Pauli operators. Sums of operators can easily be written in Qadence with the final block composition function: the `add`."
   ]
  },
  {
   "cell_type": "code",
   "execution_count": 43,
   "id": "9079641b-f0e7-4cd1-be76-3f6bc72db495",
   "metadata": {},
   "outputs": [
    {
     "data": {
      "text/plain": [
       "tensor([[0.]])"
      ]
     },
     "execution_count": 43,
     "metadata": {},
     "output_type": "execute_result"
    }
   ],
   "source": [
    "from qadence import expectation, add\n",
    "from qadence import Z\n",
    "\n",
    "n_qubits = 3\n",
    "\n",
    "block = H(0) * CNOT(0, 1) * CNOT(0, 2)\n",
    "\n",
    "obs = add(Z(i) for i in range(n_qubits))\n",
    "\n",
    "# Or using the + operator as an alias\n",
    "obs = Z(0) + Z(1) + Z(2)\n",
    "\n",
    "expectation(block, observable = obs)"
   ]
  },
  {
   "cell_type": "markdown",
   "id": "33f83870-0da2-4eb0-bc92-aba97d350af0",
   "metadata": {},
   "source": [
    "Clearly, the value here is 0, as we used $|\\psi\\rangle=\\frac{1}{\\sqrt{2}}(|000\\rangle + |111\\rangle)$ because we are computing\n",
    "\n",
    "$$\n",
    "\\langle \\psi|\\hat{O}|\\psi \\rangle = \\frac{1}{2}(\\langle000|Z_0+Z_1+Z_2|000\\rangle + \\langle111|Z_0+Z_1+Z_2|111\\rangle) = \\frac{1}{2}(3 - 3) = 0\n",
    "$$\n",
    "\n",
    "Note that exactly computing the expectation value like we did here is not possilbe on real hardware! The most you can do is to use the samples obtained to approximate the expectation value. For $Z$ expectations this is quite direct since it is given by the probability of measuring $\\ket{0}$ minus the probability of measuring $\\ket{1}$, which you can estimate from the sample histogram.\n"
   ]
  },
  {
   "cell_type": "markdown",
   "id": "f22cf680-1772-4036-90d7-1d732b26e934",
   "metadata": {},
   "source": [
    "## Parametric operators"
   ]
  },
  {
   "cell_type": "markdown",
   "id": "5bc9a1fa-25e1-4629-93f0-65e65009519a",
   "metadata": {},
   "source": [
    "Certain operators have variable parameters that can take different values. The most basic ones are the `RX`, `RY` and `RZ` which perform a rotation on a single qubit by a certain angle.\n",
    "\n",
    "$$\n",
    "R_x(\\theta)=\\begin{bmatrix}\n",
    "\\cos\\frac{\\theta}{2} & -i\\sin\\frac{\\theta}{2} \\\\\n",
    "-i\\sin\\frac{\\theta}{2} & \\cos\\frac{\\theta}{2}\n",
    "\\end{bmatrix}\n",
    "\\qquad\n",
    "R_y(\\theta)=\\begin{bmatrix}\n",
    "\\cos\\frac{\\theta}{2} & -\\sin\\frac{\\theta}{2} \\\\\n",
    "\\sin\\frac{\\theta}{2} & \\cos\\frac{\\theta}{2}\n",
    "\\end{bmatrix}\n",
    "\\qquad\n",
    "R_z(\\theta)=\\begin{bmatrix}\n",
    "e^{-i\\theta/2} & 0 \\\\\n",
    "0 & e^{i\\theta/2}\n",
    "\\end{bmatrix}\n",
    "$$"
   ]
  },
  {
   "cell_type": "code",
   "execution_count": 44,
   "id": "705bef65-e63c-4f9b-93c3-4d58f329ba83",
   "metadata": {},
   "outputs": [],
   "source": [
    "from qadence import RX, RY, RZ, PI\n",
    "\n",
    "angle = PI\n",
    "\n",
    "block = RX(0, angle) * RY(1, angle) * RZ(2, angle)"
   ]
  },
  {
   "cell_type": "markdown",
   "id": "d74388a9-d173-4777-aa3a-097b4ec32875",
   "metadata": {},
   "source": [
    "For certain applications it can be useful to delay defining the value of the parameter until the program is executed. Either because the parameter will be used as a data input (feature parameter), or because we want to mark that parameter as something to be optimized depending on a given goal (variational parameter).\n",
    "\n",
    "Both of these parameter types and fully symbolic parameter expressions are supported in Qadence through an integration with Sympy."
   ]
  },
  {
   "cell_type": "code",
   "execution_count": 45,
   "id": "7f6d9bb5-8453-4faf-b973-af940cd4c87c",
   "metadata": {},
   "outputs": [
    {
     "name": "stderr",
     "output_type": "stream",
     "text": [
      "\n",
      "(process:12944): Pango-WARNING **: 14:05:38.829: couldn't load font \"JetBrains Mono Not-Rotated 15\", falling back to \"Sans Not-Rotated 15\", expect ugly output.\n",
      "\n",
      "(process:12944): Pango-WARNING **: 14:05:38.836: couldn't load font \"JetBrains Mono Not-Rotated 20\", falling back to \"Sans Not-Rotated 20\", expect ugly output.\n"
     ]
    },
    {
     "data": {
      "image/svg+xml": [
       "<?xml version=\"1.0\" encoding=\"UTF-8\" standalone=\"no\"?>\n",
       "<!DOCTYPE svg PUBLIC \"-//W3C//DTD SVG 1.1//EN\"\n",
       " \"http://www.w3.org/Graphics/SVG/1.1/DTD/svg11.dtd\">\n",
       "<!-- Generated by graphviz version 2.50.0 (0)\n",
       " -->\n",
       "<!-- Pages: 1 -->\n",
       "<svg width=\"449pt\" height=\"66pt\"\n",
       " viewBox=\"0.00 0.00 449.00 66.00\" xmlns=\"http://www.w3.org/2000/svg\" xmlns:xlink=\"http://www.w3.org/1999/xlink\">\n",
       "<g id=\"graph0\" class=\"graph\" transform=\"scale(1 1) rotate(0) translate(4 62)\">\n",
       "<polygon fill=\"white\" stroke=\"transparent\" points=\"-4,4 -4,-62 445,-62 445,4 -4,4\"/>\n",
       "<!-- e79beab72c844e7c9c525e46cb615147 -->\n",
       "<g id=\"node1\" class=\"node\">\n",
       "<title>e79beab72c844e7c9c525e46cb615147</title>\n",
       "<text text-anchor=\"middle\" x=\"27\" y=\"-25.5\" font-family=\"JetBrains Mono\" font-size=\"15.00\">0</text>\n",
       "</g>\n",
       "<!-- 915bf2b4d6784e2ab6bc49eb19a86313 -->\n",
       "<g id=\"node2\" class=\"node\">\n",
       "<title>915bf2b4d6784e2ab6bc49eb19a86313</title>\n",
       "<path fill=\"#afd3e9\" stroke=\"#3182bd\" stroke-width=\"2.7\" d=\"M339,-58C339,-58 102,-58 102,-58 96,-58 90,-52 90,-46 90,-46 90,-12 90,-12 90,-6 96,0 102,0 102,0 339,0 339,0 345,0 351,-6 351,-12 351,-12 351,-46 351,-46 351,-52 345,-58 339,-58\"/>\n",
       "<text text-anchor=\"middle\" x=\"220.5\" y=\"-24\" font-family=\"JetBrains Mono\" font-size=\"20.00\">RX(2*sin(theta + x**2))</text>\n",
       "</g>\n",
       "<!-- e79beab72c844e7c9c525e46cb615147&#45;&#45;915bf2b4d6784e2ab6bc49eb19a86313 -->\n",
       "<g id=\"edge1\" class=\"edge\">\n",
       "<title>e79beab72c844e7c9c525e46cb615147&#45;&#45;915bf2b4d6784e2ab6bc49eb19a86313</title>\n",
       "<path fill=\"none\" stroke=\"black\" stroke-width=\"2.7\" d=\"M54.23,-29C64.26,-29 76.52,-29 89.76,-29\"/>\n",
       "</g>\n",
       "<!-- 743c6b29d9c34cb39a270c124623aec9 -->\n",
       "<g id=\"node3\" class=\"node\">\n",
       "<title>743c6b29d9c34cb39a270c124623aec9</title>\n",
       "</g>\n",
       "<!-- 915bf2b4d6784e2ab6bc49eb19a86313&#45;&#45;743c6b29d9c34cb39a270c124623aec9 -->\n",
       "<g id=\"edge2\" class=\"edge\">\n",
       "<title>915bf2b4d6784e2ab6bc49eb19a86313&#45;&#45;743c6b29d9c34cb39a270c124623aec9</title>\n",
       "<path fill=\"none\" stroke=\"black\" stroke-width=\"2.7\" d=\"M351.09,-29C364.48,-29 376.85,-29 386.96,-29\"/>\n",
       "</g>\n",
       "</g>\n",
       "</svg>\n"
      ],
      "text/plain": [
       "<graphviz.graphs.Graph at 0x22a9eee6360>"
      ]
     },
     "execution_count": 45,
     "metadata": {},
     "output_type": "execute_result"
    }
   ],
   "source": [
    "from qadence import FeatureParameter, VariationalParameter\n",
    "from sympy import cos, sin, exp\n",
    "from qadence.draw import display\n",
    "\n",
    "x = FeatureParameter(\"x\")\n",
    "theta = VariationalParameter(\"theta\")\n",
    "\n",
    "param = 2*sin(x**2 + theta)\n",
    "\n",
    "block = RX(0, param)\n",
    "\n",
    "display(block)"
   ]
  },
  {
   "cell_type": "markdown",
   "id": "1391c8da-8f06-4bd0-a03a-53485aaaae6e",
   "metadata": {},
   "source": [
    "To execute the block above, we need to provide a value for `x`, since we marked it as a feature parameter. This is done through the values dictionary. Typically, values need to be passed as torch tensors."
   ]
  },
  {
   "cell_type": "code",
   "execution_count": 46,
   "id": "9d07d11b-be31-49d2-9da3-cf72388e2307",
   "metadata": {},
   "outputs": [
    {
     "data": {
      "text/plain": [
       "tensor([ 0.2337, -0.3928, -0.4158,  0.8239])"
      ]
     },
     "execution_count": 46,
     "metadata": {},
     "output_type": "execute_result"
    }
   ],
   "source": [
    "import torch\n",
    "from qadence import expectation, Z\n",
    "\n",
    "# Batching of various input values is supported\n",
    "values = {\"x\": torch.tensor([0.0, 1.0, 2.0, 3.0])}\n",
    "\n",
    "# Resulting in a batch of results, one for each input\n",
    "result = expectation(block, observable = Z(0), values = values)\n",
    "\n",
    "# The first dimension in the batch dimension\n",
    "assert list(result.size()) == [4, 1]\n",
    "\n",
    "# We can get rid of the last dimension with the squeeze() method for torch tensors\n",
    "result.squeeze()"
   ]
  },
  {
   "cell_type": "markdown",
   "id": "2de0c4c5-4841-4258-8cad-e0fa9e1cd676",
   "metadata": {},
   "source": [
    "Note that we did not need to pass a value for `theta`. This is because we marked it as a variational parameter, so it was randomly initialized to some value between 0 and 1. Nevertheless, we could override this by still including a value for it in the values dictionary."
   ]
  },
  {
   "cell_type": "markdown",
   "id": "415487f1-063c-40f3-a73d-319adac9b7d5",
   "metadata": {},
   "source": [
    "## Running your first optimization loop\n",
    "\n",
    "Optimizing the parameters of a variational program to achieve a certain goal is a very popular approach to problem solving. After all, that is the essence of Neural Networks (NNs).\n",
    "\n",
    "### The PyTorch magic in a nutshell\n",
    "Generally, defining a neural network model in PyTorch follows the recipe of:\n",
    "- Creating a class inheriting from the `torch.nn.Module` class [(see here)](https://pytorch.org/docs/stable/generated/torch.nn.Module.html)\n",
    "- Initializing (in the `__init__`) the layers of the neural network, which represent specific linear algebra operations.\n",
    "- Overriding the `forward` method to define the exact sequence of operations that will transform the input to the output.\n",
    "\n",
    "Utilizing this recipe is essential to using the [automatic differentiation engine in PyTorch](https://pytorch.org/tutorials/beginner/blitz/autograd_tutorial.html). This enables efficient derivatives of the model output with respect to the model parameters and allows using gradient-based optimization for efficient neural network training.\n",
    "\n",
    "### Quantum Neural Networks\n",
    "\n",
    "With the popularity of classical NNs, it didn't take long before Quantum Neural Networks (QNNs) were invented. This is a general term, but typically a QNN is a variational quantum circuit and it requires three things:\n",
    "- A feature map, which is a sequence of operations used to encode some classical input data into a quantum state.\n",
    "- An ansatz, which is a sequence of operations with some trainable variational parameters.\n",
    "- An observable, or generally some measurement procedure that defines how the output is obtained from the model.\n",
    "\n",
    "Qadence connects with PyTorch through the `QuantumModel` class, which inherits from the `torch.nn.Module`, and allows us to use the autograd engine to train variational quantum circuits."
   ]
  },
  {
   "cell_type": "markdown",
   "id": "a662a972-264c-4d64-880c-3ee3a4ff66aa",
   "metadata": {},
   "source": [
    "## The feature map\n",
    "\n",
    "The feature map is often a sequence of rotations where the angle depends on some input data. You already learned what you need to do this manually."
   ]
  },
  {
   "cell_type": "code",
   "execution_count": 47,
   "id": "16d85ee5-ba09-49ce-b047-a9db7ec82612",
   "metadata": {},
   "outputs": [],
   "source": [
    "from qadence import RX, FeatureParameter, kron\n",
    "\n",
    "n_qubits = 3\n",
    "\n",
    "x = FeatureParameter(\"x\")\n",
    "\n",
    "fm = kron(RX(i, x) for i in range(n_qubits))"
   ]
  },
  {
   "cell_type": "markdown",
   "id": "275f49c2-ca0f-4268-830b-fd3af312d881",
   "metadata": {},
   "source": [
    "However, certain applications require different tricks with the feature map, which we will not get into here, and for that the `feature_map` constructor function [(check documentation)](https://pasqal-io.github.io/qadence/latest/content/qml_constructors/) becomes useful. With the call below we get exactly the same block we just wrote above."
   ]
  },
  {
   "cell_type": "code",
   "execution_count": 48,
   "id": "5cc061ae-9542-4311-86e0-daef922187bf",
   "metadata": {},
   "outputs": [],
   "source": [
    "from qadence import feature_map\n",
    "\n",
    "fm = feature_map(n_qubits, param = \"x\")"
   ]
  },
  {
   "cell_type": "markdown",
   "id": "f17ef023-654f-4463-b6a3-a069deae97cd",
   "metadata": {},
   "source": [
    "## The Ansatz\n",
    "\n",
    "The ansatz is a sequence of operations that includes a few (or several) trainable parameters to be optimized. A common type of ansatz used is the so-called Hardware-Efficient-Ansatz (HEA), which is defined in layers of single-qubit rotations followed by some entangling operation (a layer of CNOTs, in the simplest case).\n",
    "\n",
    "The `hea` function in Qadence is useful to quickly build such circuits (also described in the previous documentation page).\n",
    "\n",
    "However, you are free to define ansatze however you want, and sometimes you don't even need that many parameters... It all depends on the structure of the problem you are trying to solve."
   ]
  },
  {
   "cell_type": "code",
   "execution_count": 49,
   "id": "4bdace6e-197b-476b-b180-6621beef22e9",
   "metadata": {},
   "outputs": [
    {
     "name": "stderr",
     "output_type": "stream",
     "text": [
      "\n",
      "(process:9492): Pango-WARNING **: 14:05:38.931: couldn't load font \"JetBrains Mono Not-Rotated 15\", falling back to \"Sans Not-Rotated 15\", expect ugly output.\n",
      "\n",
      "(process:9492): Pango-WARNING **: 14:05:38.936: couldn't load font \"JetBrains Mono Not-Rotated 20\", falling back to \"Sans Not-Rotated 20\", expect ugly output.\n"
     ]
    },
    {
     "data": {
      "image/svg+xml": [
       "<?xml version=\"1.0\" encoding=\"UTF-8\" standalone=\"no\"?>\n",
       "<!DOCTYPE svg PUBLIC \"-//W3C//DTD SVG 1.1//EN\"\n",
       " \"http://www.w3.org/Graphics/SVG/1.1/DTD/svg11.dtd\">\n",
       "<!-- Generated by graphviz version 2.50.0 (0)\n",
       " -->\n",
       "<!-- Pages: 1 -->\n",
       "<svg width=\"1606pt\" height=\"204pt\"\n",
       " viewBox=\"0.00 0.00 1606.00 204.00\" xmlns=\"http://www.w3.org/2000/svg\" xmlns:xlink=\"http://www.w3.org/1999/xlink\">\n",
       "<g id=\"graph0\" class=\"graph\" transform=\"scale(1 1) rotate(0) translate(4 200)\">\n",
       "<polygon fill=\"white\" stroke=\"transparent\" points=\"-4,4 -4,-200 1602,-200 1602,4 -4,4\"/>\n",
       "<!-- def06b49a73642919222042adb21f496 -->\n",
       "<g id=\"node1\" class=\"node\">\n",
       "<title>def06b49a73642919222042adb21f496</title>\n",
       "<text text-anchor=\"middle\" x=\"27\" y=\"-163.5\" font-family=\"JetBrains Mono\" font-size=\"15.00\">0</text>\n",
       "</g>\n",
       "<!-- 12ff3757ace944c88c1e02b49304a216 -->\n",
       "<g id=\"node2\" class=\"node\">\n",
       "<title>12ff3757ace944c88c1e02b49304a216</title>\n",
       "<path fill=\"#afd3e9\" stroke=\"#3182bd\" stroke-width=\"2.7\" d=\"M217,-196C217,-196 102,-196 102,-196 96,-196 90,-190 90,-184 90,-184 90,-150 90,-150 90,-144 96,-138 102,-138 102,-138 217,-138 217,-138 223,-138 229,-144 229,-150 229,-150 229,-184 229,-184 229,-190 223,-196 217,-196\"/>\n",
       "<text text-anchor=\"middle\" x=\"159.5\" y=\"-162\" font-family=\"JetBrains Mono\" font-size=\"20.00\">RX(theta₀)</text>\n",
       "</g>\n",
       "<!-- def06b49a73642919222042adb21f496&#45;&#45;12ff3757ace944c88c1e02b49304a216 -->\n",
       "<g id=\"edge1\" class=\"edge\">\n",
       "<title>def06b49a73642919222042adb21f496&#45;&#45;12ff3757ace944c88c1e02b49304a216</title>\n",
       "<path fill=\"none\" stroke=\"black\" stroke-width=\"2.7\" d=\"M54.09,-167C64.51,-167 77.03,-167 89.74,-167\"/>\n",
       "</g>\n",
       "<!-- c42e3b0c7037424a9806124342b4cb49 -->\n",
       "<g id=\"node13\" class=\"node\">\n",
       "<title>c42e3b0c7037424a9806124342b4cb49</title>\n",
       "<text text-anchor=\"middle\" x=\"27\" y=\"-94.5\" font-family=\"JetBrains Mono\" font-size=\"15.00\">1</text>\n",
       "</g>\n",
       "<!-- def06b49a73642919222042adb21f496&#45;&#45;c42e3b0c7037424a9806124342b4cb49 -->\n",
       "<!-- 1297d020a8c94e049e2e481544cca665 -->\n",
       "<g id=\"node3\" class=\"node\">\n",
       "<title>1297d020a8c94e049e2e481544cca665</title>\n",
       "<path fill=\"#afd3e9\" stroke=\"#3182bd\" stroke-width=\"2.7\" d=\"M391,-196C391,-196 277,-196 277,-196 271,-196 265,-190 265,-184 265,-184 265,-150 265,-150 265,-144 271,-138 277,-138 277,-138 391,-138 391,-138 397,-138 403,-144 403,-150 403,-150 403,-184 403,-184 403,-190 397,-196 391,-196\"/>\n",
       "<text text-anchor=\"middle\" x=\"334\" y=\"-162\" font-family=\"JetBrains Mono\" font-size=\"20.00\">RY(theta₃)</text>\n",
       "</g>\n",
       "<!-- 12ff3757ace944c88c1e02b49304a216&#45;&#45;1297d020a8c94e049e2e481544cca665 -->\n",
       "<g id=\"edge2\" class=\"edge\">\n",
       "<title>12ff3757ace944c88c1e02b49304a216&#45;&#45;1297d020a8c94e049e2e481544cca665</title>\n",
       "<path fill=\"none\" stroke=\"black\" stroke-width=\"2.7\" d=\"M229.17,-167C240.92,-167 253.11,-167 264.85,-167\"/>\n",
       "</g>\n",
       "<!-- bffa613b1a0b4bcd982d2e8333335555 -->\n",
       "<g id=\"node4\" class=\"node\">\n",
       "<title>bffa613b1a0b4bcd982d2e8333335555</title>\n",
       "<path fill=\"#afd3e9\" stroke=\"#3182bd\" stroke-width=\"2.7\" d=\"M566,-196C566,-196 451,-196 451,-196 445,-196 439,-190 439,-184 439,-184 439,-150 439,-150 439,-144 445,-138 451,-138 451,-138 566,-138 566,-138 572,-138 578,-144 578,-150 578,-150 578,-184 578,-184 578,-190 572,-196 566,-196\"/>\n",
       "<text text-anchor=\"middle\" x=\"508.5\" y=\"-162\" font-family=\"JetBrains Mono\" font-size=\"20.00\">RX(theta₆)</text>\n",
       "</g>\n",
       "<!-- 1297d020a8c94e049e2e481544cca665&#45;&#45;bffa613b1a0b4bcd982d2e8333335555 -->\n",
       "<g id=\"edge3\" class=\"edge\">\n",
       "<title>1297d020a8c94e049e2e481544cca665&#45;&#45;bffa613b1a0b4bcd982d2e8333335555</title>\n",
       "<path fill=\"none\" stroke=\"black\" stroke-width=\"2.7\" d=\"M403.18,-167C414.95,-167 427.19,-167 438.97,-167\"/>\n",
       "</g>\n",
       "<!-- bbf0d7846b8a4b4fa73d5189c72684a7 -->\n",
       "<g id=\"node5\" class=\"node\">\n",
       "<title>bbf0d7846b8a4b4fa73d5189c72684a7</title>\n",
       "<ellipse fill=\"black\" stroke=\"black\" cx=\"643\" cy=\"-167\" rx=\"7.2\" ry=\"7.2\"/>\n",
       "</g>\n",
       "<!-- bffa613b1a0b4bcd982d2e8333335555&#45;&#45;bbf0d7846b8a4b4fa73d5189c72684a7 -->\n",
       "<g id=\"edge4\" class=\"edge\">\n",
       "<title>bffa613b1a0b4bcd982d2e8333335555&#45;&#45;bbf0d7846b8a4b4fa73d5189c72684a7</title>\n",
       "<path fill=\"none\" stroke=\"black\" stroke-width=\"2.7\" d=\"M578.08,-167C601.57,-167 624.67,-167 635.54,-167\"/>\n",
       "</g>\n",
       "<!-- fcb9858aab7742ef8b84fb7cfb4c4dde -->\n",
       "<g id=\"node6\" class=\"node\">\n",
       "<title>fcb9858aab7742ef8b84fb7cfb4c4dde</title>\n",
       "<polygon fill=\"black\" stroke=\"black\" stroke-width=\"1.35\" points=\"737.5,-167.5 736.5,-167.5 736.5,-166.5 737.5,-166.5 737.5,-167.5\"/>\n",
       "</g>\n",
       "<!-- bbf0d7846b8a4b4fa73d5189c72684a7&#45;&#45;fcb9858aab7742ef8b84fb7cfb4c4dde -->\n",
       "<g id=\"edge5\" class=\"edge\">\n",
       "<title>bbf0d7846b8a4b4fa73d5189c72684a7&#45;&#45;fcb9858aab7742ef8b84fb7cfb4c4dde</title>\n",
       "<path fill=\"none\" stroke=\"black\" stroke-width=\"2.7\" d=\"M650.32,-167C670.78,-167 733.98,-167 735.95,-167\"/>\n",
       "</g>\n",
       "<!-- 0c2f78021b2e40f3957fd5030fff65bd -->\n",
       "<g id=\"node7\" class=\"node\">\n",
       "<title>0c2f78021b2e40f3957fd5030fff65bd</title>\n",
       "<path fill=\"#afd3e9\" stroke=\"#3182bd\" stroke-width=\"2.7\" d=\"M934,-196C934,-196 819,-196 819,-196 813,-196 807,-190 807,-184 807,-184 807,-150 807,-150 807,-144 813,-138 819,-138 819,-138 934,-138 934,-138 940,-138 946,-144 946,-150 946,-150 946,-184 946,-184 946,-190 940,-196 934,-196\"/>\n",
       "<text text-anchor=\"middle\" x=\"876.5\" y=\"-162\" font-family=\"JetBrains Mono\" font-size=\"20.00\">RX(theta₉)</text>\n",
       "</g>\n",
       "<!-- fcb9858aab7742ef8b84fb7cfb4c4dde&#45;&#45;0c2f78021b2e40f3957fd5030fff65bd -->\n",
       "<g id=\"edge6\" class=\"edge\">\n",
       "<title>fcb9858aab7742ef8b84fb7cfb4c4dde&#45;&#45;0c2f78021b2e40f3957fd5030fff65bd</title>\n",
       "<path fill=\"none\" stroke=\"black\" stroke-width=\"2.7\" d=\"M738.1,-167C740.15,-167 773.47,-167 806.78,-167\"/>\n",
       "</g>\n",
       "<!-- 93f96e6cb4644a5c9d48a9799f534926 -->\n",
       "<g id=\"node8\" class=\"node\">\n",
       "<title>93f96e6cb4644a5c9d48a9799f534926</title>\n",
       "<path fill=\"#afd3e9\" stroke=\"#3182bd\" stroke-width=\"2.7\" d=\"M1123,-196C1123,-196 999,-196 999,-196 993,-196 987,-190 987,-184 987,-184 987,-150 987,-150 987,-144 993,-138 999,-138 999,-138 1123,-138 1123,-138 1129,-138 1135,-144 1135,-150 1135,-150 1135,-184 1135,-184 1135,-190 1129,-196 1123,-196\"/>\n",
       "<text text-anchor=\"middle\" x=\"1061\" y=\"-162\" font-family=\"JetBrains Mono\" font-size=\"20.00\">RY(theta₁₂)</text>\n",
       "</g>\n",
       "<!-- 0c2f78021b2e40f3957fd5030fff65bd&#45;&#45;93f96e6cb4644a5c9d48a9799f534926 -->\n",
       "<g id=\"edge7\" class=\"edge\">\n",
       "<title>0c2f78021b2e40f3957fd5030fff65bd&#45;&#45;93f96e6cb4644a5c9d48a9799f534926</title>\n",
       "<path fill=\"none\" stroke=\"black\" stroke-width=\"2.7\" d=\"M946.24,-167C959.47,-167 973.38,-167 986.76,-167\"/>\n",
       "</g>\n",
       "<!-- cb8f6025518d4e34945e959ab2112cdb -->\n",
       "<g id=\"node9\" class=\"node\">\n",
       "<title>cb8f6025518d4e34945e959ab2112cdb</title>\n",
       "<path fill=\"#afd3e9\" stroke=\"#3182bd\" stroke-width=\"2.7\" d=\"M1308,-196C1308,-196 1183,-196 1183,-196 1177,-196 1171,-190 1171,-184 1171,-184 1171,-150 1171,-150 1171,-144 1177,-138 1183,-138 1183,-138 1308,-138 1308,-138 1314,-138 1320,-144 1320,-150 1320,-150 1320,-184 1320,-184 1320,-190 1314,-196 1308,-196\"/>\n",
       "<text text-anchor=\"middle\" x=\"1245.5\" y=\"-162\" font-family=\"JetBrains Mono\" font-size=\"20.00\">RX(theta₁₅)</text>\n",
       "</g>\n",
       "<!-- 93f96e6cb4644a5c9d48a9799f534926&#45;&#45;cb8f6025518d4e34945e959ab2112cdb -->\n",
       "<g id=\"edge8\" class=\"edge\">\n",
       "<title>93f96e6cb4644a5c9d48a9799f534926&#45;&#45;cb8f6025518d4e34945e959ab2112cdb</title>\n",
       "<path fill=\"none\" stroke=\"black\" stroke-width=\"2.7\" d=\"M1135.18,-167C1146.88,-167 1158.99,-167 1170.71,-167\"/>\n",
       "</g>\n",
       "<!-- f6af3f372e8543b5ac3252360fa00d2d -->\n",
       "<g id=\"node10\" class=\"node\">\n",
       "<title>f6af3f372e8543b5ac3252360fa00d2d</title>\n",
       "<ellipse fill=\"black\" stroke=\"black\" cx=\"1385\" cy=\"-167\" rx=\"7.2\" ry=\"7.2\"/>\n",
       "</g>\n",
       "<!-- cb8f6025518d4e34945e959ab2112cdb&#45;&#45;f6af3f372e8543b5ac3252360fa00d2d -->\n",
       "<g id=\"edge9\" class=\"edge\">\n",
       "<title>cb8f6025518d4e34945e959ab2112cdb&#45;&#45;f6af3f372e8543b5ac3252360fa00d2d</title>\n",
       "<path fill=\"none\" stroke=\"black\" stroke-width=\"2.7\" d=\"M1320.08,-167C1343.83,-167 1366.81,-167 1377.6,-167\"/>\n",
       "</g>\n",
       "<!-- 41d6e76a20e3486ca1637e0e4ec5f844 -->\n",
       "<g id=\"node11\" class=\"node\">\n",
       "<title>41d6e76a20e3486ca1637e0e4ec5f844</title>\n",
       "<polygon fill=\"black\" stroke=\"black\" stroke-width=\"1.35\" points=\"1479.5,-167.5 1478.5,-167.5 1478.5,-166.5 1479.5,-166.5 1479.5,-167.5\"/>\n",
       "</g>\n",
       "<!-- f6af3f372e8543b5ac3252360fa00d2d&#45;&#45;41d6e76a20e3486ca1637e0e4ec5f844 -->\n",
       "<g id=\"edge10\" class=\"edge\">\n",
       "<title>f6af3f372e8543b5ac3252360fa00d2d&#45;&#45;41d6e76a20e3486ca1637e0e4ec5f844</title>\n",
       "<path fill=\"none\" stroke=\"black\" stroke-width=\"2.7\" d=\"M1392.32,-167C1412.78,-167 1475.98,-167 1477.95,-167\"/>\n",
       "</g>\n",
       "<!-- 89903ccdf8204ba19470c8ebee82de3c -->\n",
       "<g id=\"node12\" class=\"node\">\n",
       "<title>89903ccdf8204ba19470c8ebee82de3c</title>\n",
       "</g>\n",
       "<!-- 41d6e76a20e3486ca1637e0e4ec5f844&#45;&#45;89903ccdf8204ba19470c8ebee82de3c -->\n",
       "<g id=\"edge11\" class=\"edge\">\n",
       "<title>41d6e76a20e3486ca1637e0e4ec5f844&#45;&#45;89903ccdf8204ba19470c8ebee82de3c</title>\n",
       "<path fill=\"none\" stroke=\"black\" stroke-width=\"2.7\" d=\"M1480.07,-167C1481.8,-167 1517.79,-167 1543.7,-167\"/>\n",
       "</g>\n",
       "<!-- be37f153bf044d9384420f907f928e6d -->\n",
       "<g id=\"node24\" class=\"node\">\n",
       "<title>be37f153bf044d9384420f907f928e6d</title>\n",
       "</g>\n",
       "<!-- 89903ccdf8204ba19470c8ebee82de3c&#45;&#45;be37f153bf044d9384420f907f928e6d -->\n",
       "<!-- d67178e5953140b89e42ea5f9b67f855 -->\n",
       "<g id=\"node14\" class=\"node\">\n",
       "<title>d67178e5953140b89e42ea5f9b67f855</title>\n",
       "<path fill=\"#afd3e9\" stroke=\"#3182bd\" stroke-width=\"2.7\" d=\"M217,-127C217,-127 102,-127 102,-127 96,-127 90,-121 90,-115 90,-115 90,-81 90,-81 90,-75 96,-69 102,-69 102,-69 217,-69 217,-69 223,-69 229,-75 229,-81 229,-81 229,-115 229,-115 229,-121 223,-127 217,-127\"/>\n",
       "<text text-anchor=\"middle\" x=\"159.5\" y=\"-93\" font-family=\"JetBrains Mono\" font-size=\"20.00\">RX(theta₁)</text>\n",
       "</g>\n",
       "<!-- c42e3b0c7037424a9806124342b4cb49&#45;&#45;d67178e5953140b89e42ea5f9b67f855 -->\n",
       "<g id=\"edge12\" class=\"edge\">\n",
       "<title>c42e3b0c7037424a9806124342b4cb49&#45;&#45;d67178e5953140b89e42ea5f9b67f855</title>\n",
       "<path fill=\"none\" stroke=\"black\" stroke-width=\"2.7\" d=\"M54.09,-98C64.51,-98 77.03,-98 89.74,-98\"/>\n",
       "</g>\n",
       "<!-- 0522de89dee54cb19cc604c7b9a35db8 -->\n",
       "<g id=\"node25\" class=\"node\">\n",
       "<title>0522de89dee54cb19cc604c7b9a35db8</title>\n",
       "<text text-anchor=\"middle\" x=\"27\" y=\"-25.5\" font-family=\"JetBrains Mono\" font-size=\"15.00\">2</text>\n",
       "</g>\n",
       "<!-- c42e3b0c7037424a9806124342b4cb49&#45;&#45;0522de89dee54cb19cc604c7b9a35db8 -->\n",
       "<!-- c29e4f16a6f94e3ab91b359c1fa697ae -->\n",
       "<g id=\"node15\" class=\"node\">\n",
       "<title>c29e4f16a6f94e3ab91b359c1fa697ae</title>\n",
       "<path fill=\"#afd3e9\" stroke=\"#3182bd\" stroke-width=\"2.7\" d=\"M391,-127C391,-127 277,-127 277,-127 271,-127 265,-121 265,-115 265,-115 265,-81 265,-81 265,-75 271,-69 277,-69 277,-69 391,-69 391,-69 397,-69 403,-75 403,-81 403,-81 403,-115 403,-115 403,-121 397,-127 391,-127\"/>\n",
       "<text text-anchor=\"middle\" x=\"334\" y=\"-93\" font-family=\"JetBrains Mono\" font-size=\"20.00\">RY(theta₄)</text>\n",
       "</g>\n",
       "<!-- d67178e5953140b89e42ea5f9b67f855&#45;&#45;c29e4f16a6f94e3ab91b359c1fa697ae -->\n",
       "<g id=\"edge13\" class=\"edge\">\n",
       "<title>d67178e5953140b89e42ea5f9b67f855&#45;&#45;c29e4f16a6f94e3ab91b359c1fa697ae</title>\n",
       "<path fill=\"none\" stroke=\"black\" stroke-width=\"2.7\" d=\"M229.17,-98C240.92,-98 253.11,-98 264.85,-98\"/>\n",
       "</g>\n",
       "<!-- 47bb17ef425642809e227540db18f8cb -->\n",
       "<g id=\"node16\" class=\"node\">\n",
       "<title>47bb17ef425642809e227540db18f8cb</title>\n",
       "<path fill=\"#afd3e9\" stroke=\"#3182bd\" stroke-width=\"2.7\" d=\"M566,-127C566,-127 451,-127 451,-127 445,-127 439,-121 439,-115 439,-115 439,-81 439,-81 439,-75 445,-69 451,-69 451,-69 566,-69 566,-69 572,-69 578,-75 578,-81 578,-81 578,-115 578,-115 578,-121 572,-127 566,-127\"/>\n",
       "<text text-anchor=\"middle\" x=\"508.5\" y=\"-93\" font-family=\"JetBrains Mono\" font-size=\"20.00\">RX(theta₇)</text>\n",
       "</g>\n",
       "<!-- c29e4f16a6f94e3ab91b359c1fa697ae&#45;&#45;47bb17ef425642809e227540db18f8cb -->\n",
       "<g id=\"edge14\" class=\"edge\">\n",
       "<title>c29e4f16a6f94e3ab91b359c1fa697ae&#45;&#45;47bb17ef425642809e227540db18f8cb</title>\n",
       "<path fill=\"none\" stroke=\"black\" stroke-width=\"2.7\" d=\"M403.18,-98C414.95,-98 427.19,-98 438.97,-98\"/>\n",
       "</g>\n",
       "<!-- bf3f63852db64b20a687819a16cdf260 -->\n",
       "<g id=\"node17\" class=\"node\">\n",
       "<title>bf3f63852db64b20a687819a16cdf260</title>\n",
       "<path fill=\"#f0c1be\" stroke=\"#d03a2f\" stroke-width=\"2.7\" d=\"M660,-127C660,-127 626,-127 626,-127 620,-127 614,-121 614,-115 614,-115 614,-81 614,-81 614,-75 620,-69 626,-69 626,-69 660,-69 660,-69 666,-69 672,-75 672,-81 672,-81 672,-115 672,-115 672,-121 666,-127 660,-127\"/>\n",
       "<text text-anchor=\"middle\" x=\"643\" y=\"-93\" font-family=\"JetBrains Mono\" font-size=\"20.00\">X</text>\n",
       "</g>\n",
       "<!-- 47bb17ef425642809e227540db18f8cb&#45;&#45;bf3f63852db64b20a687819a16cdf260 -->\n",
       "<g id=\"edge15\" class=\"edge\">\n",
       "<title>47bb17ef425642809e227540db18f8cb&#45;&#45;bf3f63852db64b20a687819a16cdf260</title>\n",
       "<path fill=\"none\" stroke=\"black\" stroke-width=\"2.7\" d=\"M578.08,-98C590.71,-98 603.22,-98 613.79,-98\"/>\n",
       "</g>\n",
       "<!-- bf3f63852db64b20a687819a16cdf260&#45;&#45;bbf0d7846b8a4b4fa73d5189c72684a7 -->\n",
       "<g id=\"edge34\" class=\"edge\">\n",
       "<title>bf3f63852db64b20a687819a16cdf260&#45;&#45;bbf0d7846b8a4b4fa73d5189c72684a7</title>\n",
       "<path fill=\"none\" stroke=\"black\" stroke-width=\"2.7\" d=\"M643,-127.11C643,-137.91 643,-148.72 643,-159.52\"/>\n",
       "</g>\n",
       "<!-- 781319bf5c9348fd92154cb887efea5b -->\n",
       "<g id=\"node18\" class=\"node\">\n",
       "<title>781319bf5c9348fd92154cb887efea5b</title>\n",
       "<ellipse fill=\"black\" stroke=\"black\" cx=\"737\" cy=\"-98\" rx=\"7.2\" ry=\"7.2\"/>\n",
       "</g>\n",
       "<!-- bf3f63852db64b20a687819a16cdf260&#45;&#45;781319bf5c9348fd92154cb887efea5b -->\n",
       "<g id=\"edge16\" class=\"edge\">\n",
       "<title>bf3f63852db64b20a687819a16cdf260&#45;&#45;781319bf5c9348fd92154cb887efea5b</title>\n",
       "<path fill=\"none\" stroke=\"black\" stroke-width=\"2.7\" d=\"M672.1,-98C692.18,-98 717.65,-98 729.45,-98\"/>\n",
       "</g>\n",
       "<!-- a00058cc236b4102a57c02cfa53a319e -->\n",
       "<g id=\"node19\" class=\"node\">\n",
       "<title>a00058cc236b4102a57c02cfa53a319e</title>\n",
       "<path fill=\"#afd3e9\" stroke=\"#3182bd\" stroke-width=\"2.7\" d=\"M939,-127C939,-127 814,-127 814,-127 808,-127 802,-121 802,-115 802,-115 802,-81 802,-81 802,-75 808,-69 814,-69 814,-69 939,-69 939,-69 945,-69 951,-75 951,-81 951,-81 951,-115 951,-115 951,-121 945,-127 939,-127\"/>\n",
       "<text text-anchor=\"middle\" x=\"876.5\" y=\"-93\" font-family=\"JetBrains Mono\" font-size=\"20.00\">RX(theta₁₀)</text>\n",
       "</g>\n",
       "<!-- 781319bf5c9348fd92154cb887efea5b&#45;&#45;a00058cc236b4102a57c02cfa53a319e -->\n",
       "<g id=\"edge17\" class=\"edge\">\n",
       "<title>781319bf5c9348fd92154cb887efea5b&#45;&#45;a00058cc236b4102a57c02cfa53a319e</title>\n",
       "<path fill=\"none\" stroke=\"black\" stroke-width=\"2.7\" d=\"M744.27,-98C754.98,-98 777.99,-98 801.8,-98\"/>\n",
       "</g>\n",
       "<!-- e42bb626418f4815adb36d555efb5d2e -->\n",
       "<g id=\"node20\" class=\"node\">\n",
       "<title>e42bb626418f4815adb36d555efb5d2e</title>\n",
       "<path fill=\"#afd3e9\" stroke=\"#3182bd\" stroke-width=\"2.7\" d=\"M1123,-127C1123,-127 999,-127 999,-127 993,-127 987,-121 987,-115 987,-115 987,-81 987,-81 987,-75 993,-69 999,-69 999,-69 1123,-69 1123,-69 1129,-69 1135,-75 1135,-81 1135,-81 1135,-115 1135,-115 1135,-121 1129,-127 1123,-127\"/>\n",
       "<text text-anchor=\"middle\" x=\"1061\" y=\"-93\" font-family=\"JetBrains Mono\" font-size=\"20.00\">RY(theta₁₃)</text>\n",
       "</g>\n",
       "<!-- a00058cc236b4102a57c02cfa53a319e&#45;&#45;e42bb626418f4815adb36d555efb5d2e -->\n",
       "<g id=\"edge18\" class=\"edge\">\n",
       "<title>a00058cc236b4102a57c02cfa53a319e&#45;&#45;e42bb626418f4815adb36d555efb5d2e</title>\n",
       "<path fill=\"none\" stroke=\"black\" stroke-width=\"2.7\" d=\"M951.2,-98C962.98,-98 975.15,-98 986.91,-98\"/>\n",
       "</g>\n",
       "<!-- 3fef8d93f2dc432f9c1dd2d926117275 -->\n",
       "<g id=\"node21\" class=\"node\">\n",
       "<title>3fef8d93f2dc432f9c1dd2d926117275</title>\n",
       "<path fill=\"#afd3e9\" stroke=\"#3182bd\" stroke-width=\"2.7\" d=\"M1308,-127C1308,-127 1183,-127 1183,-127 1177,-127 1171,-121 1171,-115 1171,-115 1171,-81 1171,-81 1171,-75 1177,-69 1183,-69 1183,-69 1308,-69 1308,-69 1314,-69 1320,-75 1320,-81 1320,-81 1320,-115 1320,-115 1320,-121 1314,-127 1308,-127\"/>\n",
       "<text text-anchor=\"middle\" x=\"1245.5\" y=\"-93\" font-family=\"JetBrains Mono\" font-size=\"20.00\">RX(theta₁₆)</text>\n",
       "</g>\n",
       "<!-- e42bb626418f4815adb36d555efb5d2e&#45;&#45;3fef8d93f2dc432f9c1dd2d926117275 -->\n",
       "<g id=\"edge19\" class=\"edge\">\n",
       "<title>e42bb626418f4815adb36d555efb5d2e&#45;&#45;3fef8d93f2dc432f9c1dd2d926117275</title>\n",
       "<path fill=\"none\" stroke=\"black\" stroke-width=\"2.7\" d=\"M1135.18,-98C1146.88,-98 1158.99,-98 1170.71,-98\"/>\n",
       "</g>\n",
       "<!-- 5b50faf53a0b47c0bffa3281adadb933 -->\n",
       "<g id=\"node22\" class=\"node\">\n",
       "<title>5b50faf53a0b47c0bffa3281adadb933</title>\n",
       "<path fill=\"#f0c1be\" stroke=\"#d03a2f\" stroke-width=\"2.7\" d=\"M1402,-127C1402,-127 1368,-127 1368,-127 1362,-127 1356,-121 1356,-115 1356,-115 1356,-81 1356,-81 1356,-75 1362,-69 1368,-69 1368,-69 1402,-69 1402,-69 1408,-69 1414,-75 1414,-81 1414,-81 1414,-115 1414,-115 1414,-121 1408,-127 1402,-127\"/>\n",
       "<text text-anchor=\"middle\" x=\"1385\" y=\"-93\" font-family=\"JetBrains Mono\" font-size=\"20.00\">X</text>\n",
       "</g>\n",
       "<!-- 3fef8d93f2dc432f9c1dd2d926117275&#45;&#45;5b50faf53a0b47c0bffa3281adadb933 -->\n",
       "<g id=\"edge20\" class=\"edge\">\n",
       "<title>3fef8d93f2dc432f9c1dd2d926117275&#45;&#45;5b50faf53a0b47c0bffa3281adadb933</title>\n",
       "<path fill=\"none\" stroke=\"black\" stroke-width=\"2.7\" d=\"M1320.08,-98C1332.85,-98 1345.4,-98 1355.95,-98\"/>\n",
       "</g>\n",
       "<!-- 5b50faf53a0b47c0bffa3281adadb933&#45;&#45;f6af3f372e8543b5ac3252360fa00d2d -->\n",
       "<g id=\"edge35\" class=\"edge\">\n",
       "<title>5b50faf53a0b47c0bffa3281adadb933&#45;&#45;f6af3f372e8543b5ac3252360fa00d2d</title>\n",
       "<path fill=\"none\" stroke=\"black\" stroke-width=\"2.7\" d=\"M1385,-127.11C1385,-137.91 1385,-148.72 1385,-159.52\"/>\n",
       "</g>\n",
       "<!-- b3aa6257d906402aa70d10423b7cadb9 -->\n",
       "<g id=\"node23\" class=\"node\">\n",
       "<title>b3aa6257d906402aa70d10423b7cadb9</title>\n",
       "<ellipse fill=\"black\" stroke=\"black\" cx=\"1479\" cy=\"-98\" rx=\"7.2\" ry=\"7.2\"/>\n",
       "</g>\n",
       "<!-- 5b50faf53a0b47c0bffa3281adadb933&#45;&#45;b3aa6257d906402aa70d10423b7cadb9 -->\n",
       "<g id=\"edge21\" class=\"edge\">\n",
       "<title>5b50faf53a0b47c0bffa3281adadb933&#45;&#45;b3aa6257d906402aa70d10423b7cadb9</title>\n",
       "<path fill=\"none\" stroke=\"black\" stroke-width=\"2.7\" d=\"M1414.1,-98C1434.18,-98 1459.65,-98 1471.45,-98\"/>\n",
       "</g>\n",
       "<!-- b3aa6257d906402aa70d10423b7cadb9&#45;&#45;be37f153bf044d9384420f907f928e6d -->\n",
       "<g id=\"edge22\" class=\"edge\">\n",
       "<title>b3aa6257d906402aa70d10423b7cadb9&#45;&#45;be37f153bf044d9384420f907f928e6d</title>\n",
       "<path fill=\"none\" stroke=\"black\" stroke-width=\"2.7\" d=\"M1486.47,-98C1498.32,-98 1524.1,-98 1543.91,-98\"/>\n",
       "</g>\n",
       "<!-- f2a027c48f164010a1f9b38cd3ed6af2 -->\n",
       "<g id=\"node36\" class=\"node\">\n",
       "<title>f2a027c48f164010a1f9b38cd3ed6af2</title>\n",
       "</g>\n",
       "<!-- be37f153bf044d9384420f907f928e6d&#45;&#45;f2a027c48f164010a1f9b38cd3ed6af2 -->\n",
       "<!-- 8c1b982282294c83a6d977a0c6c0fa83 -->\n",
       "<g id=\"node26\" class=\"node\">\n",
       "<title>8c1b982282294c83a6d977a0c6c0fa83</title>\n",
       "<path fill=\"#afd3e9\" stroke=\"#3182bd\" stroke-width=\"2.7\" d=\"M217,-58C217,-58 102,-58 102,-58 96,-58 90,-52 90,-46 90,-46 90,-12 90,-12 90,-6 96,0 102,0 102,0 217,0 217,0 223,0 229,-6 229,-12 229,-12 229,-46 229,-46 229,-52 223,-58 217,-58\"/>\n",
       "<text text-anchor=\"middle\" x=\"159.5\" y=\"-24\" font-family=\"JetBrains Mono\" font-size=\"20.00\">RX(theta₂)</text>\n",
       "</g>\n",
       "<!-- 0522de89dee54cb19cc604c7b9a35db8&#45;&#45;8c1b982282294c83a6d977a0c6c0fa83 -->\n",
       "<g id=\"edge23\" class=\"edge\">\n",
       "<title>0522de89dee54cb19cc604c7b9a35db8&#45;&#45;8c1b982282294c83a6d977a0c6c0fa83</title>\n",
       "<path fill=\"none\" stroke=\"black\" stroke-width=\"2.7\" d=\"M54.09,-29C64.51,-29 77.03,-29 89.74,-29\"/>\n",
       "</g>\n",
       "<!-- cd7e45b60a0943ed98fdd73bc1be93ad -->\n",
       "<g id=\"node27\" class=\"node\">\n",
       "<title>cd7e45b60a0943ed98fdd73bc1be93ad</title>\n",
       "<path fill=\"#afd3e9\" stroke=\"#3182bd\" stroke-width=\"2.7\" d=\"M391,-58C391,-58 277,-58 277,-58 271,-58 265,-52 265,-46 265,-46 265,-12 265,-12 265,-6 271,0 277,0 277,0 391,0 391,0 397,0 403,-6 403,-12 403,-12 403,-46 403,-46 403,-52 397,-58 391,-58\"/>\n",
       "<text text-anchor=\"middle\" x=\"334\" y=\"-24\" font-family=\"JetBrains Mono\" font-size=\"20.00\">RY(theta₅)</text>\n",
       "</g>\n",
       "<!-- 8c1b982282294c83a6d977a0c6c0fa83&#45;&#45;cd7e45b60a0943ed98fdd73bc1be93ad -->\n",
       "<g id=\"edge24\" class=\"edge\">\n",
       "<title>8c1b982282294c83a6d977a0c6c0fa83&#45;&#45;cd7e45b60a0943ed98fdd73bc1be93ad</title>\n",
       "<path fill=\"none\" stroke=\"black\" stroke-width=\"2.7\" d=\"M229.17,-29C240.92,-29 253.11,-29 264.85,-29\"/>\n",
       "</g>\n",
       "<!-- 496800eef03e4d36a8f61c096d41be98 -->\n",
       "<g id=\"node28\" class=\"node\">\n",
       "<title>496800eef03e4d36a8f61c096d41be98</title>\n",
       "<path fill=\"#afd3e9\" stroke=\"#3182bd\" stroke-width=\"2.7\" d=\"M566,-58C566,-58 451,-58 451,-58 445,-58 439,-52 439,-46 439,-46 439,-12 439,-12 439,-6 445,0 451,0 451,0 566,0 566,0 572,0 578,-6 578,-12 578,-12 578,-46 578,-46 578,-52 572,-58 566,-58\"/>\n",
       "<text text-anchor=\"middle\" x=\"508.5\" y=\"-24\" font-family=\"JetBrains Mono\" font-size=\"20.00\">RX(theta₈)</text>\n",
       "</g>\n",
       "<!-- cd7e45b60a0943ed98fdd73bc1be93ad&#45;&#45;496800eef03e4d36a8f61c096d41be98 -->\n",
       "<g id=\"edge25\" class=\"edge\">\n",
       "<title>cd7e45b60a0943ed98fdd73bc1be93ad&#45;&#45;496800eef03e4d36a8f61c096d41be98</title>\n",
       "<path fill=\"none\" stroke=\"black\" stroke-width=\"2.7\" d=\"M403.18,-29C414.95,-29 427.19,-29 438.97,-29\"/>\n",
       "</g>\n",
       "<!-- 96de38e84f3241a1a6fbc7f1c55facd9 -->\n",
       "<g id=\"node29\" class=\"node\">\n",
       "<title>96de38e84f3241a1a6fbc7f1c55facd9</title>\n",
       "<polygon fill=\"black\" stroke=\"black\" stroke-width=\"1.35\" points=\"643.5,-29.5 642.5,-29.5 642.5,-28.5 643.5,-28.5 643.5,-29.5\"/>\n",
       "</g>\n",
       "<!-- 496800eef03e4d36a8f61c096d41be98&#45;&#45;96de38e84f3241a1a6fbc7f1c55facd9 -->\n",
       "<g id=\"edge26\" class=\"edge\">\n",
       "<title>496800eef03e4d36a8f61c096d41be98&#45;&#45;96de38e84f3241a1a6fbc7f1c55facd9</title>\n",
       "<path fill=\"none\" stroke=\"black\" stroke-width=\"2.7\" d=\"M578.08,-29C609.4,-29 640.02,-29 641.91,-29\"/>\n",
       "</g>\n",
       "<!-- 57f36399f581459d9f8a92c580b0945f -->\n",
       "<g id=\"node30\" class=\"node\">\n",
       "<title>57f36399f581459d9f8a92c580b0945f</title>\n",
       "<path fill=\"#f0c1be\" stroke=\"#d03a2f\" stroke-width=\"2.7\" d=\"M754,-58C754,-58 720,-58 720,-58 714,-58 708,-52 708,-46 708,-46 708,-12 708,-12 708,-6 714,0 720,0 720,0 754,0 754,0 760,0 766,-6 766,-12 766,-12 766,-46 766,-46 766,-52 760,-58 754,-58\"/>\n",
       "<text text-anchor=\"middle\" x=\"737\" y=\"-24\" font-family=\"JetBrains Mono\" font-size=\"20.00\">X</text>\n",
       "</g>\n",
       "<!-- 96de38e84f3241a1a6fbc7f1c55facd9&#45;&#45;57f36399f581459d9f8a92c580b0945f -->\n",
       "<g id=\"edge27\" class=\"edge\">\n",
       "<title>96de38e84f3241a1a6fbc7f1c55facd9&#45;&#45;57f36399f581459d9f8a92c580b0945f</title>\n",
       "<path fill=\"none\" stroke=\"black\" stroke-width=\"2.7\" d=\"M644.07,-29C645.81,-29 681.28,-29 707.65,-29\"/>\n",
       "</g>\n",
       "<!-- 57f36399f581459d9f8a92c580b0945f&#45;&#45;781319bf5c9348fd92154cb887efea5b -->\n",
       "<g id=\"edge36\" class=\"edge\">\n",
       "<title>57f36399f581459d9f8a92c580b0945f&#45;&#45;781319bf5c9348fd92154cb887efea5b</title>\n",
       "<path fill=\"none\" stroke=\"black\" stroke-width=\"2.7\" d=\"M737,-58.11C737,-68.91 737,-79.72 737,-90.52\"/>\n",
       "</g>\n",
       "<!-- 87732c4cbfdd470089f79e06671651a7 -->\n",
       "<g id=\"node31\" class=\"node\">\n",
       "<title>87732c4cbfdd470089f79e06671651a7</title>\n",
       "<path fill=\"#afd3e9\" stroke=\"#3182bd\" stroke-width=\"2.7\" d=\"M939,-58C939,-58 814,-58 814,-58 808,-58 802,-52 802,-46 802,-46 802,-12 802,-12 802,-6 808,0 814,0 814,0 939,0 939,0 945,0 951,-6 951,-12 951,-12 951,-46 951,-46 951,-52 945,-58 939,-58\"/>\n",
       "<text text-anchor=\"middle\" x=\"876.5\" y=\"-24\" font-family=\"JetBrains Mono\" font-size=\"20.00\">RX(theta₁₁)</text>\n",
       "</g>\n",
       "<!-- 57f36399f581459d9f8a92c580b0945f&#45;&#45;87732c4cbfdd470089f79e06671651a7 -->\n",
       "<g id=\"edge28\" class=\"edge\">\n",
       "<title>57f36399f581459d9f8a92c580b0945f&#45;&#45;87732c4cbfdd470089f79e06671651a7</title>\n",
       "<path fill=\"none\" stroke=\"black\" stroke-width=\"2.7\" d=\"M766.16,-29C776.69,-29 789.19,-29 801.92,-29\"/>\n",
       "</g>\n",
       "<!-- a59b416601ff4255837ae3ebf9939a68 -->\n",
       "<g id=\"node32\" class=\"node\">\n",
       "<title>a59b416601ff4255837ae3ebf9939a68</title>\n",
       "<path fill=\"#afd3e9\" stroke=\"#3182bd\" stroke-width=\"2.7\" d=\"M1123,-58C1123,-58 999,-58 999,-58 993,-58 987,-52 987,-46 987,-46 987,-12 987,-12 987,-6 993,0 999,0 999,0 1123,0 1123,0 1129,0 1135,-6 1135,-12 1135,-12 1135,-46 1135,-46 1135,-52 1129,-58 1123,-58\"/>\n",
       "<text text-anchor=\"middle\" x=\"1061\" y=\"-24\" font-family=\"JetBrains Mono\" font-size=\"20.00\">RY(theta₁₄)</text>\n",
       "</g>\n",
       "<!-- 87732c4cbfdd470089f79e06671651a7&#45;&#45;a59b416601ff4255837ae3ebf9939a68 -->\n",
       "<g id=\"edge29\" class=\"edge\">\n",
       "<title>87732c4cbfdd470089f79e06671651a7&#45;&#45;a59b416601ff4255837ae3ebf9939a68</title>\n",
       "<path fill=\"none\" stroke=\"black\" stroke-width=\"2.7\" d=\"M951.2,-29C962.98,-29 975.15,-29 986.91,-29\"/>\n",
       "</g>\n",
       "<!-- 38369a0df78241f49dc489fd9e19664b -->\n",
       "<g id=\"node33\" class=\"node\">\n",
       "<title>38369a0df78241f49dc489fd9e19664b</title>\n",
       "<path fill=\"#afd3e9\" stroke=\"#3182bd\" stroke-width=\"2.7\" d=\"M1308,-58C1308,-58 1183,-58 1183,-58 1177,-58 1171,-52 1171,-46 1171,-46 1171,-12 1171,-12 1171,-6 1177,0 1183,0 1183,0 1308,0 1308,0 1314,0 1320,-6 1320,-12 1320,-12 1320,-46 1320,-46 1320,-52 1314,-58 1308,-58\"/>\n",
       "<text text-anchor=\"middle\" x=\"1245.5\" y=\"-24\" font-family=\"JetBrains Mono\" font-size=\"20.00\">RX(theta₁₇)</text>\n",
       "</g>\n",
       "<!-- a59b416601ff4255837ae3ebf9939a68&#45;&#45;38369a0df78241f49dc489fd9e19664b -->\n",
       "<g id=\"edge30\" class=\"edge\">\n",
       "<title>a59b416601ff4255837ae3ebf9939a68&#45;&#45;38369a0df78241f49dc489fd9e19664b</title>\n",
       "<path fill=\"none\" stroke=\"black\" stroke-width=\"2.7\" d=\"M1135.18,-29C1146.88,-29 1158.99,-29 1170.71,-29\"/>\n",
       "</g>\n",
       "<!-- 609007b1162347eface74bc6c35d0cf2 -->\n",
       "<g id=\"node34\" class=\"node\">\n",
       "<title>609007b1162347eface74bc6c35d0cf2</title>\n",
       "<polygon fill=\"black\" stroke=\"black\" stroke-width=\"1.35\" points=\"1385.5,-29.5 1384.5,-29.5 1384.5,-28.5 1385.5,-28.5 1385.5,-29.5\"/>\n",
       "</g>\n",
       "<!-- 38369a0df78241f49dc489fd9e19664b&#45;&#45;609007b1162347eface74bc6c35d0cf2 -->\n",
       "<g id=\"edge31\" class=\"edge\">\n",
       "<title>38369a0df78241f49dc489fd9e19664b&#45;&#45;609007b1162347eface74bc6c35d0cf2</title>\n",
       "<path fill=\"none\" stroke=\"black\" stroke-width=\"2.7\" d=\"M1320.08,-29C1351.75,-29 1382.05,-29 1383.91,-29\"/>\n",
       "</g>\n",
       "<!-- 41b8ffbed7fd4ef7a9c464249de79476 -->\n",
       "<g id=\"node35\" class=\"node\">\n",
       "<title>41b8ffbed7fd4ef7a9c464249de79476</title>\n",
       "<path fill=\"#f0c1be\" stroke=\"#d03a2f\" stroke-width=\"2.7\" d=\"M1496,-58C1496,-58 1462,-58 1462,-58 1456,-58 1450,-52 1450,-46 1450,-46 1450,-12 1450,-12 1450,-6 1456,0 1462,0 1462,0 1496,0 1496,0 1502,0 1508,-6 1508,-12 1508,-12 1508,-46 1508,-46 1508,-52 1502,-58 1496,-58\"/>\n",
       "<text text-anchor=\"middle\" x=\"1479\" y=\"-24\" font-family=\"JetBrains Mono\" font-size=\"20.00\">X</text>\n",
       "</g>\n",
       "<!-- 609007b1162347eface74bc6c35d0cf2&#45;&#45;41b8ffbed7fd4ef7a9c464249de79476 -->\n",
       "<g id=\"edge32\" class=\"edge\">\n",
       "<title>609007b1162347eface74bc6c35d0cf2&#45;&#45;41b8ffbed7fd4ef7a9c464249de79476</title>\n",
       "<path fill=\"none\" stroke=\"black\" stroke-width=\"2.7\" d=\"M1386.07,-29C1387.81,-29 1423.28,-29 1449.65,-29\"/>\n",
       "</g>\n",
       "<!-- 41b8ffbed7fd4ef7a9c464249de79476&#45;&#45;b3aa6257d906402aa70d10423b7cadb9 -->\n",
       "<g id=\"edge37\" class=\"edge\">\n",
       "<title>41b8ffbed7fd4ef7a9c464249de79476&#45;&#45;b3aa6257d906402aa70d10423b7cadb9</title>\n",
       "<path fill=\"none\" stroke=\"black\" stroke-width=\"2.7\" d=\"M1479,-58.11C1479,-68.91 1479,-79.72 1479,-90.52\"/>\n",
       "</g>\n",
       "<!-- 41b8ffbed7fd4ef7a9c464249de79476&#45;&#45;f2a027c48f164010a1f9b38cd3ed6af2 -->\n",
       "<g id=\"edge33\" class=\"edge\">\n",
       "<title>41b8ffbed7fd4ef7a9c464249de79476&#45;&#45;f2a027c48f164010a1f9b38cd3ed6af2</title>\n",
       "<path fill=\"none\" stroke=\"black\" stroke-width=\"2.7\" d=\"M1508.48,-29C1519.81,-29 1532.76,-29 1543.85,-29\"/>\n",
       "</g>\n",
       "</g>\n",
       "</svg>\n"
      ],
      "text/plain": [
       "<graphviz.graphs.Graph at 0x22a9f189160>"
      ]
     },
     "execution_count": 49,
     "metadata": {},
     "output_type": "execute_result"
    }
   ],
   "source": [
    "from qadence import hea\n",
    "from qadence.draw import display\n",
    "\n",
    "ansatz = hea(n_qubits, depth = 2)\n",
    "\n",
    "display(ansatz)"
   ]
  },
  {
   "cell_type": "markdown",
   "id": "68f83e56-de60-4a11-8e15-5bc301379ab7",
   "metadata": {},
   "source": [
    "## The QuantumCircuit\n",
    "\n",
    "So far we have only looked at basic and composite blocks in Qadence, and in most cases we were inferring the number of qubits in the system from the qubit support of the block itself. Before moving on to the QuantumModel definition, we need to concretize the final `QuantumCircuit` where we can set the total number of qubits. In this case, this step will not change anything in our program, but we must run it either way."
   ]
  },
  {
   "cell_type": "code",
   "execution_count": 50,
   "id": "d8f9df65-10dd-4b92-a8c2-8a5187e3fe60",
   "metadata": {},
   "outputs": [],
   "source": [
    "from qadence import QuantumCircuit\n",
    "\n",
    "block = fm * ansatz\n",
    "\n",
    "circuit = QuantumCircuit(n_qubits, block)"
   ]
  },
  {
   "cell_type": "markdown",
   "id": "2b6e6849-acd5-4b9b-8b6d-53483b276743",
   "metadata": {},
   "source": [
    "## The QuantumModel\n",
    "\n",
    "We are almost ready to define our model, we are missing only an observable to measure that will represent our output."
   ]
  },
  {
   "cell_type": "code",
   "execution_count": 51,
   "id": "ec313b06-a491-46a9-aa52-34792c3974f9",
   "metadata": {},
   "outputs": [],
   "source": [
    "from qadence import Z, QuantumModel, add\n",
    "\n",
    "obs = add(Z(i) for i in range(n_qubits))\n",
    "\n",
    "model = QuantumModel(circuit, observable = obs)"
   ]
  },
  {
   "cell_type": "markdown",
   "id": "5d5c4d49-9941-48b8-825b-9ffa9fe66615",
   "metadata": {},
   "source": [
    "Our model is ready, and we can now try to run it. Similarly to what you have seen before, the `run`, `sample`, and `expectation` functions are now available as method from the model with the same behaviour as described. To run any of them, we must pass the values to the input parameter `x` that we defined in the feature_map."
   ]
  },
  {
   "cell_type": "code",
   "execution_count": 52,
   "id": "82f14e3c-d525-4341-b002-8320824b8175",
   "metadata": {},
   "outputs": [
    {
     "data": {
      "text/plain": [
       "tensor([[0.3349],\n",
       "        [0.3013],\n",
       "        [0.1390],\n",
       "        [0.4875]], grad_fn=<CatBackward0>)"
      ]
     },
     "execution_count": 52,
     "metadata": {},
     "output_type": "execute_result"
    }
   ],
   "source": [
    "import torch\n",
    "\n",
    "values = {\"x\": torch.tensor([0.0, 1.0, 2.0, 3.0])}\n",
    "\n",
    "model.expectation(values)"
   ]
  },
  {
   "cell_type": "markdown",
   "id": "07dff775-8a71-4d10-a3f6-10f09ed93f57",
   "metadata": {},
   "source": [
    "In this way, our model defines a function $f_\\theta(x)$, parameterized by a set of $\\{\\theta\\}$ parameters.\n",
    "\n",
    "As you can see we now have a `grad_fn` associated with our output tensor: PyTorch know how to efficiently compute the gradient of this output.\n",
    "\n",
    "Note: the `QuantumModel` is a `torch.nn.Module`, and thus calling `model(...)` would call the `forward(...)` method, as is standard in PyTorch. By default in the `QuantumModel` this calls `model.run(...)`, but custom models can always be created by inheriting from `QuantumModel` and overriding the `forward` method.\n",
    "\n",
    "Note: the computational graph of a `torch.tensor` sometimes is not needed, or can cause issues when integrating with other libraries like `matplotlib`. You can remove it by calling `result.detach()`."
   ]
  },
  {
   "cell_type": "markdown",
   "id": "05967902-4c20-45de-8a97-45b4d192fe5a",
   "metadata": {},
   "source": [
    "## Defining a problem to solve\n",
    "\n",
    "Now that our model is ready, we need a basic optimization problem to try it out. We can try to fit a basic set of data points."
   ]
  },
  {
   "cell_type": "code",
   "execution_count": 53,
   "id": "a3880cda-1bc1-4e40-9626-e1db33801039",
   "metadata": {},
   "outputs": [
    {
     "data": {
      "text/plain": [
       "<matplotlib.collections.PathCollection at 0x22a9da6fbc0>"
      ]
     },
     "execution_count": 53,
     "metadata": {},
     "output_type": "execute_result"
    },
    {
     "data": {
      "image/png": "[encoded data removed]",
      "text/plain": [
       "<Figure size 640x480 with 1 Axes>"
      ]
     },
     "metadata": {},
     "output_type": "display_data"
    }
   ],
   "source": [
    "import matplotlib.pyplot as plt\n",
    "\n",
    "def f(x):\n",
    "    return x**2\n",
    "\n",
    "x_train = torch.linspace(-1, 1, 20)\n",
    "y_train = f(x_train)\n",
    "\n",
    "plt.scatter(x_train, y_train)"
   ]
  },
  {
   "cell_type": "markdown",
   "id": "7e4eec2f-c2fd-4d49-ade4-7046d25124fa",
   "metadata": {},
   "source": [
    "Let's save our model output before training so we can compare it later."
   ]
  },
  {
   "cell_type": "code",
   "execution_count": 54,
   "id": "4da07b17-98b3-477e-822f-2ddd247e0feb",
   "metadata": {},
   "outputs": [],
   "source": [
    "values = {\"x\": x_train}\n",
    "\n",
    "y_pred_initial = model.expectation(values).squeeze().detach()"
   ]
  },
  {
   "cell_type": "markdown",
   "id": "ac4ea522-fdc0-4fd6-9837-43c3175a4573",
   "metadata": {},
   "source": [
    "## Training the model\n",
    "\n",
    "We can now train our model with a basic PyTorch training loop. First, we need a loss function that encodes the goal of our problem when minimized."
   ]
  },
  {
   "cell_type": "code",
   "execution_count": 55,
   "id": "325434c9-b7e2-4e24-8711-b02db83d409a",
   "metadata": {},
   "outputs": [],
   "source": [
    "# Computes the Mean Squared Error between every entry of two tensors\n",
    "criterion = torch.nn.MSELoss()\n",
    "\n",
    "def loss_fn(x_train, y_train):\n",
    "    output = model.expectation({\"x\": x_train}).squeeze()\n",
    "    loss = criterion(output, y_train)\n",
    "    return loss"
   ]
  },
  {
   "cell_type": "markdown",
   "id": "31efcb9f-41ef-49f4-8923-e74509958b21",
   "metadata": {},
   "source": [
    "And now we need to define an optimizer that is going to be responsible for performing the gradient descent optimization on the parameters of our model. The Adam optimizer is a very popular choice. Besides the model parameters, the learning rate `lr` determines how big is each update to the parameter values during the optimization procedure."
   ]
  },
  {
   "cell_type": "code",
   "execution_count": 56,
   "id": "26803edd-35f1-4eab-8ee8-5d35cb306814",
   "metadata": {},
   "outputs": [],
   "source": [
    "optimizer = torch.optim.Adam(model.parameters(), lr = 0.1)"
   ]
  },
  {
   "cell_type": "markdown",
   "id": "39dbfd6a-d015-49e1-b4d1-c8f9d6acb6cb",
   "metadata": {},
   "source": [
    "Finally, we can define a number of iterations, or epochs, and run the training loop. At each epoch, the loop does the following:\n",
    "- Zeros out the gradients [(so they don't accumulate)](https://stackoverflow.com/questions/48001598/why-do-we-need-to-call-zero-grad-in-pytorch).\n",
    "- Computes the current loss value.\n",
    "- Performs the backward pass to compute the gradients through the backpropagation algorithm.\n",
    "- Performs one update step on the variational parameters."
   ]
  },
  {
   "cell_type": "code",
   "execution_count": 57,
   "id": "872fb7b6-f6fc-4a6f-9061-aa501f9a22de",
   "metadata": {},
   "outputs": [],
   "source": [
    "n_epochs = 100\n",
    "\n",
    "for epoch in range(n_epochs):\n",
    "    optimizer.zero_grad()\n",
    "    loss = loss_fn(x_train, y_train)\n",
    "    loss.backward()\n",
    "    optimizer.step()"
   ]
  },
  {
   "cell_type": "markdown",
   "id": "4586f8e3-76eb-4d5c-9beb-f5bf5eb8cf22",
   "metadata": {},
   "source": [
    "And we are done! The variational parameters in the model have been updated through the training loop and are now set at specific values that (hopefully) minimize the loss function we defined.\n",
    "\n",
    "We can inspect the values of the variational parameters with the `vparams` property, which returns a dictionary."
   ]
  },
  {
   "cell_type": "code",
   "execution_count": 58,
   "id": "0cb774a1-c4b1-463b-9204-bd30f40b0217",
   "metadata": {},
   "outputs": [],
   "source": [
    "vparam_dict = model.vparams"
   ]
  },
  {
   "cell_type": "markdown",
   "id": "f2ce350e-0839-4a2f-9505-f4403fdaed24",
   "metadata": {},
   "source": [
    "However, that's not very useful right now. Instead let's try to plot our training data, our initial model output before training, and the model output now that we have completed the training."
   ]
  },
  {
   "cell_type": "code",
   "execution_count": 59,
   "id": "887cb6f9-ef74-43ae-82e8-da53a8eb72e0",
   "metadata": {},
   "outputs": [
    {
     "data": {
      "text/plain": [
       "(-0.1, 1.1)"
      ]
     },
     "execution_count": 59,
     "metadata": {},
     "output_type": "execute_result"
    },
    {
     "data": {
      "image/png": "[encoded data removed]",
      "text/plain": [
       "<Figure size 640x480 with 1 Axes>"
      ]
     },
     "metadata": {},
     "output_type": "display_data"
    }
   ],
   "source": [
    "y_pred_final = model.expectation({\"x\": x_train}).squeeze().detach()\n",
    "\n",
    "plt.plot(x_train, y_pred_initial, label = \"Initial prediction\")\n",
    "plt.plot(x_train, y_pred_final, label = \"Final prediction\")\n",
    "plt.scatter(x_train, y_train, label = \"Training points\")\n",
    "plt.xlabel(\"x\")\n",
    "plt.ylabel(\"f(x)\")\n",
    "plt.legend()\n",
    "plt.xlim((-1.1, 1.1))\n",
    "plt.ylim((-0.1, 1.1))"
   ]
  },
  {
   "cell_type": "markdown",
   "id": "3682471d-5bdb-4a61-9bfb-e19414816d20",
   "metadata": {},
   "source": [
    "## Conclusion\n",
    "\n",
    "And voila!!... Hmm not quite perfect, but it kind of matches the data right?\n",
    "\n",
    "Maybe with a few more qubits, a few more trainable parameters...\n",
    "\n",
    "Well anyway, in this tutorial we have gone through the essential things you need to use Qadence. Now take a deep breath, read the instructions carefully, and you are set!\n",
    "\n",
    "Best of luck,\n",
    "\n",
    "The PQHack team."
   ]
  },
  {
   "cell_type": "markdown",
   "id": "52712f41-4098-45fe-a6eb-5dbf63764cf6",
   "metadata": {},
   "source": [
    "# EXTRA:"
   ]
  },
  {
   "cell_type": "markdown",
   "id": "8fbf4f0d-3f19-410b-b143-18511dd9214c",
   "metadata": {},
   "source": [
    "## QNN vs QuantumModel\n",
    "\n",
    "In the documentation you may see the `QNN` being used. This is simply a more specific `QuantumModel` where the `forward()` method directly calls the `expectation`, and it has a few other convenience functionalities. You are welcome to use it if you wish, but you can also stick to using `QuantumModel` as we did in this tutorial."
   ]
  },
  {
   "cell_type": "markdown",
   "id": "ab6edb35-252e-4360-aef4-627fc30ec091",
   "metadata": {},
   "source": [
    "## Gradient-free optimization with Scipy\n",
    "\n",
    "It's possible to train a Qadence model using `scipy.optimize.minimize`, which does not require gradients. To do so, you will need to write something following the syntax below:"
   ]
  },
  {
   "cell_type": "code",
   "execution_count": 60,
   "id": "ff115943-cc32-4adc-abe2-68165eb6ae39",
   "metadata": {},
   "outputs": [
    {
     "ename": "AttributeError",
     "evalue": "'ellipsis' object has no attribute 'unique_parameters'",
     "output_type": "error",
     "traceback": [
      "\u001b[1;31m---------------------------------------------------------------------------\u001b[0m",
      "\u001b[1;31mAttributeError\u001b[0m                            Traceback (most recent call last)",
      "Cell \u001b[1;32mIn[60], line 4\u001b[0m\n\u001b[0;32m      1\u001b[0m \u001b[38;5;28;01mfrom\u001b[39;00m \u001b[38;5;21;01mscipy\u001b[39;00m\u001b[38;5;21;01m.\u001b[39;00m\u001b[38;5;21;01moptimize\u001b[39;00m \u001b[38;5;28;01mimport\u001b[39;00m minimize\n\u001b[0;32m      3\u001b[0m \u001b[38;5;66;03m# Defining the Qadence model as usual\u001b[39;00m\n\u001b[1;32m----> 4\u001b[0m model \u001b[38;5;241m=\u001b[39m \u001b[43mQuantumModel\u001b[49m\u001b[43m(\u001b[49m\u001b[38;5;241;43m.\u001b[39;49m\u001b[38;5;241;43m.\u001b[39;49m\u001b[38;5;241;43m.\u001b[39;49m\u001b[43m)\u001b[49m\n\u001b[0;32m      6\u001b[0m \u001b[38;5;66;03m# Defining a loss function with the scipy syntax\u001b[39;00m\n\u001b[0;32m      7\u001b[0m \u001b[38;5;28;01mdef\u001b[39;00m \u001b[38;5;21mloss_fn\u001b[39m(params, \u001b[38;5;241m*\u001b[39margs):\n",
      "File \u001b[1;32mc:\\Users\\alexa\\anaconda3\\envs\\nii\\Lib\\site-packages\\qadence\\model.py:130\u001b[0m, in \u001b[0;36mQuantumModel.__init__\u001b[1;34m(self, circuit, observable, backend, diff_mode, measurement, noise, mitigation, configuration)\u001b[0m\n\u001b[0;32m    127\u001b[0m     \u001b[38;5;28;01mreturn\u001b[39;00m \u001b[38;5;129;01mnot\u001b[39;00m p\u001b[38;5;241m.\u001b[39mtrainable \u001b[38;5;129;01mand\u001b[39;00m \u001b[38;5;129;01mnot\u001b[39;00m p\u001b[38;5;241m.\u001b[39mis_number\n\u001b[0;32m    129\u001b[0m \u001b[38;5;28;01mif\u001b[39;00m observable \u001b[38;5;129;01mis\u001b[39;00m \u001b[38;5;28;01mNone\u001b[39;00m:\n\u001b[1;32m--> 130\u001b[0m     \u001b[38;5;28mself\u001b[39m\u001b[38;5;241m.\u001b[39minputs \u001b[38;5;241m=\u001b[39m \u001b[38;5;28mlist\u001b[39m(\u001b[38;5;28mfilter\u001b[39m(_is_feature_param, \u001b[43mcircuit\u001b[49m\u001b[38;5;241;43m.\u001b[39;49m\u001b[43munique_parameters\u001b[49m))\n\u001b[0;32m    131\u001b[0m \u001b[38;5;28;01melse\u001b[39;00m:\n\u001b[0;32m    132\u001b[0m     uparams \u001b[38;5;241m=\u001b[39m unique_parameters(chain(circuit\u001b[38;5;241m.\u001b[39mblock, \u001b[38;5;241m*\u001b[39mobservable))\n",
      "\u001b[1;31mAttributeError\u001b[0m: 'ellipsis' object has no attribute 'unique_parameters'"
     ]
    }
   ],
   "source": [
    "from scipy.optimize import minimize\n",
    "\n",
    "# Defining the Qadence model as usual\n",
    "model = QuantumModel(...)\n",
    "\n",
    "# Defining a loss function with the scipy syntax\n",
    "def loss_fn(params, *args):\n",
    "    \"\"\"Loss function written with the syntax needed for `minimize`.\"\"\"\n",
    "    # The model and the input values come as the extra arguments\n",
    "    model, inputs = args\n",
    "    # The params are being optimized by scipy, which you need to manually override in the model\n",
    "    model.reset_vparams(torch.tensor(params))\n",
    "\n",
    "    #############################\n",
    "    # Perform your calculations #\n",
    "\n",
    "    loss = ...\n",
    "    \n",
    "    #############################\n",
    "\n",
    "    # Detach any gradients from the loss so scipy can convert the value\n",
    "    return loss.detach()\n",
    "\n",
    "# Define training parameters\n",
    "\n",
    "n_params = len(model.vparams)\n",
    "\n",
    "t_train = ...  # Training points\n",
    "x0 = ...       # Initial guess for the params\n",
    "\n",
    "res = minimize(loss_fn, x0 = x0, args = (model, t_train))\n",
    "\n",
    "# Once the minimization is complete, reset again the model parameters with the final solution\n",
    "model.reset_vparams(res.x)"
   ]
  },
  {
   "cell_type": "markdown",
   "id": "6a6d0940-1538-438a-bf7f-2183953e41fe",
   "metadata": {},
   "source": [
    "## An unsolved bug you can easily go around\n",
    "\n",
    "A bug will occur as described in the code below. It will complain about a mistmatch in tensor dimensions. Unfortunately we did not have the time to properly look into this before the hackathon. If you encounter it you can easily circumvent it by multiplying the feature parameter by 1.0."
   ]
  },
  {
   "cell_type": "code",
   "execution_count": null,
   "id": "7a1120f7-4841-4912-b2a3-2e9e42a41394",
   "metadata": {},
   "outputs": [
    {
     "data": {
      "text/plain": [
       "tensor([[0.9988+0.0000j, 0.0000-0.0500j]])"
      ]
     },
     "execution_count": 33,
     "metadata": {},
     "output_type": "execute_result"
    }
   ],
   "source": [
    "import torch\n",
    "from qadence import RX, FeatureParameter, run\n",
    "\n",
    "# param = FeatureParameter(\"t\") # GIVES BUG\n",
    "\n",
    "param = 1.0 * FeatureParameter(\"t\") # DOES NOT GIVE BUG\n",
    "\n",
    "op = RX(0, param)\n",
    "\n",
    "run(op, values = {\"t\": torch.tensor([[0.1]])})"
   ]
  },
  {
   "cell_type": "markdown",
   "id": "6729ffad-d29a-465a-9071-151a22ddbb79",
   "metadata": {},
   "source": [
    "If you use the `feature_map` function, you can do this automatically with the `multiplier` argument."
   ]
  },
  {
   "cell_type": "code",
   "execution_count": null,
   "id": "9ff74807-6cb7-465d-bda3-7efe0d024a90",
   "metadata": {},
   "outputs": [
    {
     "data": {
      "text/plain": [
       "tensor([[ 0.9975+0.0000j,  0.0000-0.0499j,  0.0000-0.0499j, -0.0025+0.0000j]])"
      ]
     },
     "execution_count": 34,
     "metadata": {},
     "output_type": "execute_result"
    }
   ],
   "source": [
    "import torch\n",
    "from qadence import feature_map, run\n",
    "\n",
    "op = feature_map(n_qubits = 2, param = \"t\", multiplier = 1.0)\n",
    "\n",
    "run(op, values = {\"t\": torch.tensor([[0.1]])})"
   ]
  },
  {
   "cell_type": "code",
   "execution_count": null,
   "id": "d249ca86-ff56-47ee-a88d-e0d44a6b93d0",
   "metadata": {},
   "outputs": [],
   "source": []
  }
 ],
 "metadata": {
  "kernelspec": {
   "display_name": "nii",
   "language": "python",
   "name": "python3"
  },
  "language_info": {
   "codemirror_mode": {
    "name": "ipython",
    "version": 3
   },
   "file_extension": ".py",
   "mimetype": "text/x-python",
   "name": "python",
   "nbconvert_exporter": "python",
   "pygments_lexer": "ipython3",
   "version": "3.12.3"
  }
 },
 "nbformat": 4,
 "nbformat_minor": 5
}
