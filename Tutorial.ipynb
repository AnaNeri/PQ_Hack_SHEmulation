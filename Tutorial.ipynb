{
 "cells": [
  {
   "cell_type": "markdown",
   "id": "15192834-cdbd-4895-a874-9397b51d7714",
   "metadata": {},
   "source": [
    "# Getting started with Qadence\n",
    "\n",
    "Qadence is a quantum computing SDK developed at Pasqal. It has a seamless integration with:\n",
    "- Pytorch, for creating and optimizing variational circuits.\n",
    "- Sympy, for integrating symbolic expressions into into the circuits."
   ]
  },
  {
   "cell_type": "markdown",
   "id": "15d517b8-05b0-447c-93ef-ce1f3f3ada68",
   "metadata": {},
   "source": [
    "## Quantum states\n",
    "\n",
    "For the purpose of this hackathon, you will only work with a statevector representation of quantum states. For a system of $N$ qubits, the statevector is a $2^N$ vector corresponding to the complex amplitudes of each basis state. For example, a 2-qubit state $|\\psi\\rangle$ has four complex amplitudes (a, b, c, d):\n",
    "\n",
    "$$\n",
    "|\\psi\\rangle = a|00\\rangle + b|01\\rangle + c|10\\rangle + d|11\\rangle\n",
    "$$\n",
    "\n",
    "Qadence integrates with PyTorch, and vectors and matrices are typically represented as a `torch.tensor`, which is similar to the `ndarray` from NumPy.\n",
    "\n",
    "Qadence has some convenience functions to initialize and process statevectors."
   ]
  },
  {
   "cell_type": "code",
   "execution_count": 1,
   "id": "58c28a12-fc30-486b-ac64-b915952071d0",
   "metadata": {},
   "outputs": [],
   "source": [
    "from qadence import zero_state, one_state, product_state, ghz_state, random_state\n",
    "\n",
    "n_qubits = 3\n",
    "\n",
    "state = zero_state(n_qubits)   # The state |000>\n",
    "state = one_state(n_qubits)    # The state |111>\n",
    "state = product_state(\"101\")   # The state |101>\n",
    "state = ghz_state(n_qubits)    # The state (1/√2)(|000> + |111>)\n",
    "state = random_state(n_qubits) # A random 3-qubit state"
   ]
  },
  {
   "cell_type": "markdown",
   "id": "17d63c5c-0693-44c0-9d46-80b70292e3ad",
   "metadata": {},
   "source": [
    "In all cases above, the `state` is an 8 (2^3) entry torch tensor with the amplitude values. \n",
    "\n",
    "Note that often in Qadence there is an extra dimension at the start of a tensor to account for the possibility of batching many states into a single object. In this case, there is only one state being created, so the tensor size is $[1, 8]$"
   ]
  },
  {
   "cell_type": "code",
   "execution_count": 2,
   "id": "0f6f231f-fb5f-4d50-bb07-1b2b59663a3c",
   "metadata": {},
   "outputs": [
    {
     "name": "stdout",
     "output_type": "stream",
     "text": [
      "tensor([[ 0.1589-0.5474j, -0.1559+0.1874j, -0.1147+0.1551j,  0.2078+0.1652j,\n",
      "          0.2274-0.0917j,  0.3464-0.5322j, -0.1134+0.1247j, -0.0240+0.1250j]])\n"
     ]
    }
   ],
   "source": [
    "assert list(state.size()) == [1, 8]\n",
    "\n",
    "print(state)"
   ]
  },
  {
   "cell_type": "markdown",
   "id": "b9b86440-bcb8-40e5-b88c-d6c544b7117d",
   "metadata": {},
   "source": [
    "We expect quantum states to be normalized, which we can check:"
   ]
  },
  {
   "cell_type": "code",
   "execution_count": 3,
   "id": "f228138b-a860-47a5-b0b4-996b11ef34d3",
   "metadata": {},
   "outputs": [
    {
     "name": "stdout",
     "output_type": "stream",
     "text": [
      "True\n",
      "False\n",
      "True\n"
     ]
    }
   ],
   "source": [
    "from qadence import is_normalized, normalize\n",
    "\n",
    "print(is_normalized(state))\n",
    "\n",
    "print(is_normalized(2.0 * state))\n",
    "\n",
    "new_state = normalize(2.0 * state)\n",
    "\n",
    "print(is_normalized(new_state))"
   ]
  },
  {
   "cell_type": "markdown",
   "id": "e14d517e-62d8-4043-8734-8d0114434440",
   "metadata": {},
   "source": [
    "It is often useful to compute the overlap, or inner-product, between two states $\\langle \\psi|\\phi \\rangle$. Below we construct two batches of random product states (which are computational basis states), and compute the overlap between them."
   ]
  },
  {
   "cell_type": "code",
   "execution_count": 5,
   "id": "590c33f1-37f6-4659-a7c9-148460f33f0c",
   "metadata": {},
   "outputs": [
    {
     "data": {
      "text/plain": [
       "tensor([1., 0., 0., 1., 0., 0., 0., 0., 0., 0.])"
      ]
     },
     "execution_count": 5,
     "metadata": {},
     "output_type": "execute_result"
    }
   ],
   "source": [
    "from qadence import rand_product_state, overlap\n",
    "\n",
    "n_qubits = 3\n",
    "\n",
    "batch0 = rand_product_state(n_qubits, batch_size = 10)\n",
    "batch1 = rand_product_state(n_qubits, batch_size = 10)\n",
    "\n",
    "overlap(batch0, batch1)"
   ]
  },
  {
   "cell_type": "markdown",
   "id": "06f1b2c0-cbcd-4410-8c27-2af442ad879d",
   "metadata": {},
   "source": [
    "You can find more information on qubit ordering conventions in the [State Conventions documentation page](https://pasqal-io.github.io/qadence/latest/content/state_conventions/)."
   ]
  },
  {
   "cell_type": "markdown",
   "id": "a0d404d7-5e3a-49c5-a292-42d0943085b7",
   "metadata": {},
   "source": [
    "## The block system\n",
    "\n",
    "Program composition in Qadence is done with the block system. Each basic operation is a type of \"block\", and all blocks can be composed together to create more complex blocks. Ultimately, the full quantum circuit is a composition of blocks.\n",
    "\n",
    "Basic primitive gates only need the target qubit as input."
   ]
  },
  {
   "cell_type": "code",
   "execution_count": 6,
   "id": "07bc8cc3-87a5-4199-add1-cca80a89a19d",
   "metadata": {},
   "outputs": [],
   "source": [
    "from qadence import X, Y, Z\n",
    "from qadence import chain\n",
    "\n",
    "# A block chaining three Pauli operators\n",
    "block = chain(X(0), Y(1), Z(2)) \n",
    "\n",
    "# The * operator is an alias for the chain() function\n",
    "block = X(0) * Y(1) * Z(2)"
   ]
  },
  {
   "cell_type": "markdown",
   "id": "d59c2741-12be-4b40-8f5e-52733df9ca44",
   "metadata": {},
   "source": [
    "Each block or full circuit can be visualized with the `display` function from `qadence.draw`. \n",
    "\n",
    "Note that this requires you to install the `graphviz` package on your system, and also the `visualization` extra (`pip install \"qadence[visualization]\"`). You can find more information here: [Qadence installation instructions](https://pasqal-io.github.io/qadence/latest/getting_started/installation/).\n",
    "\n"
   ]
  },
  {
   "cell_type": "code",
   "execution_count": 7,
   "id": "2ee7830d-0f62-4695-b58b-0a2dd1aa803b",
   "metadata": {},
   "outputs": [
    {
     "data": {
      "image/svg+xml": [
       "<?xml version=\"1.0\" encoding=\"UTF-8\" standalone=\"no\"?>\n",
       "<!DOCTYPE svg PUBLIC \"-//W3C//DTD SVG 1.1//EN\"\n",
       " \"http://www.w3.org/Graphics/SVG/1.1/DTD/svg11.dtd\">\n",
       "<!-- Generated by graphviz version 12.1.0 (20240811.2233)\n",
       " -->\n",
       "<!-- Pages: 1 -->\n",
       "<svg width=\"433pt\" height=\"160pt\"\n",
       " viewBox=\"0.00 0.00 432.80 159.60\" xmlns=\"http://www.w3.org/2000/svg\" xmlns:xlink=\"http://www.w3.org/1999/xlink\">\n",
       "<g id=\"graph0\" class=\"graph\" transform=\"scale(1 1) rotate(0) translate(4 155.6)\">\n",
       "<polygon fill=\"white\" stroke=\"none\" points=\"-4,4 -4,-155.6 428.8,-155.6 428.8,4 -4,4\"/>\n",
       "<!-- 6506d43098b84f0ba9ca78349ff044be -->\n",
       "<g id=\"node1\" class=\"node\">\n",
       "<title>6506d43098b84f0ba9ca78349ff044be</title>\n",
       "<text text-anchor=\"middle\" x=\"27\" y=\"-116.43\" font-family=\"JetBrains Mono\" font-size=\"15.00\">0</text>\n",
       "</g>\n",
       "<!-- 55d65dd4d790476594df8065badbd8db -->\n",
       "<g id=\"node2\" class=\"node\">\n",
       "<title>55d65dd4d790476594df8065badbd8db</title>\n",
       "<path fill=\"#f0c1be\" stroke=\"#d03a2f\" stroke-width=\"2.7\" d=\"M135.6,-151.6C135.6,-151.6 102,-151.6 102,-151.6 96,-151.6 90,-145.6 90,-139.6 90,-139.6 90,-106 90,-106 90,-100 96,-94 102,-94 102,-94 135.6,-94 135.6,-94 141.6,-94 147.6,-100 147.6,-106 147.6,-106 147.6,-139.6 147.6,-139.6 147.6,-145.6 141.6,-151.6 135.6,-151.6\"/>\n",
       "<text text-anchor=\"middle\" x=\"118.8\" y=\"-114.3\" font-family=\"JetBrains Mono\" font-size=\"20.00\">X</text>\n",
       "</g>\n",
       "<!-- 6506d43098b84f0ba9ca78349ff044be&#45;&#45;55d65dd4d790476594df8065badbd8db -->\n",
       "<g id=\"edge1\" class=\"edge\">\n",
       "<title>6506d43098b84f0ba9ca78349ff044be&#45;&#45;55d65dd4d790476594df8065badbd8db</title>\n",
       "<path fill=\"none\" stroke=\"black\" stroke-width=\"2.7\" d=\"M53.97,-122.8C64.96,-122.8 77.79,-122.8 89.05,-122.8\"/>\n",
       "</g>\n",
       "<!-- 637c86436274416087bff17b47678589 -->\n",
       "<g id=\"node6\" class=\"node\">\n",
       "<title>637c86436274416087bff17b47678589</title>\n",
       "<text text-anchor=\"middle\" x=\"27\" y=\"-69.42\" font-family=\"JetBrains Mono\" font-size=\"15.00\">1</text>\n",
       "</g>\n",
       "<!-- 6506d43098b84f0ba9ca78349ff044be&#45;&#45;637c86436274416087bff17b47678589 -->\n",
       "<!-- 18bc2b0d686e4f659295620439d5138b -->\n",
       "<g id=\"node3\" class=\"node\">\n",
       "<title>18bc2b0d686e4f659295620439d5138b</title>\n",
       "<polygon fill=\"black\" stroke=\"black\" stroke-width=\"1.35\" points=\"213.12,-123.52 211.68,-123.52 211.68,-122.08 213.12,-122.08 213.12,-123.52\"/>\n",
       "</g>\n",
       "<!-- 55d65dd4d790476594df8065badbd8db&#45;&#45;18bc2b0d686e4f659295620439d5138b -->\n",
       "<g id=\"edge2\" class=\"edge\">\n",
       "<title>55d65dd4d790476594df8065badbd8db&#45;&#45;18bc2b0d686e4f659295620439d5138b</title>\n",
       "<path fill=\"none\" stroke=\"black\" stroke-width=\"2.7\" d=\"M148.28,-122.8C174.33,-122.8 209.14,-122.8 211.3,-122.8\"/>\n",
       "</g>\n",
       "<!-- 0325caca44784686b8b38dabfa7c43a6 -->\n",
       "<g id=\"node4\" class=\"node\">\n",
       "<title>0325caca44784686b8b38dabfa7c43a6</title>\n",
       "<polygon fill=\"black\" stroke=\"black\" stroke-width=\"1.35\" points=\"306.72,-123.52 305.28,-123.52 305.28,-122.08 306.72,-122.08 306.72,-123.52\"/>\n",
       "</g>\n",
       "<!-- 18bc2b0d686e4f659295620439d5138b&#45;&#45;0325caca44784686b8b38dabfa7c43a6 -->\n",
       "<g id=\"edge3\" class=\"edge\">\n",
       "<title>18bc2b0d686e4f659295620439d5138b&#45;&#45;0325caca44784686b8b38dabfa7c43a6</title>\n",
       "<path fill=\"none\" stroke=\"black\" stroke-width=\"2.7\" d=\"M213.47,-122.8C216.2,-122.8 302.25,-122.8 304.94,-122.8\"/>\n",
       "</g>\n",
       "<!-- fb536b29156b4f3e9b95d62a18782978 -->\n",
       "<g id=\"node5\" class=\"node\">\n",
       "<title>fb536b29156b4f3e9b95d62a18782978</title>\n",
       "</g>\n",
       "<!-- 0325caca44784686b8b38dabfa7c43a6&#45;&#45;fb536b29156b4f3e9b95d62a18782978 -->\n",
       "<g id=\"edge4\" class=\"edge\">\n",
       "<title>0325caca44784686b8b38dabfa7c43a6&#45;&#45;fb536b29156b4f3e9b95d62a18782978</title>\n",
       "<path fill=\"none\" stroke=\"black\" stroke-width=\"2.7\" d=\"M307.07,-122.8C308.81,-122.8 345.14,-122.8 371.04,-122.8\"/>\n",
       "</g>\n",
       "<!-- 4b8261f610ac46f98be668aefacdf751 -->\n",
       "<g id=\"node10\" class=\"node\">\n",
       "<title>4b8261f610ac46f98be668aefacdf751</title>\n",
       "</g>\n",
       "<!-- fb536b29156b4f3e9b95d62a18782978&#45;&#45;4b8261f610ac46f98be668aefacdf751 -->\n",
       "<!-- 5828814cba0e48f2a22b59e156dd3c22 -->\n",
       "<g id=\"node7\" class=\"node\">\n",
       "<title>5828814cba0e48f2a22b59e156dd3c22</title>\n",
       "<polygon fill=\"black\" stroke=\"black\" stroke-width=\"1.35\" points=\"119.52,-76.52 118.08,-76.52 118.08,-75.08 119.52,-75.08 119.52,-76.52\"/>\n",
       "</g>\n",
       "<!-- 637c86436274416087bff17b47678589&#45;&#45;5828814cba0e48f2a22b59e156dd3c22 -->\n",
       "<g id=\"edge5\" class=\"edge\">\n",
       "<title>637c86436274416087bff17b47678589&#45;&#45;5828814cba0e48f2a22b59e156dd3c22</title>\n",
       "<path fill=\"none\" stroke=\"black\" stroke-width=\"2.7\" d=\"M53.97,-75.8C79.67,-75.8 115.48,-75.8 117.69,-75.8\"/>\n",
       "</g>\n",
       "<!-- 077b97a2a9ab4019b43d4b94fb60657b -->\n",
       "<g id=\"node11\" class=\"node\">\n",
       "<title>077b97a2a9ab4019b43d4b94fb60657b</title>\n",
       "<text text-anchor=\"middle\" x=\"27\" y=\"-22.42\" font-family=\"JetBrains Mono\" font-size=\"15.00\">2</text>\n",
       "</g>\n",
       "<!-- 637c86436274416087bff17b47678589&#45;&#45;077b97a2a9ab4019b43d4b94fb60657b -->\n",
       "<!-- 4c9b6dadbcd64850b5c40341fcee9458 -->\n",
       "<g id=\"node8\" class=\"node\">\n",
       "<title>4c9b6dadbcd64850b5c40341fcee9458</title>\n",
       "<path fill=\"#f0c1be\" stroke=\"#d03a2f\" stroke-width=\"2.7\" d=\"M229.2,-104.6C229.2,-104.6 195.6,-104.6 195.6,-104.6 189.6,-104.6 183.6,-98.6 183.6,-92.6 183.6,-92.6 183.6,-59 183.6,-59 183.6,-53 189.6,-47 195.6,-47 195.6,-47 229.2,-47 229.2,-47 235.2,-47 241.2,-53 241.2,-59 241.2,-59 241.2,-92.6 241.2,-92.6 241.2,-98.6 235.2,-104.6 229.2,-104.6\"/>\n",
       "<text text-anchor=\"middle\" x=\"212.4\" y=\"-67.3\" font-family=\"JetBrains Mono\" font-size=\"20.00\">Y</text>\n",
       "</g>\n",
       "<!-- 5828814cba0e48f2a22b59e156dd3c22&#45;&#45;4c9b6dadbcd64850b5c40341fcee9458 -->\n",
       "<g id=\"edge6\" class=\"edge\">\n",
       "<title>5828814cba0e48f2a22b59e156dd3c22&#45;&#45;4c9b6dadbcd64850b5c40341fcee9458</title>\n",
       "<path fill=\"none\" stroke=\"black\" stroke-width=\"2.7\" d=\"M119.87,-75.8C121.59,-75.8 156.48,-75.8 182.68,-75.8\"/>\n",
       "</g>\n",
       "<!-- bf13d78636b243499084fdcb0be51ad2 -->\n",
       "<g id=\"node9\" class=\"node\">\n",
       "<title>bf13d78636b243499084fdcb0be51ad2</title>\n",
       "<polygon fill=\"black\" stroke=\"black\" stroke-width=\"1.35\" points=\"306.72,-76.52 305.28,-76.52 305.28,-75.08 306.72,-75.08 306.72,-76.52\"/>\n",
       "</g>\n",
       "<!-- 4c9b6dadbcd64850b5c40341fcee9458&#45;&#45;bf13d78636b243499084fdcb0be51ad2 -->\n",
       "<g id=\"edge7\" class=\"edge\">\n",
       "<title>4c9b6dadbcd64850b5c40341fcee9458&#45;&#45;bf13d78636b243499084fdcb0be51ad2</title>\n",
       "<path fill=\"none\" stroke=\"black\" stroke-width=\"2.7\" d=\"M241.88,-75.8C267.93,-75.8 302.74,-75.8 304.9,-75.8\"/>\n",
       "</g>\n",
       "<!-- bf13d78636b243499084fdcb0be51ad2&#45;&#45;4b8261f610ac46f98be668aefacdf751 -->\n",
       "<g id=\"edge8\" class=\"edge\">\n",
       "<title>bf13d78636b243499084fdcb0be51ad2&#45;&#45;4b8261f610ac46f98be668aefacdf751</title>\n",
       "<path fill=\"none\" stroke=\"black\" stroke-width=\"2.7\" d=\"M307.07,-75.8C308.81,-75.8 345.14,-75.8 371.04,-75.8\"/>\n",
       "</g>\n",
       "<!-- 04d67d7dd4804fe685d8d955b5516142 -->\n",
       "<g id=\"node15\" class=\"node\">\n",
       "<title>04d67d7dd4804fe685d8d955b5516142</title>\n",
       "</g>\n",
       "<!-- 4b8261f610ac46f98be668aefacdf751&#45;&#45;04d67d7dd4804fe685d8d955b5516142 -->\n",
       "<!-- 4032ff37c54f4b94b11e140732999461 -->\n",
       "<g id=\"node12\" class=\"node\">\n",
       "<title>4032ff37c54f4b94b11e140732999461</title>\n",
       "<polygon fill=\"black\" stroke=\"black\" stroke-width=\"1.35\" points=\"119.52,-29.52 118.08,-29.52 118.08,-28.08 119.52,-28.08 119.52,-29.52\"/>\n",
       "</g>\n",
       "<!-- 077b97a2a9ab4019b43d4b94fb60657b&#45;&#45;4032ff37c54f4b94b11e140732999461 -->\n",
       "<g id=\"edge9\" class=\"edge\">\n",
       "<title>077b97a2a9ab4019b43d4b94fb60657b&#45;&#45;4032ff37c54f4b94b11e140732999461</title>\n",
       "<path fill=\"none\" stroke=\"black\" stroke-width=\"2.7\" d=\"M53.97,-28.8C79.67,-28.8 115.48,-28.8 117.69,-28.8\"/>\n",
       "</g>\n",
       "<!-- bb94ce8e681c4aa3ac87560bbf2ce2c8 -->\n",
       "<g id=\"node13\" class=\"node\">\n",
       "<title>bb94ce8e681c4aa3ac87560bbf2ce2c8</title>\n",
       "<polygon fill=\"black\" stroke=\"black\" stroke-width=\"1.35\" points=\"213.12,-29.52 211.68,-29.52 211.68,-28.08 213.12,-28.08 213.12,-29.52\"/>\n",
       "</g>\n",
       "<!-- 4032ff37c54f4b94b11e140732999461&#45;&#45;bb94ce8e681c4aa3ac87560bbf2ce2c8 -->\n",
       "<g id=\"edge10\" class=\"edge\">\n",
       "<title>4032ff37c54f4b94b11e140732999461&#45;&#45;bb94ce8e681c4aa3ac87560bbf2ce2c8</title>\n",
       "<path fill=\"none\" stroke=\"black\" stroke-width=\"2.7\" d=\"M119.87,-28.8C122.6,-28.8 208.65,-28.8 211.34,-28.8\"/>\n",
       "</g>\n",
       "<!-- 7254045702014a2a82566b4c748a58c9 -->\n",
       "<g id=\"node14\" class=\"node\">\n",
       "<title>7254045702014a2a82566b4c748a58c9</title>\n",
       "<path fill=\"#f0c1be\" stroke=\"#d03a2f\" stroke-width=\"2.7\" d=\"M322.8,-57.6C322.8,-57.6 289.2,-57.6 289.2,-57.6 283.2,-57.6 277.2,-51.6 277.2,-45.6 277.2,-45.6 277.2,-12 277.2,-12 277.2,-6 283.2,0 289.2,0 289.2,0 322.8,0 322.8,0 328.8,0 334.8,-6 334.8,-12 334.8,-12 334.8,-45.6 334.8,-45.6 334.8,-51.6 328.8,-57.6 322.8,-57.6\"/>\n",
       "<text text-anchor=\"middle\" x=\"306\" y=\"-20.3\" font-family=\"JetBrains Mono\" font-size=\"20.00\">Z</text>\n",
       "</g>\n",
       "<!-- bb94ce8e681c4aa3ac87560bbf2ce2c8&#45;&#45;7254045702014a2a82566b4c748a58c9 -->\n",
       "<g id=\"edge11\" class=\"edge\">\n",
       "<title>bb94ce8e681c4aa3ac87560bbf2ce2c8&#45;&#45;7254045702014a2a82566b4c748a58c9</title>\n",
       "<path fill=\"none\" stroke=\"black\" stroke-width=\"2.7\" d=\"M213.47,-28.8C215.19,-28.8 250.08,-28.8 276.28,-28.8\"/>\n",
       "</g>\n",
       "<!-- 7254045702014a2a82566b4c748a58c9&#45;&#45;04d67d7dd4804fe685d8d955b5516142 -->\n",
       "<g id=\"edge12\" class=\"edge\">\n",
       "<title>7254045702014a2a82566b4c748a58c9&#45;&#45;04d67d7dd4804fe685d8d955b5516142</title>\n",
       "<path fill=\"none\" stroke=\"black\" stroke-width=\"2.7\" d=\"M335.41,-28.8C346.82,-28.8 359.88,-28.8 371.01,-28.8\"/>\n",
       "</g>\n",
       "</g>\n",
       "</svg>\n"
      ],
      "text/plain": [
       "<graphviz.graphs.Graph at 0x14fe7f7f0>"
      ]
     },
     "execution_count": 7,
     "metadata": {},
     "output_type": "execute_result"
    }
   ],
   "source": [
    "from qadence.draw import display\n",
    "\n",
    "display(block)"
   ]
  },
  {
   "cell_type": "markdown",
   "id": "13ddf795-bc81-4b0a-a87f-b7c968dddad0",
   "metadata": {},
   "source": [
    "Each operator above acts on a different qubit, and so chaining them in sequence is equivalent to combining them in parallel. Combining them in parallel is represented by the kronecker product of each operator. Explicitly calling the `kron()` is only possible when the qubit support is different."
   ]
  },
  {
   "cell_type": "code",
   "execution_count": 8,
   "id": "09e32885-6c5c-4793-9512-d5793e5c8718",
   "metadata": {},
   "outputs": [
    {
     "data": {
      "image/svg+xml": [
       "<?xml version=\"1.0\" encoding=\"UTF-8\" standalone=\"no\"?>\n",
       "<!DOCTYPE svg PUBLIC \"-//W3C//DTD SVG 1.1//EN\"\n",
       " \"http://www.w3.org/Graphics/SVG/1.1/DTD/svg11.dtd\">\n",
       "<!-- Generated by graphviz version 12.1.0 (20240811.2233)\n",
       " -->\n",
       "<!-- Pages: 1 -->\n",
       "<svg width=\"246pt\" height=\"204pt\"\n",
       " viewBox=\"0.00 0.00 245.60 203.60\" xmlns=\"http://www.w3.org/2000/svg\" xmlns:xlink=\"http://www.w3.org/1999/xlink\">\n",
       "<g id=\"graph0\" class=\"graph\" transform=\"scale(1 1) rotate(0) translate(4 199.6)\">\n",
       "<polygon fill=\"white\" stroke=\"none\" points=\"-4,4 -4,-199.6 241.6,-199.6 241.6,4 -4,4\"/>\n",
       "<!-- 726c127525b242c08df100d4f1061f46 -->\n",
       "<g id=\"node1\" class=\"node\">\n",
       "<title>726c127525b242c08df100d4f1061f46</title>\n",
       "<text text-anchor=\"middle\" x=\"27\" y=\"-160.43\" font-family=\"JetBrains Mono\" font-size=\"15.00\">0</text>\n",
       "</g>\n",
       "<!-- 1d108b43bcd941a29b71580e0b418576 -->\n",
       "<g id=\"node2\" class=\"node\">\n",
       "<title>1d108b43bcd941a29b71580e0b418576</title>\n",
       "<path fill=\"#f0c1be\" stroke=\"#d03a2f\" stroke-width=\"2.7\" d=\"M135.6,-195.6C135.6,-195.6 102,-195.6 102,-195.6 96,-195.6 90,-189.6 90,-183.6 90,-183.6 90,-150 90,-150 90,-144 96,-138 102,-138 102,-138 135.6,-138 135.6,-138 141.6,-138 147.6,-144 147.6,-150 147.6,-150 147.6,-183.6 147.6,-183.6 147.6,-189.6 141.6,-195.6 135.6,-195.6\"/>\n",
       "<text text-anchor=\"middle\" x=\"118.8\" y=\"-158.3\" font-family=\"JetBrains Mono\" font-size=\"20.00\">X</text>\n",
       "</g>\n",
       "<!-- 726c127525b242c08df100d4f1061f46&#45;&#45;1d108b43bcd941a29b71580e0b418576 -->\n",
       "<g id=\"edge1\" class=\"edge\">\n",
       "<title>726c127525b242c08df100d4f1061f46&#45;&#45;1d108b43bcd941a29b71580e0b418576</title>\n",
       "<path fill=\"none\" stroke=\"black\" stroke-width=\"2.7\" d=\"M53.97,-166.8C64.96,-166.8 77.79,-166.8 89.05,-166.8\"/>\n",
       "</g>\n",
       "<!-- c73d1dc7022f42d7a0d547b46ab4e149 -->\n",
       "<g id=\"node4\" class=\"node\">\n",
       "<title>c73d1dc7022f42d7a0d547b46ab4e149</title>\n",
       "<text text-anchor=\"middle\" x=\"27\" y=\"-91.42\" font-family=\"JetBrains Mono\" font-size=\"15.00\">1</text>\n",
       "</g>\n",
       "<!-- 726c127525b242c08df100d4f1061f46&#45;&#45;c73d1dc7022f42d7a0d547b46ab4e149 -->\n",
       "<!-- 1cbc7a281dc344d79c1f0be5bbb3e3f9 -->\n",
       "<g id=\"node3\" class=\"node\">\n",
       "<title>1cbc7a281dc344d79c1f0be5bbb3e3f9</title>\n",
       "</g>\n",
       "<!-- 1d108b43bcd941a29b71580e0b418576&#45;&#45;1cbc7a281dc344d79c1f0be5bbb3e3f9 -->\n",
       "<g id=\"edge2\" class=\"edge\">\n",
       "<title>1d108b43bcd941a29b71580e0b418576&#45;&#45;1cbc7a281dc344d79c1f0be5bbb3e3f9</title>\n",
       "<path fill=\"none\" stroke=\"black\" stroke-width=\"2.7\" d=\"M148.21,-166.8C159.62,-166.8 172.68,-166.8 183.81,-166.8\"/>\n",
       "</g>\n",
       "<!-- f514232e44114a84b22c0d823f513f1d -->\n",
       "<g id=\"node6\" class=\"node\">\n",
       "<title>f514232e44114a84b22c0d823f513f1d</title>\n",
       "</g>\n",
       "<!-- 1cbc7a281dc344d79c1f0be5bbb3e3f9&#45;&#45;f514232e44114a84b22c0d823f513f1d -->\n",
       "<!-- 7bcd4ad4e6024cb887aacd43aeaeff79 -->\n",
       "<g id=\"node5\" class=\"node\">\n",
       "<title>7bcd4ad4e6024cb887aacd43aeaeff79</title>\n",
       "<path fill=\"#f0c1be\" stroke=\"#d03a2f\" stroke-width=\"2.7\" d=\"M135.6,-126.6C135.6,-126.6 102,-126.6 102,-126.6 96,-126.6 90,-120.6 90,-114.6 90,-114.6 90,-81 90,-81 90,-75 96,-69 102,-69 102,-69 135.6,-69 135.6,-69 141.6,-69 147.6,-75 147.6,-81 147.6,-81 147.6,-114.6 147.6,-114.6 147.6,-120.6 141.6,-126.6 135.6,-126.6\"/>\n",
       "<text text-anchor=\"middle\" x=\"118.8\" y=\"-89.3\" font-family=\"JetBrains Mono\" font-size=\"20.00\">Y</text>\n",
       "</g>\n",
       "<!-- c73d1dc7022f42d7a0d547b46ab4e149&#45;&#45;7bcd4ad4e6024cb887aacd43aeaeff79 -->\n",
       "<g id=\"edge3\" class=\"edge\">\n",
       "<title>c73d1dc7022f42d7a0d547b46ab4e149&#45;&#45;7bcd4ad4e6024cb887aacd43aeaeff79</title>\n",
       "<path fill=\"none\" stroke=\"black\" stroke-width=\"2.7\" d=\"M53.97,-97.8C64.96,-97.8 77.79,-97.8 89.05,-97.8\"/>\n",
       "</g>\n",
       "<!-- 5c301c3fa9994474b36f5f61acb6ffc5 -->\n",
       "<g id=\"node7\" class=\"node\">\n",
       "<title>5c301c3fa9994474b36f5f61acb6ffc5</title>\n",
       "<text text-anchor=\"middle\" x=\"27\" y=\"-22.42\" font-family=\"JetBrains Mono\" font-size=\"15.00\">2</text>\n",
       "</g>\n",
       "<!-- c73d1dc7022f42d7a0d547b46ab4e149&#45;&#45;5c301c3fa9994474b36f5f61acb6ffc5 -->\n",
       "<!-- 7bcd4ad4e6024cb887aacd43aeaeff79&#45;&#45;f514232e44114a84b22c0d823f513f1d -->\n",
       "<g id=\"edge4\" class=\"edge\">\n",
       "<title>7bcd4ad4e6024cb887aacd43aeaeff79&#45;&#45;f514232e44114a84b22c0d823f513f1d</title>\n",
       "<path fill=\"none\" stroke=\"black\" stroke-width=\"2.7\" d=\"M148.21,-97.8C159.62,-97.8 172.68,-97.8 183.81,-97.8\"/>\n",
       "</g>\n",
       "<!-- b8775d05e778481ea2bf1a3b0d3cd807 -->\n",
       "<g id=\"node9\" class=\"node\">\n",
       "<title>b8775d05e778481ea2bf1a3b0d3cd807</title>\n",
       "</g>\n",
       "<!-- f514232e44114a84b22c0d823f513f1d&#45;&#45;b8775d05e778481ea2bf1a3b0d3cd807 -->\n",
       "<!-- 116ac78a1f744297a4b123e3cc05322f -->\n",
       "<g id=\"node8\" class=\"node\">\n",
       "<title>116ac78a1f744297a4b123e3cc05322f</title>\n",
       "<path fill=\"#f0c1be\" stroke=\"#d03a2f\" stroke-width=\"2.7\" d=\"M135.6,-57.6C135.6,-57.6 102,-57.6 102,-57.6 96,-57.6 90,-51.6 90,-45.6 90,-45.6 90,-12 90,-12 90,-6 96,0 102,0 102,0 135.6,0 135.6,0 141.6,0 147.6,-6 147.6,-12 147.6,-12 147.6,-45.6 147.6,-45.6 147.6,-51.6 141.6,-57.6 135.6,-57.6\"/>\n",
       "<text text-anchor=\"middle\" x=\"118.8\" y=\"-20.3\" font-family=\"JetBrains Mono\" font-size=\"20.00\">Z</text>\n",
       "</g>\n",
       "<!-- 5c301c3fa9994474b36f5f61acb6ffc5&#45;&#45;116ac78a1f744297a4b123e3cc05322f -->\n",
       "<g id=\"edge5\" class=\"edge\">\n",
       "<title>5c301c3fa9994474b36f5f61acb6ffc5&#45;&#45;116ac78a1f744297a4b123e3cc05322f</title>\n",
       "<path fill=\"none\" stroke=\"black\" stroke-width=\"2.7\" d=\"M53.97,-28.8C64.96,-28.8 77.79,-28.8 89.05,-28.8\"/>\n",
       "</g>\n",
       "<!-- 116ac78a1f744297a4b123e3cc05322f&#45;&#45;b8775d05e778481ea2bf1a3b0d3cd807 -->\n",
       "<g id=\"edge6\" class=\"edge\">\n",
       "<title>116ac78a1f744297a4b123e3cc05322f&#45;&#45;b8775d05e778481ea2bf1a3b0d3cd807</title>\n",
       "<path fill=\"none\" stroke=\"black\" stroke-width=\"2.7\" d=\"M148.21,-28.8C159.62,-28.8 172.68,-28.8 183.81,-28.8\"/>\n",
       "</g>\n",
       "</g>\n",
       "</svg>\n"
      ],
      "text/plain": [
       "<graphviz.graphs.Graph at 0x14fe7f610>"
      ]
     },
     "execution_count": 8,
     "metadata": {},
     "output_type": "execute_result"
    }
   ],
   "source": [
    "from qadence import kron\n",
    "\n",
    "# A block doing the kronecker product of three Pauli operators\n",
    "block = kron(X(0), Y(1), Z(2)) \n",
    "\n",
    "# The @ operator is an alias for the kron() function\n",
    "block = X(0) @ Y(1) @ Z(2)\n",
    "\n",
    "display(block)"
   ]
  },
  {
   "cell_type": "markdown",
   "id": "7c6f3056-1ca9-412f-964e-574cc7c0f654",
   "metadata": {},
   "source": [
    "Some more useful tips on the block system:"
   ]
  },
  {
   "cell_type": "code",
   "execution_count": 9,
   "id": "4a0a45cd-6b48-42f6-a086-ecc46a4ac6be",
   "metadata": {},
   "outputs": [
    {
     "name": "stdout",
     "output_type": "stream",
     "text": [
      "Child block acting on qubits (0,)\n",
      "Child block acting on qubits (1,)\n",
      "Child block acting on qubits (2,)\n"
     ]
    }
   ],
   "source": [
    "n_qubits = 3\n",
    "\n",
    "# Composition functions support list comprehension syntax\n",
    "block = kron(X(i) for i in range(n_qubits))\n",
    "\n",
    "# The qubit support of any block can be inspected\n",
    "assert block.qubit_support == (0, 1, 2)\n",
    "\n",
    "# Any composite block is a tree of blocks\n",
    "for block in block.blocks:\n",
    "    print(\"Child block acting on qubits\", block.qubit_support)"
   ]
  },
  {
   "cell_type": "markdown",
   "id": "bbfef3b1-a548-406b-a1a4-23684921aef7",
   "metadata": {},
   "source": [
    "Any composite block can be equally used when composing an even more complex block. If you simply print the block, you will see an ASCII representation of the block tree:"
   ]
  },
  {
   "cell_type": "code",
   "execution_count": 10,
   "id": "ce485bda-359c-46e5-ade3-d7fc50e3ad52",
   "metadata": {},
   "outputs": [
    {
     "data": {
      "text/html": [
       "<pre style=\"white-space:pre;overflow-x:auto;line-height:normal;font-family:Menlo,'DejaVu Sans Mono',consolas,'Courier New',monospace\"></pre>\n"
      ],
      "text/plain": []
     },
     "metadata": {},
     "output_type": "display_data"
    },
    {
     "data": {
      "text/plain": [
       "ChainBlock(0,1,2)\n",
       "├── KronBlock(0,1,2)\n",
       "│   ├── X(0)\n",
       "│   ├── X(1)\n",
       "│   └── X(2)\n",
       "├── CNOT(0, 1)\n",
       "└── CNOT(1, 2)"
      ]
     },
     "execution_count": 10,
     "metadata": {},
     "output_type": "execute_result"
    }
   ],
   "source": [
    "from qadence import CNOT\n",
    "\n",
    "n_qubits = 3\n",
    "\n",
    "block = kron(X(i) for i in range(n_qubits))\n",
    "\n",
    "new_block = chain(block, CNOT(0, 1), CNOT(1, 2))\n",
    "\n",
    "new_block"
   ]
  },
  {
   "cell_type": "markdown",
   "id": "5050fbe0-6f8f-4681-a69e-80de2c8ccb8c",
   "metadata": {},
   "source": [
    "In a statevector simulation each quantum operator acting on $N$ qubits is represented as a matrix of size $2^N\\times2^N$. So far in our examples, we have only used the symbolic representation of the operators, so this matrix is not yet created (and often, it never needs to be created). Nevertheless, we can forcefully inspect it with the `tensor` method:"
   ]
  },
  {
   "cell_type": "code",
   "execution_count": 11,
   "id": "ef7be997-d141-4967-bfab-61f5d5afce2b",
   "metadata": {},
   "outputs": [
    {
     "data": {
      "text/plain": [
       "tensor([[[0.+0.j, 0.+0.j, 0.+0.j, 0.+0.j, 0.+0.j, 0.+0.j, 0.+0.j, 1.+0.j],\n",
       "         [0.+0.j, 0.+0.j, 0.+0.j, 0.+0.j, 0.+0.j, 0.+0.j, 1.+0.j, 0.+0.j],\n",
       "         [0.+0.j, 0.+0.j, 0.+0.j, 0.+0.j, 0.+0.j, 1.+0.j, 0.+0.j, 0.+0.j],\n",
       "         [0.+0.j, 0.+0.j, 0.+0.j, 0.+0.j, 1.+0.j, 0.+0.j, 0.+0.j, 0.+0.j],\n",
       "         [0.+0.j, 0.+0.j, 0.+0.j, 1.+0.j, 0.+0.j, 0.+0.j, 0.+0.j, 0.+0.j],\n",
       "         [0.+0.j, 0.+0.j, 1.+0.j, 0.+0.j, 0.+0.j, 0.+0.j, 0.+0.j, 0.+0.j],\n",
       "         [0.+0.j, 1.+0.j, 0.+0.j, 0.+0.j, 0.+0.j, 0.+0.j, 0.+0.j, 0.+0.j],\n",
       "         [1.+0.j, 0.+0.j, 0.+0.j, 0.+0.j, 0.+0.j, 0.+0.j, 0.+0.j, 0.+0.j]]])"
      ]
     },
     "execution_count": 11,
     "metadata": {},
     "output_type": "execute_result"
    }
   ],
   "source": [
    "block.tensor()"
   ]
  },
  {
   "cell_type": "markdown",
   "id": "574b6e6e-3fe8-40a3-b056-34eeca4afcb3",
   "metadata": {},
   "source": [
    "## Quickly running blocks\n",
    "\n",
    "Later on we will learn how to build more complex programs with the `QuantumModel` class to target specific applications. \n",
    "\n",
    "However, sometimes we just want to quickly apply some operators to a statevector to inspect the result. For this purpose, Qadence supports three quick execution functions:\n",
    "\n",
    "- `run`: returns the final statevector after running the block.\n",
    "- `sample`: samples from the final statevector and returns a counter.\n",
    "- `expectation`: computes the exact expectation value of an observable after running a block."
   ]
  },
  {
   "cell_type": "code",
   "execution_count": 12,
   "id": "366353c0-2290-41d6-a1d2-feb455000530",
   "metadata": {},
   "outputs": [],
   "source": [
    "from qadence import X, kron, run\n",
    "from qadence import product_state, overlap\n",
    "\n",
    "n_qubits = 3\n",
    "\n",
    "block = kron(X(i) for i in range(n_qubits))\n",
    "\n",
    "# By default the initial state is the all-zero state\n",
    "state = run(block)\n",
    "assert overlap(state, product_state(\"111\")) == 1.0\n",
    "\n",
    "# We can change it with the state argument\n",
    "init_state = product_state(\"010\")\n",
    "state = run(block, state = init_state)\n",
    "assert overlap(state, product_state(\"101\")) == 1.0"
   ]
  },
  {
   "cell_type": "markdown",
   "id": "cdd86fa2-a7df-4e9b-9c15-7e63c2ff185a",
   "metadata": {},
   "source": [
    "As you might know, on real hardware it is not possible to directly inspect the statevector. Instead quantum computing on real devices typically relies on repeatedly running experiments and measuring the final wavefunction to obtain samples of the basis states following the probability distribution encoded in the amplitudes. This is also called the $Z$-basis, as the states $|0\\rangle$ and $|1\\rangle$ are eigenvectors of the $Z$ Pauli operator:\n",
    "\n",
    "$$\n",
    "Z = \\begin{bmatrix}\n",
    "1 & 0 \\\\\n",
    "0 & -1\n",
    "\\end{bmatrix}\n",
    "$$\n",
    "\n",
    "The `sample` function replicates this behaviour by performing a certain number of shots:"
   ]
  },
  {
   "cell_type": "code",
   "execution_count": 13,
   "id": "df135dfb-a7f8-4405-8e45-ee90b1c55d56",
   "metadata": {},
   "outputs": [
    {
     "data": {
      "text/plain": [
       "[OrderedCounter({'000': 503, '111': 497})]"
      ]
     },
     "execution_count": 13,
     "metadata": {},
     "output_type": "execute_result"
    }
   ],
   "source": [
    "from qadence import H, CNOT, sample\n",
    "\n",
    "n_qubits = 3\n",
    "\n",
    "# The GHZ state (1/√2)(|000> + |111>) can be built \n",
    "# with an Hadamard gate + two CNOT gates\n",
    "block = H(0) * CNOT(0, 1) * CNOT(0, 2)\n",
    "\n",
    "sample(block, n_shots = 1000)"
   ]
  },
  {
   "cell_type": "markdown",
   "id": "bf627fcd-b668-4ce1-b82f-f42bc70c3b4f",
   "metadata": {},
   "source": [
    "The expectation value of a given observable $\\hat{O}$ is another useful output often used in quantum computing. For a quantum state $|\\psi\\rangle$, that is the quantity $\\langle \\psi|\\hat{O}|\\psi \\rangle$. In a statevector simulation, this can be computed exactly with a vector-matrix-vector product.\n",
    "\n",
    "Observables are Hermitian operators, often represented as sums of Pauli operators. Sums of operators can easily be written in Qadence with the final block composition function: the `add`."
   ]
  },
  {
   "cell_type": "code",
   "execution_count": 15,
   "id": "9079641b-f0e7-4cd1-be76-3f6bc72db495",
   "metadata": {},
   "outputs": [
    {
     "data": {
      "text/plain": [
       "tensor([[0.]])"
      ]
     },
     "execution_count": 15,
     "metadata": {},
     "output_type": "execute_result"
    }
   ],
   "source": [
    "from qadence import expectation, add\n",
    "from qadence import Z\n",
    "\n",
    "n_qubits = 3\n",
    "\n",
    "block = H(0) * CNOT(0, 1) * CNOT(0, 2)\n",
    "\n",
    "obs = add(Z(i) for i in range(n_qubits))\n",
    "\n",
    "# Or using the + operator as an alias\n",
    "obs = Z(0) + Z(1) + Z(2)\n",
    "\n",
    "expectation(block, observable = obs)"
   ]
  },
  {
   "cell_type": "markdown",
   "id": "33f83870-0da2-4eb0-bc92-aba97d350af0",
   "metadata": {},
   "source": [
    "Clearly, the value here is 0, as we used $|\\psi\\rangle=\\frac{1}{\\sqrt{2}}(|000\\rangle + |111\\rangle)$ because we are computing\n",
    "\n",
    "$$\n",
    "\\langle \\psi|\\hat{O}|\\psi \\rangle = \\frac{1}{2}(\\langle000|Z_0+Z_1+Z_2|000\\rangle + \\langle111|Z_0+Z_1+Z_2|111\\rangle) = \\frac{1}{2}(3 - 3) = 0\n",
    "$$\n",
    "\n",
    "Note that exactly computing the expectation value like we did here is not possilbe on real hardware! The most you can do is to use the samples obtained to approximate the expectation value. For $Z$ expectations this is quite direct since it is given by the probability of measuring $\\ket{0}$ minus the probability of measuring $\\ket{1}$, which you can estimate from the sample histogram.\n"
   ]
  },
  {
   "cell_type": "markdown",
   "id": "f22cf680-1772-4036-90d7-1d732b26e934",
   "metadata": {},
   "source": [
    "## Parametric operators"
   ]
  },
  {
   "cell_type": "markdown",
   "id": "5bc9a1fa-25e1-4629-93f0-65e65009519a",
   "metadata": {},
   "source": [
    "Certain operators have variable parameters that can take different values. The most basic ones are the `RX`, `RY` and `RZ` which perform a rotation on a single qubit by a certain angle.\n",
    "\n",
    "$$\n",
    "R_x(\\theta)=\\begin{bmatrix}\n",
    "\\cos\\frac{\\theta}{2} & -i\\sin\\frac{\\theta}{2} \\\\\n",
    "-i\\sin\\frac{\\theta}{2} & \\cos\\frac{\\theta}{2}\n",
    "\\end{bmatrix}\n",
    "\\qquad\n",
    "R_y(\\theta)=\\begin{bmatrix}\n",
    "\\cos\\frac{\\theta}{2} & -\\sin\\frac{\\theta}{2} \\\\\n",
    "\\sin\\frac{\\theta}{2} & \\cos\\frac{\\theta}{2}\n",
    "\\end{bmatrix}\n",
    "\\qquad\n",
    "R_z(\\theta)=\\begin{bmatrix}\n",
    "e^{-i\\theta/2} & 0 \\\\\n",
    "0 & e^{i\\theta/2}\n",
    "\\end{bmatrix}\n",
    "$$"
   ]
  },
  {
   "cell_type": "code",
   "execution_count": 16,
   "id": "705bef65-e63c-4f9b-93c3-4d58f329ba83",
   "metadata": {},
   "outputs": [],
   "source": [
    "from qadence import RX, RY, RZ, PI\n",
    "\n",
    "angle = PI\n",
    "\n",
    "block = RX(0, angle) * RY(1, angle) * RZ(2, angle)"
   ]
  },
  {
   "cell_type": "markdown",
   "id": "d74388a9-d173-4777-aa3a-097b4ec32875",
   "metadata": {},
   "source": [
    "For certain applications it can be useful to delay defining the value of the parameter until the program is executed. Either because the parameter will be used as a data input (feature parameter), or because we want to mark that parameter as something to be optimized depending on a given goal (variational parameter).\n",
    "\n",
    "Both of these parameter types and fully symbolic parameter expressions are supported in Qadence through an integration with Sympy."
   ]
  },
  {
   "cell_type": "code",
   "execution_count": 17,
   "id": "7f6d9bb5-8453-4faf-b973-af940cd4c87c",
   "metadata": {},
   "outputs": [
    {
     "data": {
      "image/svg+xml": [
       "<?xml version=\"1.0\" encoding=\"UTF-8\" standalone=\"no\"?>\n",
       "<!DOCTYPE svg PUBLIC \"-//W3C//DTD SVG 1.1//EN\"\n",
       " \"http://www.w3.org/Graphics/SVG/1.1/DTD/svg11.dtd\">\n",
       "<!-- Generated by graphviz version 12.1.0 (20240811.2233)\n",
       " -->\n",
       "<!-- Pages: 1 -->\n",
       "<svg width=\"433pt\" height=\"66pt\"\n",
       " viewBox=\"0.00 0.00 432.95 65.60\" xmlns=\"http://www.w3.org/2000/svg\" xmlns:xlink=\"http://www.w3.org/1999/xlink\">\n",
       "<g id=\"graph0\" class=\"graph\" transform=\"scale(1 1) rotate(0) translate(4 61.6)\">\n",
       "<polygon fill=\"white\" stroke=\"none\" points=\"-4,4 -4,-61.6 428.95,-61.6 428.95,4 -4,4\"/>\n",
       "<!-- e184ae32358f4478bb62135e13941cb6 -->\n",
       "<g id=\"node1\" class=\"node\">\n",
       "<title>e184ae32358f4478bb62135e13941cb6</title>\n",
       "<text text-anchor=\"middle\" x=\"27\" y=\"-22.42\" font-family=\"JetBrains Mono\" font-size=\"15.00\">0</text>\n",
       "</g>\n",
       "<!-- c5c57c66ad204efeb2be1481cc531581 -->\n",
       "<g id=\"node2\" class=\"node\">\n",
       "<title>c5c57c66ad204efeb2be1481cc531581</title>\n",
       "<path fill=\"#afd3e9\" stroke=\"#3182bd\" stroke-width=\"2.7\" d=\"M322.95,-57.6C322.95,-57.6 102,-57.6 102,-57.6 96,-57.6 90,-51.6 90,-45.6 90,-45.6 90,-12 90,-12 90,-6 96,0 102,0 102,0 322.95,0 322.95,0 328.95,0 334.95,-6 334.95,-12 334.95,-12 334.95,-45.6 334.95,-45.6 334.95,-51.6 328.95,-57.6 322.95,-57.6\"/>\n",
       "<text text-anchor=\"middle\" x=\"212.47\" y=\"-20.3\" font-family=\"JetBrains Mono\" font-size=\"20.00\">RX(2*sin(theta + x**2))</text>\n",
       "</g>\n",
       "<!-- e184ae32358f4478bb62135e13941cb6&#45;&#45;c5c57c66ad204efeb2be1481cc531581 -->\n",
       "<g id=\"edge1\" class=\"edge\">\n",
       "<title>e184ae32358f4478bb62135e13941cb6&#45;&#45;c5c57c66ad204efeb2be1481cc531581</title>\n",
       "<path fill=\"none\" stroke=\"black\" stroke-width=\"2.7\" d=\"M53.9,-28.8C63.88,-28.8 76.05,-28.8 89.16,-28.8\"/>\n",
       "</g>\n",
       "<!-- 05696b71f3314b3f8f41f1944043de03 -->\n",
       "<g id=\"node3\" class=\"node\">\n",
       "<title>05696b71f3314b3f8f41f1944043de03</title>\n",
       "</g>\n",
       "<!-- c5c57c66ad204efeb2be1481cc531581&#45;&#45;05696b71f3314b3f8f41f1944043de03 -->\n",
       "<g id=\"edge2\" class=\"edge\">\n",
       "<title>c5c57c66ad204efeb2be1481cc531581&#45;&#45;05696b71f3314b3f8f41f1944043de03</title>\n",
       "<path fill=\"none\" stroke=\"black\" stroke-width=\"2.7\" d=\"M335.86,-28.8C349,-28.8 361.2,-28.8 371.18,-28.8\"/>\n",
       "</g>\n",
       "</g>\n",
       "</svg>\n"
      ],
      "text/plain": [
       "<graphviz.graphs.Graph at 0x14fe7ccd0>"
      ]
     },
     "execution_count": 17,
     "metadata": {},
     "output_type": "execute_result"
    }
   ],
   "source": [
    "from qadence import FeatureParameter, VariationalParameter\n",
    "from sympy import cos, sin, exp\n",
    "from qadence.draw import display\n",
    "\n",
    "x = FeatureParameter(\"x\")\n",
    "theta = VariationalParameter(\"theta\")\n",
    "\n",
    "param = 2*sin(x**2 + theta)\n",
    "\n",
    "block = RX(0, param)\n",
    "\n",
    "display(block)"
   ]
  },
  {
   "cell_type": "markdown",
   "id": "1391c8da-8f06-4bd0-a03a-53485aaaae6e",
   "metadata": {},
   "source": [
    "To execute the block above, we need to provide a value for `x`, since we marked it as a feature parameter. This is done through the values dictionary. Typically, values need to be passed as torch tensors."
   ]
  },
  {
   "cell_type": "code",
   "execution_count": 18,
   "id": "9d07d11b-be31-49d2-9da3-cf72388e2307",
   "metadata": {},
   "outputs": [
    {
     "data": {
      "text/plain": [
       "tensor([-0.0439, -0.2905, -0.3689,  0.5530])"
      ]
     },
     "execution_count": 18,
     "metadata": {},
     "output_type": "execute_result"
    }
   ],
   "source": [
    "import torch\n",
    "from qadence import expectation, Z\n",
    "\n",
    "# Batching of various input values is supported\n",
    "values = {\"x\": torch.tensor([0.0, 1.0, 2.0, 3.0])}\n",
    "\n",
    "# Resulting in a batch of results, one for each input\n",
    "result = expectation(block, observable = Z(0), values = values)\n",
    "\n",
    "# The first dimension in the batch dimension\n",
    "assert list(result.size()) == [4, 1]\n",
    "\n",
    "# We can get rid of the last dimension with the squeeze() method for torch tensors\n",
    "result.squeeze()"
   ]
  },
  {
   "cell_type": "markdown",
   "id": "2de0c4c5-4841-4258-8cad-e0fa9e1cd676",
   "metadata": {},
   "source": [
    "Note that we did not need to pass a value for `theta`. This is because we marked it as a variational parameter, so it was randomly initialized to some value between 0 and 1. Nevertheless, we could override this by still including a value for it in the values dictionary."
   ]
  },
  {
   "cell_type": "markdown",
   "id": "415487f1-063c-40f3-a73d-319adac9b7d5",
   "metadata": {},
   "source": [
    "## Running your first optimization loop\n",
    "\n",
    "Optimizing the parameters of a variational program to achieve a certain goal is a very popular approach to problem solving. After all, that is the essence of Neural Networks (NNs).\n",
    "\n",
    "### The PyTorch magic in a nutshell\n",
    "Generally, defining a neural network model in PyTorch follows the recipe of:\n",
    "- Creating a class inheriting from the `torch.nn.Module` class [(see here)](https://pytorch.org/docs/stable/generated/torch.nn.Module.html)\n",
    "- Initializing (in the `__init__`) the layers of the neural network, which represent specific linear algebra operations.\n",
    "- Overriding the `forward` method to define the exact sequence of operations that will transform the input to the output.\n",
    "\n",
    "Utilizing this recipe is essential to using the [automatic differentiation engine in PyTorch](https://pytorch.org/tutorials/beginner/blitz/autograd_tutorial.html). This enables efficient derivatives of the model output with respect to the model parameters and allows using gradient-based optimization for efficient neural network training.\n",
    "\n",
    "### Quantum Neural Networks\n",
    "\n",
    "With the popularity of classical NNs, it didn't take long before Quantum Neural Networks (QNNs) were invented. This is a general term, but typically a QNN is a variational quantum circuit and it requires three things:\n",
    "- A feature map, which is a sequence of operations used to encode some classical input data into a quantum state.\n",
    "- An ansatz, which is a sequence of operations with some trainable variational parameters.\n",
    "- An observable, or generally some measurement procedure that defines how the output is obtained from the model.\n",
    "\n",
    "Qadence connects with PyTorch through the `QuantumModel` class, which inherits from the `torch.nn.Module`, and allows us to use the autograd engine to train variational quantum circuits."
   ]
  },
  {
   "cell_type": "markdown",
   "id": "a662a972-264c-4d64-880c-3ee3a4ff66aa",
   "metadata": {},
   "source": [
    "## The feature map\n",
    "\n",
    "The feature map is often a sequence of rotations where the angle depends on some input data. You already learned what you need to do this manually."
   ]
  },
  {
   "cell_type": "code",
   "execution_count": 19,
   "id": "16d85ee5-ba09-49ce-b047-a9db7ec82612",
   "metadata": {},
   "outputs": [],
   "source": [
    "from qadence import RX, FeatureParameter, kron\n",
    "\n",
    "n_qubits = 3\n",
    "\n",
    "x = FeatureParameter(\"x\")\n",
    "\n",
    "fm = kron(RX(i, x) for i in range(n_qubits))"
   ]
  },
  {
   "cell_type": "markdown",
   "id": "275f49c2-ca0f-4268-830b-fd3af312d881",
   "metadata": {},
   "source": [
    "However, certain applications require different tricks with the feature map, which we will not get into here, and for that the `feature_map` constructor function [(check documentation)](https://pasqal-io.github.io/qadence/latest/content/qml_constructors/) becomes useful. With the call below we get exactly the same block we just wrote above."
   ]
  },
  {
   "cell_type": "code",
   "execution_count": 20,
   "id": "5cc061ae-9542-4311-86e0-daef922187bf",
   "metadata": {},
   "outputs": [],
   "source": [
    "from qadence import feature_map\n",
    "\n",
    "fm = feature_map(n_qubits, param = \"x\")"
   ]
  },
  {
   "cell_type": "markdown",
   "id": "f17ef023-654f-4463-b6a3-a069deae97cd",
   "metadata": {},
   "source": [
    "## The Ansatz\n",
    "\n",
    "The ansatz is a sequence of operations that includes a few (or several) trainable parameters to be optimized. A common type of ansatz used is the so-called Hardware-Efficient-Ansatz (HEA), which is defined in layers of single-qubit rotations followed by some entangling operation (a layer of CNOTs, in the simplest case).\n",
    "\n",
    "The `hea` function in Qadence is useful to quickly build such circuits (also described in the previous documentation page).\n",
    "\n",
    "However, you are free to define ansatze however you want, and sometimes you don't even need that many parameters... It all depends on the structure of the problem you are trying to solve."
   ]
  },
  {
   "cell_type": "code",
   "execution_count": 22,
   "id": "4bdace6e-197b-476b-b180-6621beef22e9",
   "metadata": {},
   "outputs": [
    {
     "data": {
      "image/svg+xml": [
       "<?xml version=\"1.0\" encoding=\"UTF-8\" standalone=\"no\"?>\n",
       "<!DOCTYPE svg PUBLIC \"-//W3C//DTD SVG 1.1//EN\"\n",
       " \"http://www.w3.org/Graphics/SVG/1.1/DTD/svg11.dtd\">\n",
       "<!-- Generated by graphviz version 12.1.0 (20240811.2233)\n",
       " -->\n",
       "<!-- Pages: 1 -->\n",
       "<svg width=\"1562pt\" height=\"204pt\"\n",
       " viewBox=\"0.00 0.00 1561.85 203.60\" xmlns=\"http://www.w3.org/2000/svg\" xmlns:xlink=\"http://www.w3.org/1999/xlink\">\n",
       "<g id=\"graph0\" class=\"graph\" transform=\"scale(1 1) rotate(0) translate(4 199.6)\">\n",
       "<polygon fill=\"white\" stroke=\"none\" points=\"-4,4 -4,-199.6 1557.85,-199.6 1557.85,4 -4,4\"/>\n",
       "<!-- 498280315c8b45399a882eccf868a4eb -->\n",
       "<g id=\"node1\" class=\"node\">\n",
       "<title>498280315c8b45399a882eccf868a4eb</title>\n",
       "<text text-anchor=\"middle\" x=\"27\" y=\"-160.43\" font-family=\"JetBrains Mono\" font-size=\"15.00\">0</text>\n",
       "</g>\n",
       "<!-- df4b7e66f78a41c693548a6e50486f97 -->\n",
       "<g id=\"node2\" class=\"node\">\n",
       "<title>df4b7e66f78a41c693548a6e50486f97</title>\n",
       "<path fill=\"#afd3e9\" stroke=\"#3182bd\" stroke-width=\"2.7\" d=\"M211.95,-195.6C211.95,-195.6 102,-195.6 102,-195.6 96,-195.6 90,-189.6 90,-183.6 90,-183.6 90,-150 90,-150 90,-144 96,-138 102,-138 102,-138 211.95,-138 211.95,-138 217.95,-138 223.95,-144 223.95,-150 223.95,-150 223.95,-183.6 223.95,-183.6 223.95,-189.6 217.95,-195.6 211.95,-195.6\"/>\n",
       "<text text-anchor=\"middle\" x=\"156.97\" y=\"-158.3\" font-family=\"JetBrains Mono\" font-size=\"20.00\">RX(theta₀)</text>\n",
       "</g>\n",
       "<!-- 498280315c8b45399a882eccf868a4eb&#45;&#45;df4b7e66f78a41c693548a6e50486f97 -->\n",
       "<g id=\"edge1\" class=\"edge\">\n",
       "<title>498280315c8b45399a882eccf868a4eb&#45;&#45;df4b7e66f78a41c693548a6e50486f97</title>\n",
       "<path fill=\"none\" stroke=\"black\" stroke-width=\"2.7\" d=\"M53.9,-166.8C64.2,-166.8 76.56,-166.8 89.08,-166.8\"/>\n",
       "</g>\n",
       "<!-- 420dbe8eaae747c483ad32a3717490c1 -->\n",
       "<g id=\"node13\" class=\"node\">\n",
       "<title>420dbe8eaae747c483ad32a3717490c1</title>\n",
       "<text text-anchor=\"middle\" x=\"27\" y=\"-91.42\" font-family=\"JetBrains Mono\" font-size=\"15.00\">1</text>\n",
       "</g>\n",
       "<!-- 498280315c8b45399a882eccf868a4eb&#45;&#45;420dbe8eaae747c483ad32a3717490c1 -->\n",
       "<!-- af54869111b542d1908fc682499592be -->\n",
       "<g id=\"node3\" class=\"node\">\n",
       "<title>af54869111b542d1908fc682499592be</title>\n",
       "<path fill=\"#afd3e9\" stroke=\"#3182bd\" stroke-width=\"2.7\" d=\"M381.9,-195.6C381.9,-195.6 271.95,-195.6 271.95,-195.6 265.95,-195.6 259.95,-189.6 259.95,-183.6 259.95,-183.6 259.95,-150 259.95,-150 259.95,-144 265.95,-138 271.95,-138 271.95,-138 381.9,-138 381.9,-138 387.9,-138 393.9,-144 393.9,-150 393.9,-150 393.9,-183.6 393.9,-183.6 393.9,-189.6 387.9,-195.6 381.9,-195.6\"/>\n",
       "<text text-anchor=\"middle\" x=\"326.92\" y=\"-158.3\" font-family=\"JetBrains Mono\" font-size=\"20.00\">RY(theta₃)</text>\n",
       "</g>\n",
       "<!-- df4b7e66f78a41c693548a6e50486f97&#45;&#45;af54869111b542d1908fc682499592be -->\n",
       "<g id=\"edge2\" class=\"edge\">\n",
       "<title>df4b7e66f78a41c693548a6e50486f97&#45;&#45;af54869111b542d1908fc682499592be</title>\n",
       "<path fill=\"none\" stroke=\"black\" stroke-width=\"2.7\" d=\"M224.84,-166.8C236.09,-166.8 247.77,-166.8 259.02,-166.8\"/>\n",
       "</g>\n",
       "<!-- 16d6251b33034734a03fc38bb3a22f69 -->\n",
       "<g id=\"node4\" class=\"node\">\n",
       "<title>16d6251b33034734a03fc38bb3a22f69</title>\n",
       "<path fill=\"#afd3e9\" stroke=\"#3182bd\" stroke-width=\"2.7\" d=\"M551.85,-195.6C551.85,-195.6 441.9,-195.6 441.9,-195.6 435.9,-195.6 429.9,-189.6 429.9,-183.6 429.9,-183.6 429.9,-150 429.9,-150 429.9,-144 435.9,-138 441.9,-138 441.9,-138 551.85,-138 551.85,-138 557.85,-138 563.85,-144 563.85,-150 563.85,-150 563.85,-183.6 563.85,-183.6 563.85,-189.6 557.85,-195.6 551.85,-195.6\"/>\n",
       "<text text-anchor=\"middle\" x=\"496.88\" y=\"-158.3\" font-family=\"JetBrains Mono\" font-size=\"20.00\">RX(theta₆)</text>\n",
       "</g>\n",
       "<!-- af54869111b542d1908fc682499592be&#45;&#45;16d6251b33034734a03fc38bb3a22f69 -->\n",
       "<g id=\"edge3\" class=\"edge\">\n",
       "<title>af54869111b542d1908fc682499592be&#45;&#45;16d6251b33034734a03fc38bb3a22f69</title>\n",
       "<path fill=\"none\" stroke=\"black\" stroke-width=\"2.7\" d=\"M394.79,-166.8C406.04,-166.8 417.72,-166.8 428.97,-166.8\"/>\n",
       "</g>\n",
       "<!-- d3a2c1dc5a914d929bd9483c61ee36d3 -->\n",
       "<g id=\"node5\" class=\"node\">\n",
       "<title>d3a2c1dc5a914d929bd9483c61ee36d3</title>\n",
       "<ellipse fill=\"black\" stroke=\"black\" cx=\"628.65\" cy=\"-166.8\" rx=\"1.8\" ry=\"1.8\"/>\n",
       "</g>\n",
       "<!-- 16d6251b33034734a03fc38bb3a22f69&#45;&#45;d3a2c1dc5a914d929bd9483c61ee36d3 -->\n",
       "<g id=\"edge4\" class=\"edge\">\n",
       "<title>16d6251b33034734a03fc38bb3a22f69&#45;&#45;d3a2c1dc5a914d929bd9483c61ee36d3</title>\n",
       "<path fill=\"none\" stroke=\"black\" stroke-width=\"2.7\" d=\"M564.66,-166.8C593.48,-166.8 621.8,-166.8 626.85,-166.8\"/>\n",
       "</g>\n",
       "<!-- 1519b4e1b6464463950f04fd154e6772 -->\n",
       "<g id=\"node6\" class=\"node\">\n",
       "<title>1519b4e1b6464463950f04fd154e6772</title>\n",
       "<polygon fill=\"black\" stroke=\"black\" stroke-width=\"1.35\" points=\"722.97,-167.52 721.53,-167.52 721.53,-166.08 722.97,-166.08 722.97,-167.52\"/>\n",
       "</g>\n",
       "<!-- d3a2c1dc5a914d929bd9483c61ee36d3&#45;&#45;1519b4e1b6464463950f04fd154e6772 -->\n",
       "<g id=\"edge5\" class=\"edge\">\n",
       "<title>d3a2c1dc5a914d929bd9483c61ee36d3&#45;&#45;1519b4e1b6464463950f04fd154e6772</title>\n",
       "<path fill=\"none\" stroke=\"black\" stroke-width=\"2.7\" d=\"M630.94,-166.8C641.9,-166.8 718.79,-166.8 721.19,-166.8\"/>\n",
       "</g>\n",
       "<!-- 6dde723015bb464f806b28fc2fae7bdf -->\n",
       "<g id=\"node7\" class=\"node\">\n",
       "<title>6dde723015bb464f806b28fc2fae7bdf</title>\n",
       "<path fill=\"#afd3e9\" stroke=\"#3182bd\" stroke-width=\"2.7\" d=\"M911.62,-195.6C911.62,-195.6 801.67,-195.6 801.67,-195.6 795.67,-195.6 789.67,-189.6 789.67,-183.6 789.67,-183.6 789.67,-150 789.67,-150 789.67,-144 795.67,-138 801.67,-138 801.67,-138 911.62,-138 911.62,-138 917.62,-138 923.62,-144 923.62,-150 923.62,-150 923.62,-183.6 923.62,-183.6 923.62,-189.6 917.62,-195.6 911.62,-195.6\"/>\n",
       "<text text-anchor=\"middle\" x=\"856.65\" y=\"-158.3\" font-family=\"JetBrains Mono\" font-size=\"20.00\">RX(theta₉)</text>\n",
       "</g>\n",
       "<!-- 1519b4e1b6464463950f04fd154e6772&#45;&#45;6dde723015bb464f806b28fc2fae7bdf -->\n",
       "<g id=\"edge6\" class=\"edge\">\n",
       "<title>1519b4e1b6464463950f04fd154e6772&#45;&#45;6dde723015bb464f806b28fc2fae7bdf</title>\n",
       "<path fill=\"none\" stroke=\"black\" stroke-width=\"2.7\" d=\"M723.35,-166.8C725.3,-166.8 756.89,-166.8 788.71,-166.8\"/>\n",
       "</g>\n",
       "<!-- 4e458045d7e4441eba829fb3f2209fdd -->\n",
       "<g id=\"node8\" class=\"node\">\n",
       "<title>4e458045d7e4441eba829fb3f2209fdd</title>\n",
       "<path fill=\"#afd3e9\" stroke=\"#3182bd\" stroke-width=\"2.7\" d=\"M1089.45,-195.6C1089.45,-195.6 974.25,-195.6 974.25,-195.6 968.25,-195.6 962.25,-189.6 962.25,-183.6 962.25,-183.6 962.25,-150 962.25,-150 962.25,-144 968.25,-138 974.25,-138 974.25,-138 1089.45,-138 1089.45,-138 1095.45,-138 1101.45,-144 1101.45,-150 1101.45,-150 1101.45,-183.6 1101.45,-183.6 1101.45,-189.6 1095.45,-195.6 1089.45,-195.6\"/>\n",
       "<text text-anchor=\"middle\" x=\"1031.85\" y=\"-158.3\" font-family=\"JetBrains Mono\" font-size=\"20.00\">RY(theta₁₂)</text>\n",
       "</g>\n",
       "<!-- 6dde723015bb464f806b28fc2fae7bdf&#45;&#45;4e458045d7e4441eba829fb3f2209fdd -->\n",
       "<g id=\"edge7\" class=\"edge\">\n",
       "<title>6dde723015bb464f806b28fc2fae7bdf&#45;&#45;4e458045d7e4441eba829fb3f2209fdd</title>\n",
       "<path fill=\"none\" stroke=\"black\" stroke-width=\"2.7\" d=\"M924.61,-166.8C936.7,-166.8 949.33,-166.8 961.49,-166.8\"/>\n",
       "</g>\n",
       "<!-- bcfc53d215694f88b2bd7f0aaf72b6d0 -->\n",
       "<g id=\"node9\" class=\"node\">\n",
       "<title>bcfc53d215694f88b2bd7f0aaf72b6d0</title>\n",
       "<path fill=\"#afd3e9\" stroke=\"#3182bd\" stroke-width=\"2.7\" d=\"M1264.65,-195.6C1264.65,-195.6 1149.45,-195.6 1149.45,-195.6 1143.45,-195.6 1137.45,-189.6 1137.45,-183.6 1137.45,-183.6 1137.45,-150 1137.45,-150 1137.45,-144 1143.45,-138 1149.45,-138 1149.45,-138 1264.65,-138 1264.65,-138 1270.65,-138 1276.65,-144 1276.65,-150 1276.65,-150 1276.65,-183.6 1276.65,-183.6 1276.65,-189.6 1270.65,-195.6 1264.65,-195.6\"/>\n",
       "<text text-anchor=\"middle\" x=\"1207.05\" y=\"-158.3\" font-family=\"JetBrains Mono\" font-size=\"20.00\">RX(theta₁₅)</text>\n",
       "</g>\n",
       "<!-- 4e458045d7e4441eba829fb3f2209fdd&#45;&#45;bcfc53d215694f88b2bd7f0aaf72b6d0 -->\n",
       "<g id=\"edge8\" class=\"edge\">\n",
       "<title>4e458045d7e4441eba829fb3f2209fdd&#45;&#45;bcfc53d215694f88b2bd7f0aaf72b6d0</title>\n",
       "<path fill=\"none\" stroke=\"black\" stroke-width=\"2.7\" d=\"M1102.3,-166.8C1113.59,-166.8 1125.29,-166.8 1136.59,-166.8\"/>\n",
       "</g>\n",
       "<!-- af20248ec6ae4edaa90a262b2d9b7d45 -->\n",
       "<g id=\"node10\" class=\"node\">\n",
       "<title>af20248ec6ae4edaa90a262b2d9b7d45</title>\n",
       "<ellipse fill=\"black\" stroke=\"black\" cx=\"1341.45\" cy=\"-166.8\" rx=\"1.8\" ry=\"1.8\"/>\n",
       "</g>\n",
       "<!-- bcfc53d215694f88b2bd7f0aaf72b6d0&#45;&#45;af20248ec6ae4edaa90a262b2d9b7d45 -->\n",
       "<g id=\"edge9\" class=\"edge\">\n",
       "<title>bcfc53d215694f88b2bd7f0aaf72b6d0&#45;&#45;af20248ec6ae4edaa90a262b2d9b7d45</title>\n",
       "<path fill=\"none\" stroke=\"black\" stroke-width=\"2.7\" d=\"M1277.35,-166.8C1306.38,-166.8 1334.62,-166.8 1339.66,-166.8\"/>\n",
       "</g>\n",
       "<!-- 1f430057b3d44ce9a999e2a48aab6ace -->\n",
       "<g id=\"node11\" class=\"node\">\n",
       "<title>1f430057b3d44ce9a999e2a48aab6ace</title>\n",
       "<polygon fill=\"black\" stroke=\"black\" stroke-width=\"1.35\" points=\"1435.77,-167.52 1434.33,-167.52 1434.33,-166.08 1435.77,-166.08 1435.77,-167.52\"/>\n",
       "</g>\n",
       "<!-- af20248ec6ae4edaa90a262b2d9b7d45&#45;&#45;1f430057b3d44ce9a999e2a48aab6ace -->\n",
       "<g id=\"edge10\" class=\"edge\">\n",
       "<title>af20248ec6ae4edaa90a262b2d9b7d45&#45;&#45;1f430057b3d44ce9a999e2a48aab6ace</title>\n",
       "<path fill=\"none\" stroke=\"black\" stroke-width=\"2.7\" d=\"M1343.74,-166.8C1354.7,-166.8 1431.59,-166.8 1433.99,-166.8\"/>\n",
       "</g>\n",
       "<!-- 0dda5dd74f374fa3b24538658ca20360 -->\n",
       "<g id=\"node12\" class=\"node\">\n",
       "<title>0dda5dd74f374fa3b24538658ca20360</title>\n",
       "</g>\n",
       "<!-- 1f430057b3d44ce9a999e2a48aab6ace&#45;&#45;0dda5dd74f374fa3b24538658ca20360 -->\n",
       "<g id=\"edge11\" class=\"edge\">\n",
       "<title>1f430057b3d44ce9a999e2a48aab6ace&#45;&#45;0dda5dd74f374fa3b24538658ca20360</title>\n",
       "<path fill=\"none\" stroke=\"black\" stroke-width=\"2.7\" d=\"M1436.12,-166.8C1437.86,-166.8 1474.19,-166.8 1500.09,-166.8\"/>\n",
       "</g>\n",
       "<!-- 32b3b0bd3e2e4d459769ae13de5d1758 -->\n",
       "<g id=\"node24\" class=\"node\">\n",
       "<title>32b3b0bd3e2e4d459769ae13de5d1758</title>\n",
       "</g>\n",
       "<!-- 0dda5dd74f374fa3b24538658ca20360&#45;&#45;32b3b0bd3e2e4d459769ae13de5d1758 -->\n",
       "<!-- 2d422444ea73487ea33643a32bf77f54 -->\n",
       "<g id=\"node14\" class=\"node\">\n",
       "<title>2d422444ea73487ea33643a32bf77f54</title>\n",
       "<path fill=\"#afd3e9\" stroke=\"#3182bd\" stroke-width=\"2.7\" d=\"M211.95,-126.6C211.95,-126.6 102,-126.6 102,-126.6 96,-126.6 90,-120.6 90,-114.6 90,-114.6 90,-81 90,-81 90,-75 96,-69 102,-69 102,-69 211.95,-69 211.95,-69 217.95,-69 223.95,-75 223.95,-81 223.95,-81 223.95,-114.6 223.95,-114.6 223.95,-120.6 217.95,-126.6 211.95,-126.6\"/>\n",
       "<text text-anchor=\"middle\" x=\"156.97\" y=\"-89.3\" font-family=\"JetBrains Mono\" font-size=\"20.00\">RX(theta₁)</text>\n",
       "</g>\n",
       "<!-- 420dbe8eaae747c483ad32a3717490c1&#45;&#45;2d422444ea73487ea33643a32bf77f54 -->\n",
       "<g id=\"edge12\" class=\"edge\">\n",
       "<title>420dbe8eaae747c483ad32a3717490c1&#45;&#45;2d422444ea73487ea33643a32bf77f54</title>\n",
       "<path fill=\"none\" stroke=\"black\" stroke-width=\"2.7\" d=\"M53.9,-97.8C64.2,-97.8 76.56,-97.8 89.08,-97.8\"/>\n",
       "</g>\n",
       "<!-- 7036d735489d4462bd3637c58819f4ce -->\n",
       "<g id=\"node25\" class=\"node\">\n",
       "<title>7036d735489d4462bd3637c58819f4ce</title>\n",
       "<text text-anchor=\"middle\" x=\"27\" y=\"-22.42\" font-family=\"JetBrains Mono\" font-size=\"15.00\">2</text>\n",
       "</g>\n",
       "<!-- 420dbe8eaae747c483ad32a3717490c1&#45;&#45;7036d735489d4462bd3637c58819f4ce -->\n",
       "<!-- e8108e95b48f44dfa7c504fe974d2ccf -->\n",
       "<g id=\"node15\" class=\"node\">\n",
       "<title>e8108e95b48f44dfa7c504fe974d2ccf</title>\n",
       "<path fill=\"#afd3e9\" stroke=\"#3182bd\" stroke-width=\"2.7\" d=\"M381.9,-126.6C381.9,-126.6 271.95,-126.6 271.95,-126.6 265.95,-126.6 259.95,-120.6 259.95,-114.6 259.95,-114.6 259.95,-81 259.95,-81 259.95,-75 265.95,-69 271.95,-69 271.95,-69 381.9,-69 381.9,-69 387.9,-69 393.9,-75 393.9,-81 393.9,-81 393.9,-114.6 393.9,-114.6 393.9,-120.6 387.9,-126.6 381.9,-126.6\"/>\n",
       "<text text-anchor=\"middle\" x=\"326.92\" y=\"-89.3\" font-family=\"JetBrains Mono\" font-size=\"20.00\">RY(theta₄)</text>\n",
       "</g>\n",
       "<!-- 2d422444ea73487ea33643a32bf77f54&#45;&#45;e8108e95b48f44dfa7c504fe974d2ccf -->\n",
       "<g id=\"edge13\" class=\"edge\">\n",
       "<title>2d422444ea73487ea33643a32bf77f54&#45;&#45;e8108e95b48f44dfa7c504fe974d2ccf</title>\n",
       "<path fill=\"none\" stroke=\"black\" stroke-width=\"2.7\" d=\"M224.84,-97.8C236.09,-97.8 247.77,-97.8 259.02,-97.8\"/>\n",
       "</g>\n",
       "<!-- 51aab54d63934cac84167ac99d70cfbc -->\n",
       "<g id=\"node16\" class=\"node\">\n",
       "<title>51aab54d63934cac84167ac99d70cfbc</title>\n",
       "<path fill=\"#afd3e9\" stroke=\"#3182bd\" stroke-width=\"2.7\" d=\"M551.85,-126.6C551.85,-126.6 441.9,-126.6 441.9,-126.6 435.9,-126.6 429.9,-120.6 429.9,-114.6 429.9,-114.6 429.9,-81 429.9,-81 429.9,-75 435.9,-69 441.9,-69 441.9,-69 551.85,-69 551.85,-69 557.85,-69 563.85,-75 563.85,-81 563.85,-81 563.85,-114.6 563.85,-114.6 563.85,-120.6 557.85,-126.6 551.85,-126.6\"/>\n",
       "<text text-anchor=\"middle\" x=\"496.88\" y=\"-89.3\" font-family=\"JetBrains Mono\" font-size=\"20.00\">RX(theta₇)</text>\n",
       "</g>\n",
       "<!-- e8108e95b48f44dfa7c504fe974d2ccf&#45;&#45;51aab54d63934cac84167ac99d70cfbc -->\n",
       "<g id=\"edge14\" class=\"edge\">\n",
       "<title>e8108e95b48f44dfa7c504fe974d2ccf&#45;&#45;51aab54d63934cac84167ac99d70cfbc</title>\n",
       "<path fill=\"none\" stroke=\"black\" stroke-width=\"2.7\" d=\"M394.79,-97.8C406.04,-97.8 417.72,-97.8 428.97,-97.8\"/>\n",
       "</g>\n",
       "<!-- a0d389f7d16245239e784fcccec7cf3d -->\n",
       "<g id=\"node17\" class=\"node\">\n",
       "<title>a0d389f7d16245239e784fcccec7cf3d</title>\n",
       "<path fill=\"#f0c1be\" stroke=\"#d03a2f\" stroke-width=\"2.7\" d=\"M645.45,-126.6C645.45,-126.6 611.85,-126.6 611.85,-126.6 605.85,-126.6 599.85,-120.6 599.85,-114.6 599.85,-114.6 599.85,-81 599.85,-81 599.85,-75 605.85,-69 611.85,-69 611.85,-69 645.45,-69 645.45,-69 651.45,-69 657.45,-75 657.45,-81 657.45,-81 657.45,-114.6 657.45,-114.6 657.45,-120.6 651.45,-126.6 645.45,-126.6\"/>\n",
       "<text text-anchor=\"middle\" x=\"628.65\" y=\"-89.3\" font-family=\"JetBrains Mono\" font-size=\"20.00\">X</text>\n",
       "</g>\n",
       "<!-- 51aab54d63934cac84167ac99d70cfbc&#45;&#45;a0d389f7d16245239e784fcccec7cf3d -->\n",
       "<g id=\"edge15\" class=\"edge\">\n",
       "<title>51aab54d63934cac84167ac99d70cfbc&#45;&#45;a0d389f7d16245239e784fcccec7cf3d</title>\n",
       "<path fill=\"none\" stroke=\"black\" stroke-width=\"2.7\" d=\"M564.66,-97.8C576.71,-97.8 588.67,-97.8 598.88,-97.8\"/>\n",
       "</g>\n",
       "<!-- a0d389f7d16245239e784fcccec7cf3d&#45;&#45;d3a2c1dc5a914d929bd9483c61ee36d3 -->\n",
       "<g id=\"edge34\" class=\"edge\">\n",
       "<title>a0d389f7d16245239e784fcccec7cf3d&#45;&#45;d3a2c1dc5a914d929bd9483c61ee36d3</title>\n",
       "<path fill=\"none\" stroke=\"black\" stroke-width=\"2.7\" d=\"M628.65,-127.45C628.65,-139.85 628.65,-152.25 628.65,-164.65\"/>\n",
       "</g>\n",
       "<!-- 38dfc5e99fa143d4ba8e7337b7962fda -->\n",
       "<g id=\"node18\" class=\"node\">\n",
       "<title>38dfc5e99fa143d4ba8e7337b7962fda</title>\n",
       "<ellipse fill=\"black\" stroke=\"black\" cx=\"722.25\" cy=\"-97.8\" rx=\"1.8\" ry=\"1.8\"/>\n",
       "</g>\n",
       "<!-- a0d389f7d16245239e784fcccec7cf3d&#45;&#45;38dfc5e99fa143d4ba8e7337b7962fda -->\n",
       "<g id=\"edge16\" class=\"edge\">\n",
       "<title>a0d389f7d16245239e784fcccec7cf3d&#45;&#45;38dfc5e99fa143d4ba8e7337b7962fda</title>\n",
       "<path fill=\"none\" stroke=\"black\" stroke-width=\"2.7\" d=\"M658.13,-97.8C682.08,-97.8 713.44,-97.8 720.01,-97.8\"/>\n",
       "</g>\n",
       "<!-- 332fecb217e64b54b34ba6bfd0eb0fb8 -->\n",
       "<g id=\"node19\" class=\"node\">\n",
       "<title>332fecb217e64b54b34ba6bfd0eb0fb8</title>\n",
       "<path fill=\"#afd3e9\" stroke=\"#3182bd\" stroke-width=\"2.7\" d=\"M914.25,-126.6C914.25,-126.6 799.05,-126.6 799.05,-126.6 793.05,-126.6 787.05,-120.6 787.05,-114.6 787.05,-114.6 787.05,-81 787.05,-81 787.05,-75 793.05,-69 799.05,-69 799.05,-69 914.25,-69 914.25,-69 920.25,-69 926.25,-75 926.25,-81 926.25,-81 926.25,-114.6 926.25,-114.6 926.25,-120.6 920.25,-126.6 914.25,-126.6\"/>\n",
       "<text text-anchor=\"middle\" x=\"856.65\" y=\"-89.3\" font-family=\"JetBrains Mono\" font-size=\"20.00\">RX(theta₁₀)</text>\n",
       "</g>\n",
       "<!-- 38dfc5e99fa143d4ba8e7337b7962fda&#45;&#45;332fecb217e64b54b34ba6bfd0eb0fb8 -->\n",
       "<g id=\"edge17\" class=\"edge\">\n",
       "<title>38dfc5e99fa143d4ba8e7337b7962fda&#45;&#45;332fecb217e64b54b34ba6bfd0eb0fb8</title>\n",
       "<path fill=\"none\" stroke=\"black\" stroke-width=\"2.7\" d=\"M724.1,-97.8C729.27,-97.8 757.41,-97.8 786.34,-97.8\"/>\n",
       "</g>\n",
       "<!-- 49fb23db2e2047fb913a625a06fc9205 -->\n",
       "<g id=\"node20\" class=\"node\">\n",
       "<title>49fb23db2e2047fb913a625a06fc9205</title>\n",
       "<path fill=\"#afd3e9\" stroke=\"#3182bd\" stroke-width=\"2.7\" d=\"M1089.45,-126.6C1089.45,-126.6 974.25,-126.6 974.25,-126.6 968.25,-126.6 962.25,-120.6 962.25,-114.6 962.25,-114.6 962.25,-81 962.25,-81 962.25,-75 968.25,-69 974.25,-69 974.25,-69 1089.45,-69 1089.45,-69 1095.45,-69 1101.45,-75 1101.45,-81 1101.45,-81 1101.45,-114.6 1101.45,-114.6 1101.45,-120.6 1095.45,-126.6 1089.45,-126.6\"/>\n",
       "<text text-anchor=\"middle\" x=\"1031.85\" y=\"-89.3\" font-family=\"JetBrains Mono\" font-size=\"20.00\">RY(theta₁₃)</text>\n",
       "</g>\n",
       "<!-- 332fecb217e64b54b34ba6bfd0eb0fb8&#45;&#45;49fb23db2e2047fb913a625a06fc9205 -->\n",
       "<g id=\"edge18\" class=\"edge\">\n",
       "<title>332fecb217e64b54b34ba6bfd0eb0fb8&#45;&#45;49fb23db2e2047fb913a625a06fc9205</title>\n",
       "<path fill=\"none\" stroke=\"black\" stroke-width=\"2.7\" d=\"M927.1,-97.8C938.39,-97.8 950.09,-97.8 961.39,-97.8\"/>\n",
       "</g>\n",
       "<!-- 22641fa4f8c64d77976a26306357e0ce -->\n",
       "<g id=\"node21\" class=\"node\">\n",
       "<title>22641fa4f8c64d77976a26306357e0ce</title>\n",
       "<path fill=\"#afd3e9\" stroke=\"#3182bd\" stroke-width=\"2.7\" d=\"M1264.65,-126.6C1264.65,-126.6 1149.45,-126.6 1149.45,-126.6 1143.45,-126.6 1137.45,-120.6 1137.45,-114.6 1137.45,-114.6 1137.45,-81 1137.45,-81 1137.45,-75 1143.45,-69 1149.45,-69 1149.45,-69 1264.65,-69 1264.65,-69 1270.65,-69 1276.65,-75 1276.65,-81 1276.65,-81 1276.65,-114.6 1276.65,-114.6 1276.65,-120.6 1270.65,-126.6 1264.65,-126.6\"/>\n",
       "<text text-anchor=\"middle\" x=\"1207.05\" y=\"-89.3\" font-family=\"JetBrains Mono\" font-size=\"20.00\">RX(theta₁₆)</text>\n",
       "</g>\n",
       "<!-- 49fb23db2e2047fb913a625a06fc9205&#45;&#45;22641fa4f8c64d77976a26306357e0ce -->\n",
       "<g id=\"edge19\" class=\"edge\">\n",
       "<title>49fb23db2e2047fb913a625a06fc9205&#45;&#45;22641fa4f8c64d77976a26306357e0ce</title>\n",
       "<path fill=\"none\" stroke=\"black\" stroke-width=\"2.7\" d=\"M1102.3,-97.8C1113.59,-97.8 1125.29,-97.8 1136.59,-97.8\"/>\n",
       "</g>\n",
       "<!-- 00420305037243109cd23867a03b7be4 -->\n",
       "<g id=\"node22\" class=\"node\">\n",
       "<title>00420305037243109cd23867a03b7be4</title>\n",
       "<path fill=\"#f0c1be\" stroke=\"#d03a2f\" stroke-width=\"2.7\" d=\"M1358.25,-126.6C1358.25,-126.6 1324.65,-126.6 1324.65,-126.6 1318.65,-126.6 1312.65,-120.6 1312.65,-114.6 1312.65,-114.6 1312.65,-81 1312.65,-81 1312.65,-75 1318.65,-69 1324.65,-69 1324.65,-69 1358.25,-69 1358.25,-69 1364.25,-69 1370.25,-75 1370.25,-81 1370.25,-81 1370.25,-114.6 1370.25,-114.6 1370.25,-120.6 1364.25,-126.6 1358.25,-126.6\"/>\n",
       "<text text-anchor=\"middle\" x=\"1341.45\" y=\"-89.3\" font-family=\"JetBrains Mono\" font-size=\"20.00\">X</text>\n",
       "</g>\n",
       "<!-- 22641fa4f8c64d77976a26306357e0ce&#45;&#45;00420305037243109cd23867a03b7be4 -->\n",
       "<g id=\"edge20\" class=\"edge\">\n",
       "<title>22641fa4f8c64d77976a26306357e0ce&#45;&#45;00420305037243109cd23867a03b7be4</title>\n",
       "<path fill=\"none\" stroke=\"black\" stroke-width=\"2.7\" d=\"M1277.35,-97.8C1289.49,-97.8 1301.49,-97.8 1311.71,-97.8\"/>\n",
       "</g>\n",
       "<!-- 00420305037243109cd23867a03b7be4&#45;&#45;af20248ec6ae4edaa90a262b2d9b7d45 -->\n",
       "<g id=\"edge35\" class=\"edge\">\n",
       "<title>00420305037243109cd23867a03b7be4&#45;&#45;af20248ec6ae4edaa90a262b2d9b7d45</title>\n",
       "<path fill=\"none\" stroke=\"black\" stroke-width=\"2.7\" d=\"M1341.45,-127.45C1341.45,-139.85 1341.45,-152.25 1341.45,-164.65\"/>\n",
       "</g>\n",
       "<!-- 8e1544196c5a441ab6093ca4364d535d -->\n",
       "<g id=\"node23\" class=\"node\">\n",
       "<title>8e1544196c5a441ab6093ca4364d535d</title>\n",
       "<ellipse fill=\"black\" stroke=\"black\" cx=\"1435.05\" cy=\"-97.8\" rx=\"1.8\" ry=\"1.8\"/>\n",
       "</g>\n",
       "<!-- 00420305037243109cd23867a03b7be4&#45;&#45;8e1544196c5a441ab6093ca4364d535d -->\n",
       "<g id=\"edge21\" class=\"edge\">\n",
       "<title>00420305037243109cd23867a03b7be4&#45;&#45;8e1544196c5a441ab6093ca4364d535d</title>\n",
       "<path fill=\"none\" stroke=\"black\" stroke-width=\"2.7\" d=\"M1370.93,-97.8C1394.88,-97.8 1426.24,-97.8 1432.81,-97.8\"/>\n",
       "</g>\n",
       "<!-- 8e1544196c5a441ab6093ca4364d535d&#45;&#45;32b3b0bd3e2e4d459769ae13de5d1758 -->\n",
       "<g id=\"edge22\" class=\"edge\">\n",
       "<title>8e1544196c5a441ab6093ca4364d535d&#45;&#45;32b3b0bd3e2e4d459769ae13de5d1758</title>\n",
       "<path fill=\"none\" stroke=\"black\" stroke-width=\"2.7\" d=\"M1437.32,-97.8C1444.1,-97.8 1476.61,-97.8 1500.27,-97.8\"/>\n",
       "</g>\n",
       "<!-- 84d4206806044a5790ce867cda4a83b9 -->\n",
       "<g id=\"node36\" class=\"node\">\n",
       "<title>84d4206806044a5790ce867cda4a83b9</title>\n",
       "</g>\n",
       "<!-- 32b3b0bd3e2e4d459769ae13de5d1758&#45;&#45;84d4206806044a5790ce867cda4a83b9 -->\n",
       "<!-- 06f3a1cbbbd845dca488306896851d11 -->\n",
       "<g id=\"node26\" class=\"node\">\n",
       "<title>06f3a1cbbbd845dca488306896851d11</title>\n",
       "<path fill=\"#afd3e9\" stroke=\"#3182bd\" stroke-width=\"2.7\" d=\"M211.95,-57.6C211.95,-57.6 102,-57.6 102,-57.6 96,-57.6 90,-51.6 90,-45.6 90,-45.6 90,-12 90,-12 90,-6 96,0 102,0 102,0 211.95,0 211.95,0 217.95,0 223.95,-6 223.95,-12 223.95,-12 223.95,-45.6 223.95,-45.6 223.95,-51.6 217.95,-57.6 211.95,-57.6\"/>\n",
       "<text text-anchor=\"middle\" x=\"156.97\" y=\"-20.3\" font-family=\"JetBrains Mono\" font-size=\"20.00\">RX(theta₂)</text>\n",
       "</g>\n",
       "<!-- 7036d735489d4462bd3637c58819f4ce&#45;&#45;06f3a1cbbbd845dca488306896851d11 -->\n",
       "<g id=\"edge23\" class=\"edge\">\n",
       "<title>7036d735489d4462bd3637c58819f4ce&#45;&#45;06f3a1cbbbd845dca488306896851d11</title>\n",
       "<path fill=\"none\" stroke=\"black\" stroke-width=\"2.7\" d=\"M53.9,-28.8C64.2,-28.8 76.56,-28.8 89.08,-28.8\"/>\n",
       "</g>\n",
       "<!-- 9f3dd34533394721b58282191988475c -->\n",
       "<g id=\"node27\" class=\"node\">\n",
       "<title>9f3dd34533394721b58282191988475c</title>\n",
       "<path fill=\"#afd3e9\" stroke=\"#3182bd\" stroke-width=\"2.7\" d=\"M381.9,-57.6C381.9,-57.6 271.95,-57.6 271.95,-57.6 265.95,-57.6 259.95,-51.6 259.95,-45.6 259.95,-45.6 259.95,-12 259.95,-12 259.95,-6 265.95,0 271.95,0 271.95,0 381.9,0 381.9,0 387.9,0 393.9,-6 393.9,-12 393.9,-12 393.9,-45.6 393.9,-45.6 393.9,-51.6 387.9,-57.6 381.9,-57.6\"/>\n",
       "<text text-anchor=\"middle\" x=\"326.92\" y=\"-20.3\" font-family=\"JetBrains Mono\" font-size=\"20.00\">RY(theta₅)</text>\n",
       "</g>\n",
       "<!-- 06f3a1cbbbd845dca488306896851d11&#45;&#45;9f3dd34533394721b58282191988475c -->\n",
       "<g id=\"edge24\" class=\"edge\">\n",
       "<title>06f3a1cbbbd845dca488306896851d11&#45;&#45;9f3dd34533394721b58282191988475c</title>\n",
       "<path fill=\"none\" stroke=\"black\" stroke-width=\"2.7\" d=\"M224.84,-28.8C236.09,-28.8 247.77,-28.8 259.02,-28.8\"/>\n",
       "</g>\n",
       "<!-- c8849752aca64957a7aa579bb0fbe1c4 -->\n",
       "<g id=\"node28\" class=\"node\">\n",
       "<title>c8849752aca64957a7aa579bb0fbe1c4</title>\n",
       "<path fill=\"#afd3e9\" stroke=\"#3182bd\" stroke-width=\"2.7\" d=\"M551.85,-57.6C551.85,-57.6 441.9,-57.6 441.9,-57.6 435.9,-57.6 429.9,-51.6 429.9,-45.6 429.9,-45.6 429.9,-12 429.9,-12 429.9,-6 435.9,0 441.9,0 441.9,0 551.85,0 551.85,0 557.85,0 563.85,-6 563.85,-12 563.85,-12 563.85,-45.6 563.85,-45.6 563.85,-51.6 557.85,-57.6 551.85,-57.6\"/>\n",
       "<text text-anchor=\"middle\" x=\"496.88\" y=\"-20.3\" font-family=\"JetBrains Mono\" font-size=\"20.00\">RX(theta₈)</text>\n",
       "</g>\n",
       "<!-- 9f3dd34533394721b58282191988475c&#45;&#45;c8849752aca64957a7aa579bb0fbe1c4 -->\n",
       "<g id=\"edge25\" class=\"edge\">\n",
       "<title>9f3dd34533394721b58282191988475c&#45;&#45;c8849752aca64957a7aa579bb0fbe1c4</title>\n",
       "<path fill=\"none\" stroke=\"black\" stroke-width=\"2.7\" d=\"M394.79,-28.8C406.04,-28.8 417.72,-28.8 428.97,-28.8\"/>\n",
       "</g>\n",
       "<!-- 3be68a2b7b6246c9a1cfe45ed156ed9f -->\n",
       "<g id=\"node29\" class=\"node\">\n",
       "<title>3be68a2b7b6246c9a1cfe45ed156ed9f</title>\n",
       "<polygon fill=\"black\" stroke=\"black\" stroke-width=\"1.35\" points=\"629.37,-29.52 627.93,-29.52 627.93,-28.08 629.37,-28.08 629.37,-29.52\"/>\n",
       "</g>\n",
       "<!-- c8849752aca64957a7aa579bb0fbe1c4&#45;&#45;3be68a2b7b6246c9a1cfe45ed156ed9f -->\n",
       "<g id=\"edge26\" class=\"edge\">\n",
       "<title>c8849752aca64957a7aa579bb0fbe1c4&#45;&#45;3be68a2b7b6246c9a1cfe45ed156ed9f</title>\n",
       "<path fill=\"none\" stroke=\"black\" stroke-width=\"2.7\" d=\"M564.66,-28.8C595.47,-28.8 625.7,-28.8 627.56,-28.8\"/>\n",
       "</g>\n",
       "<!-- 2bbde23084b044d7b4ea258bd94b9ee6 -->\n",
       "<g id=\"node30\" class=\"node\">\n",
       "<title>2bbde23084b044d7b4ea258bd94b9ee6</title>\n",
       "<path fill=\"#f0c1be\" stroke=\"#d03a2f\" stroke-width=\"2.7\" d=\"M739.05,-57.6C739.05,-57.6 705.45,-57.6 705.45,-57.6 699.45,-57.6 693.45,-51.6 693.45,-45.6 693.45,-45.6 693.45,-12 693.45,-12 693.45,-6 699.45,0 705.45,0 705.45,0 739.05,0 739.05,0 745.05,0 751.05,-6 751.05,-12 751.05,-12 751.05,-45.6 751.05,-45.6 751.05,-51.6 745.05,-57.6 739.05,-57.6\"/>\n",
       "<text text-anchor=\"middle\" x=\"722.25\" y=\"-20.3\" font-family=\"JetBrains Mono\" font-size=\"20.00\">X</text>\n",
       "</g>\n",
       "<!-- 3be68a2b7b6246c9a1cfe45ed156ed9f&#45;&#45;2bbde23084b044d7b4ea258bd94b9ee6 -->\n",
       "<g id=\"edge27\" class=\"edge\">\n",
       "<title>3be68a2b7b6246c9a1cfe45ed156ed9f&#45;&#45;2bbde23084b044d7b4ea258bd94b9ee6</title>\n",
       "<path fill=\"none\" stroke=\"black\" stroke-width=\"2.7\" d=\"M629.72,-28.8C631.44,-28.8 666.33,-28.8 692.53,-28.8\"/>\n",
       "</g>\n",
       "<!-- 2bbde23084b044d7b4ea258bd94b9ee6&#45;&#45;38dfc5e99fa143d4ba8e7337b7962fda -->\n",
       "<g id=\"edge36\" class=\"edge\">\n",
       "<title>2bbde23084b044d7b4ea258bd94b9ee6&#45;&#45;38dfc5e99fa143d4ba8e7337b7962fda</title>\n",
       "<path fill=\"none\" stroke=\"black\" stroke-width=\"2.7\" d=\"M722.25,-58.45C722.25,-70.85 722.25,-83.25 722.25,-95.65\"/>\n",
       "</g>\n",
       "<!-- 34e29a236c314c1db8564f6cd354b8c2 -->\n",
       "<g id=\"node31\" class=\"node\">\n",
       "<title>34e29a236c314c1db8564f6cd354b8c2</title>\n",
       "<path fill=\"#afd3e9\" stroke=\"#3182bd\" stroke-width=\"2.7\" d=\"M914.25,-57.6C914.25,-57.6 799.05,-57.6 799.05,-57.6 793.05,-57.6 787.05,-51.6 787.05,-45.6 787.05,-45.6 787.05,-12 787.05,-12 787.05,-6 793.05,0 799.05,0 799.05,0 914.25,0 914.25,0 920.25,0 926.25,-6 926.25,-12 926.25,-12 926.25,-45.6 926.25,-45.6 926.25,-51.6 920.25,-57.6 914.25,-57.6\"/>\n",
       "<text text-anchor=\"middle\" x=\"856.65\" y=\"-20.3\" font-family=\"JetBrains Mono\" font-size=\"20.00\">RX(theta₁₁)</text>\n",
       "</g>\n",
       "<!-- 2bbde23084b044d7b4ea258bd94b9ee6&#45;&#45;34e29a236c314c1db8564f6cd354b8c2 -->\n",
       "<g id=\"edge28\" class=\"edge\">\n",
       "<title>2bbde23084b044d7b4ea258bd94b9ee6&#45;&#45;34e29a236c314c1db8564f6cd354b8c2</title>\n",
       "<path fill=\"none\" stroke=\"black\" stroke-width=\"2.7\" d=\"M751.98,-28.8C762.17,-28.8 774.13,-28.8 786.23,-28.8\"/>\n",
       "</g>\n",
       "<!-- c40a86470c574045bc07f562766b55ad -->\n",
       "<g id=\"node32\" class=\"node\">\n",
       "<title>c40a86470c574045bc07f562766b55ad</title>\n",
       "<path fill=\"#afd3e9\" stroke=\"#3182bd\" stroke-width=\"2.7\" d=\"M1089.45,-57.6C1089.45,-57.6 974.25,-57.6 974.25,-57.6 968.25,-57.6 962.25,-51.6 962.25,-45.6 962.25,-45.6 962.25,-12 962.25,-12 962.25,-6 968.25,0 974.25,0 974.25,0 1089.45,0 1089.45,0 1095.45,0 1101.45,-6 1101.45,-12 1101.45,-12 1101.45,-45.6 1101.45,-45.6 1101.45,-51.6 1095.45,-57.6 1089.45,-57.6\"/>\n",
       "<text text-anchor=\"middle\" x=\"1031.85\" y=\"-20.3\" font-family=\"JetBrains Mono\" font-size=\"20.00\">RY(theta₁₄)</text>\n",
       "</g>\n",
       "<!-- 34e29a236c314c1db8564f6cd354b8c2&#45;&#45;c40a86470c574045bc07f562766b55ad -->\n",
       "<g id=\"edge29\" class=\"edge\">\n",
       "<title>34e29a236c314c1db8564f6cd354b8c2&#45;&#45;c40a86470c574045bc07f562766b55ad</title>\n",
       "<path fill=\"none\" stroke=\"black\" stroke-width=\"2.7\" d=\"M927.1,-28.8C938.39,-28.8 950.09,-28.8 961.39,-28.8\"/>\n",
       "</g>\n",
       "<!-- 875cfc21943f4940adeeea47441f50a0 -->\n",
       "<g id=\"node33\" class=\"node\">\n",
       "<title>875cfc21943f4940adeeea47441f50a0</title>\n",
       "<path fill=\"#afd3e9\" stroke=\"#3182bd\" stroke-width=\"2.7\" d=\"M1264.65,-57.6C1264.65,-57.6 1149.45,-57.6 1149.45,-57.6 1143.45,-57.6 1137.45,-51.6 1137.45,-45.6 1137.45,-45.6 1137.45,-12 1137.45,-12 1137.45,-6 1143.45,0 1149.45,0 1149.45,0 1264.65,0 1264.65,0 1270.65,0 1276.65,-6 1276.65,-12 1276.65,-12 1276.65,-45.6 1276.65,-45.6 1276.65,-51.6 1270.65,-57.6 1264.65,-57.6\"/>\n",
       "<text text-anchor=\"middle\" x=\"1207.05\" y=\"-20.3\" font-family=\"JetBrains Mono\" font-size=\"20.00\">RX(theta₁₇)</text>\n",
       "</g>\n",
       "<!-- c40a86470c574045bc07f562766b55ad&#45;&#45;875cfc21943f4940adeeea47441f50a0 -->\n",
       "<g id=\"edge30\" class=\"edge\">\n",
       "<title>c40a86470c574045bc07f562766b55ad&#45;&#45;875cfc21943f4940adeeea47441f50a0</title>\n",
       "<path fill=\"none\" stroke=\"black\" stroke-width=\"2.7\" d=\"M1102.3,-28.8C1113.59,-28.8 1125.29,-28.8 1136.59,-28.8\"/>\n",
       "</g>\n",
       "<!-- 6c457b47e7b448e5bddd88620adf185c -->\n",
       "<g id=\"node34\" class=\"node\">\n",
       "<title>6c457b47e7b448e5bddd88620adf185c</title>\n",
       "<polygon fill=\"black\" stroke=\"black\" stroke-width=\"1.35\" points=\"1342.17,-29.52 1340.73,-29.52 1340.73,-28.08 1342.17,-28.08 1342.17,-29.52\"/>\n",
       "</g>\n",
       "<!-- 875cfc21943f4940adeeea47441f50a0&#45;&#45;6c457b47e7b448e5bddd88620adf185c -->\n",
       "<g id=\"edge31\" class=\"edge\">\n",
       "<title>875cfc21943f4940adeeea47441f50a0&#45;&#45;6c457b47e7b448e5bddd88620adf185c</title>\n",
       "<path fill=\"none\" stroke=\"black\" stroke-width=\"2.7\" d=\"M1277.35,-28.8C1308.39,-28.8 1338.51,-28.8 1340.36,-28.8\"/>\n",
       "</g>\n",
       "<!-- 641544866d144f05b2e1aeb4b7c62a8f -->\n",
       "<g id=\"node35\" class=\"node\">\n",
       "<title>641544866d144f05b2e1aeb4b7c62a8f</title>\n",
       "<path fill=\"#f0c1be\" stroke=\"#d03a2f\" stroke-width=\"2.7\" d=\"M1451.85,-57.6C1451.85,-57.6 1418.25,-57.6 1418.25,-57.6 1412.25,-57.6 1406.25,-51.6 1406.25,-45.6 1406.25,-45.6 1406.25,-12 1406.25,-12 1406.25,-6 1412.25,0 1418.25,0 1418.25,0 1451.85,0 1451.85,0 1457.85,0 1463.85,-6 1463.85,-12 1463.85,-12 1463.85,-45.6 1463.85,-45.6 1463.85,-51.6 1457.85,-57.6 1451.85,-57.6\"/>\n",
       "<text text-anchor=\"middle\" x=\"1435.05\" y=\"-20.3\" font-family=\"JetBrains Mono\" font-size=\"20.00\">X</text>\n",
       "</g>\n",
       "<!-- 6c457b47e7b448e5bddd88620adf185c&#45;&#45;641544866d144f05b2e1aeb4b7c62a8f -->\n",
       "<g id=\"edge32\" class=\"edge\">\n",
       "<title>6c457b47e7b448e5bddd88620adf185c&#45;&#45;641544866d144f05b2e1aeb4b7c62a8f</title>\n",
       "<path fill=\"none\" stroke=\"black\" stroke-width=\"2.7\" d=\"M1342.52,-28.8C1344.24,-28.8 1379.13,-28.8 1405.33,-28.8\"/>\n",
       "</g>\n",
       "<!-- 641544866d144f05b2e1aeb4b7c62a8f&#45;&#45;8e1544196c5a441ab6093ca4364d535d -->\n",
       "<g id=\"edge37\" class=\"edge\">\n",
       "<title>641544866d144f05b2e1aeb4b7c62a8f&#45;&#45;8e1544196c5a441ab6093ca4364d535d</title>\n",
       "<path fill=\"none\" stroke=\"black\" stroke-width=\"2.7\" d=\"M1435.05,-58.45C1435.05,-70.85 1435.05,-83.25 1435.05,-95.65\"/>\n",
       "</g>\n",
       "<!-- 641544866d144f05b2e1aeb4b7c62a8f&#45;&#45;84d4206806044a5790ce867cda4a83b9 -->\n",
       "<g id=\"edge33\" class=\"edge\">\n",
       "<title>641544866d144f05b2e1aeb4b7c62a8f&#45;&#45;84d4206806044a5790ce867cda4a83b9</title>\n",
       "<path fill=\"none\" stroke=\"black\" stroke-width=\"2.7\" d=\"M1464.46,-28.8C1475.87,-28.8 1488.93,-28.8 1500.06,-28.8\"/>\n",
       "</g>\n",
       "</g>\n",
       "</svg>\n"
      ],
      "text/plain": [
       "<graphviz.graphs.Graph at 0x14fe7cb20>"
      ]
     },
     "execution_count": 22,
     "metadata": {},
     "output_type": "execute_result"
    }
   ],
   "source": [
    "from qadence import hea\n",
    "from qadence.draw import display\n",
    "\n",
    "ansatz = hea(n_qubits, depth = 2)\n",
    "\n",
    "display(ansatz)"
   ]
  },
  {
   "cell_type": "markdown",
   "id": "68f83e56-de60-4a11-8e15-5bc301379ab7",
   "metadata": {},
   "source": [
    "## The QuantumCircuit\n",
    "\n",
    "So far we have only looked at basic and composite blocks in Qadence, and in most cases we were inferring the number of qubits in the system from the qubit support of the block itself. Before moving on to the QuantumModel definition, we need to concretize the final `QuantumCircuit` where we can set the total number of qubits. In this case, this step will not change anything in our program, but we must run it either way."
   ]
  },
  {
   "cell_type": "code",
   "execution_count": 23,
   "id": "d8f9df65-10dd-4b92-a8c2-8a5187e3fe60",
   "metadata": {},
   "outputs": [],
   "source": [
    "from qadence import QuantumCircuit\n",
    "\n",
    "block = fm * ansatz\n",
    "\n",
    "circuit = QuantumCircuit(n_qubits, block)"
   ]
  },
  {
   "cell_type": "markdown",
   "id": "2b6e6849-acd5-4b9b-8b6d-53483b276743",
   "metadata": {},
   "source": [
    "## The QuantumModel\n",
    "\n",
    "We are almost ready to define our model, we are missing only an observable to measure that will represent our output."
   ]
  },
  {
   "cell_type": "code",
   "execution_count": 24,
   "id": "ec313b06-a491-46a9-aa52-34792c3974f9",
   "metadata": {},
   "outputs": [],
   "source": [
    "from qadence import Z, QuantumModel, add\n",
    "\n",
    "obs = add(Z(i) for i in range(n_qubits))\n",
    "\n",
    "model = QuantumModel(circuit, observable = obs)"
   ]
  },
  {
   "cell_type": "markdown",
   "id": "5d5c4d49-9941-48b8-825b-9ffa9fe66615",
   "metadata": {},
   "source": [
    "Our model is ready, and we can now try to run it. Similarly to what you have seen before, the `run`, `sample`, and `expectation` functions are now available as method from the model with the same behaviour as described. To run any of them, we must pass the values to the input parameter `x` that we defined in the feature_map."
   ]
  },
  {
   "cell_type": "code",
   "execution_count": 25,
   "id": "82f14e3c-d525-4341-b002-8320824b8175",
   "metadata": {},
   "outputs": [
    {
     "data": {
      "text/plain": [
       "tensor([[ 0.2992],\n",
       "        [-0.4291],\n",
       "        [-0.3515],\n",
       "        [ 0.2506]], grad_fn=<CatBackward0>)"
      ]
     },
     "execution_count": 25,
     "metadata": {},
     "output_type": "execute_result"
    }
   ],
   "source": [
    "import torch\n",
    "\n",
    "values = {\"x\": torch.tensor([0.0, 1.0, 2.0, 3.0])}\n",
    "\n",
    "model.expectation(values)"
   ]
  },
  {
   "cell_type": "markdown",
   "id": "07dff775-8a71-4d10-a3f6-10f09ed93f57",
   "metadata": {},
   "source": [
    "In this way, our model defines a function $f_\\theta(x)$, parameterized by a set of $\\{\\theta\\}$ parameters.\n",
    "\n",
    "As you can see we now have a `grad_fn` associated with our output tensor: PyTorch know how to efficiently compute the gradient of this output.\n",
    "\n",
    "Note: the `QuantumModel` is a `torch.nn.Module`, and thus calling `model(...)` would call the `forward(...)` method, as is standard in PyTorch. By default in the `QuantumModel` this calls `model.run(...)`, but custom models can always be created by inheriting from `QuantumModel` and overriding the `forward` method.\n",
    "\n",
    "Note: the computational graph of a `torch.tensor` sometimes is not needed, or can cause issues when integrating with other libraries like `matplotlib`. You can remove it by calling `result.detach()`."
   ]
  },
  {
   "cell_type": "markdown",
   "id": "05967902-4c20-45de-8a97-45b4d192fe5a",
   "metadata": {},
   "source": [
    "## Defining a problem to solve\n",
    "\n",
    "Now that our model is ready, we need a basic optimization problem to try it out. We can try to fit a basic set of data points."
   ]
  },
  {
   "cell_type": "code",
   "execution_count": 26,
   "id": "a3880cda-1bc1-4e40-9626-e1db33801039",
   "metadata": {},
   "outputs": [
    {
     "data": {
      "text/plain": [
       "<matplotlib.collections.PathCollection at 0x14ff992d0>"
      ]
     },
     "execution_count": 26,
     "metadata": {},
     "output_type": "execute_result"
    },
    {
     "data": {
      "image/png": "[encoded data removed]",
      "text/plain": [
       "<Figure size 640x480 with 1 Axes>"
      ]
     },
     "metadata": {},
     "output_type": "display_data"
    }
   ],
   "source": [
    "import matplotlib.pyplot as plt\n",
    "\n",
    "def f(x):\n",
    "    return x**2\n",
    "\n",
    "x_train = torch.linspace(-1, 1, 20)\n",
    "y_train = f(x_train)\n",
    "\n",
    "plt.scatter(x_train, y_train)"
   ]
  },
  {
   "cell_type": "markdown",
   "id": "7e4eec2f-c2fd-4d49-ade4-7046d25124fa",
   "metadata": {},
   "source": [
    "Let's save our model output before training so we can compare it later."
   ]
  },
  {
   "cell_type": "code",
   "execution_count": 27,
   "id": "4da07b17-98b3-477e-822f-2ddd247e0feb",
   "metadata": {},
   "outputs": [],
   "source": [
    "values = {\"x\": x_train}\n",
    "\n",
    "y_pred_initial = model.expectation(values).squeeze().detach()"
   ]
  },
  {
   "cell_type": "markdown",
   "id": "ac4ea522-fdc0-4fd6-9837-43c3175a4573",
   "metadata": {},
   "source": [
    "## Training the model\n",
    "\n",
    "We can now train our model with a basic PyTorch training loop. First, we need a loss function that encodes the goal of our problem when minimized."
   ]
  },
  {
   "cell_type": "code",
   "execution_count": 28,
   "id": "325434c9-b7e2-4e24-8711-b02db83d409a",
   "metadata": {},
   "outputs": [],
   "source": [
    "# Computes the Mean Squared Error between every entry of two tensors\n",
    "criterion = torch.nn.MSELoss()\n",
    "\n",
    "def loss_fn(x_train, y_train):\n",
    "    output = model.expectation({\"x\": x_train}).squeeze()\n",
    "    loss = criterion(output, y_train)\n",
    "    return loss"
   ]
  },
  {
   "cell_type": "markdown",
   "id": "31efcb9f-41ef-49f4-8923-e74509958b21",
   "metadata": {},
   "source": [
    "And now we need to define an optimizer that is going to be responsible for performing the gradient descent optimization on the parameters of our model. The Adam optimizer is a very popular choice. Besides the model parameters, the learning rate `lr` determines how big is each update to the parameter values during the optimization procedure."
   ]
  },
  {
   "cell_type": "code",
   "execution_count": 29,
   "id": "26803edd-35f1-4eab-8ee8-5d35cb306814",
   "metadata": {},
   "outputs": [],
   "source": [
    "optimizer = torch.optim.Adam(model.parameters(), lr = 0.1)"
   ]
  },
  {
   "cell_type": "markdown",
   "id": "39dbfd6a-d015-49e1-b4d1-c8f9d6acb6cb",
   "metadata": {},
   "source": [
    "Finally, we can define a number of iterations, or epochs, and run the training loop. At each epoch, the loop does the following:\n",
    "- Zeros out the gradients [(so they don't accumulate)](https://stackoverflow.com/questions/48001598/why-do-we-need-to-call-zero-grad-in-pytorch).\n",
    "- Computes the current loss value.\n",
    "- Performs the backward pass to compute the gradients through the backpropagation algorithm.\n",
    "- Performs one update step on the variational parameters."
   ]
  },
  {
   "cell_type": "code",
   "execution_count": 30,
   "id": "872fb7b6-f6fc-4a6f-9061-aa501f9a22de",
   "metadata": {},
   "outputs": [],
   "source": [
    "n_epochs = 100\n",
    "\n",
    "for epoch in range(n_epochs):\n",
    "    optimizer.zero_grad()\n",
    "    loss = loss_fn(x_train, y_train)\n",
    "    loss.backward()\n",
    "    optimizer.step()"
   ]
  },
  {
   "cell_type": "markdown",
   "id": "4586f8e3-76eb-4d5c-9beb-f5bf5eb8cf22",
   "metadata": {},
   "source": [
    "And we are done! The variational parameters in the model have been updated through the training loop and are now set at specific values that (hopefully) minimize the loss function we defined.\n",
    "\n",
    "We can inspect the values of the variational parameters with the `vparams` property, which returns a dictionary."
   ]
  },
  {
   "cell_type": "code",
   "execution_count": 31,
   "id": "0cb774a1-c4b1-463b-9204-bd30f40b0217",
   "metadata": {},
   "outputs": [],
   "source": [
    "vparam_dict = model.vparams"
   ]
  },
  {
   "cell_type": "markdown",
   "id": "f2ce350e-0839-4a2f-9505-f4403fdaed24",
   "metadata": {},
   "source": [
    "However, that's not very useful right now. Instead let's try to plot our training data, our initial model output before training, and the model output now that we have completed the training."
   ]
  },
  {
   "cell_type": "code",
   "execution_count": 32,
   "id": "887cb6f9-ef74-43ae-82e8-da53a8eb72e0",
   "metadata": {},
   "outputs": [
    {
     "data": {
      "text/plain": [
       "(-0.1, 1.1)"
      ]
     },
     "execution_count": 32,
     "metadata": {},
     "output_type": "execute_result"
    },
    {
     "data": {
      "image/png": "[encoded data removed]",
      "text/plain": [
       "<Figure size 640x480 with 1 Axes>"
      ]
     },
     "metadata": {},
     "output_type": "display_data"
    }
   ],
   "source": [
    "y_pred_final = model.expectation({\"x\": x_train}).squeeze().detach()\n",
    "\n",
    "plt.plot(x_train, y_pred_initial, label = \"Initial prediction\")\n",
    "plt.plot(x_train, y_pred_final, label = \"Final prediction\")\n",
    "plt.scatter(x_train, y_train, label = \"Training points\")\n",
    "plt.xlabel(\"x\")\n",
    "plt.ylabel(\"f(x)\")\n",
    "plt.legend()\n",
    "plt.xlim((-1.1, 1.1))\n",
    "plt.ylim((-0.1, 1.1))"
   ]
  },
  {
   "cell_type": "markdown",
   "id": "3682471d-5bdb-4a61-9bfb-e19414816d20",
   "metadata": {},
   "source": [
    "## Conclusion\n",
    "\n",
    "And voila!!... Hmm not quite perfect, but it kind of matches the data right?\n",
    "\n",
    "Maybe with a few more qubits, a few more trainable parameters...\n",
    "\n",
    "Well anyway, in this tutorial we have gone through the essential things you need to use Qadence. Now take a deep breath, read the instructions carefully, and you are set!\n",
    "\n",
    "Best of luck,\n",
    "\n",
    "The PQHack team."
   ]
  },
  {
   "cell_type": "markdown",
   "id": "52712f41-4098-45fe-a6eb-5dbf63764cf6",
   "metadata": {},
   "source": [
    "# EXTRA:"
   ]
  },
  {
   "cell_type": "markdown",
   "id": "8fbf4f0d-3f19-410b-b143-18511dd9214c",
   "metadata": {},
   "source": [
    "## QNN vs QuantumModel\n",
    "\n",
    "In the documentation you may see the `QNN` being used. This is simply a more specific `QuantumModel` where the `forward()` method directly calls the `expectation`, and it has a few other convenience functionalities. You are welcome to use it if you wish, but you can also stick to using `QuantumModel` as we did in this tutorial."
   ]
  },
  {
   "cell_type": "markdown",
   "id": "ab6edb35-252e-4360-aef4-627fc30ec091",
   "metadata": {},
   "source": [
    "## Gradient-free optimization with Scipy\n",
    "\n",
    "It's possible to train a Qadence model using `scipy.optimize.minimize`, which does not require gradients. To do so, you will need to write something following the syntax below:"
   ]
  },
  {
   "cell_type": "code",
   "execution_count": null,
   "id": "ff115943-cc32-4adc-abe2-68165eb6ae39",
   "metadata": {},
   "outputs": [],
   "source": [
    "from scipy.optimize import minimize\n",
    "\n",
    "# Defining the Qadence model as usual\n",
    "model = QuantumModel(...)\n",
    "\n",
    "# Defining a loss function with the scipy syntax\n",
    "def loss_fn(params, *args):\n",
    "    \"\"\"Loss function written with the syntax needed for `minimize`.\"\"\"\n",
    "    # The model and the input values come as the extra arguments\n",
    "    model, inputs = args\n",
    "    # The params are being optimized by scipy, which you need to manually override in the model\n",
    "    model.reset_vparams(torch.tensor(params))\n",
    "\n",
    "    #############################\n",
    "    # Perform your calculations #\n",
    "\n",
    "    loss = ...\n",
    "    \n",
    "    #############################\n",
    "\n",
    "    # Detach any gradients from the loss so scipy can convert the value\n",
    "    return loss.detach()\n",
    "\n",
    "# Define training parameters\n",
    "\n",
    "n_params = len(model.vparams)\n",
    "\n",
    "t_train = ...  # Training points\n",
    "x0 = ...       # Initial guess for the params\n",
    "\n",
    "res = minimize(loss_fn, x0 = x0, args = (model, t_train))\n",
    "\n",
    "# Once the minimization is complete, reset again the model parameters with the final solution\n",
    "model.reset_vparams(res.x)"
   ]
  },
  {
   "cell_type": "markdown",
   "id": "6a6d0940-1538-438a-bf7f-2183953e41fe",
   "metadata": {},
   "source": [
    "## An unsolved bug you can easily go around\n",
    "\n",
    "A bug will occur as described in the code below. It will complain about a mistmatch in tensor dimensions. Unfortunately we did not have the time to properly look into this before the hackathon. If you encounter it you can easily circumvent it by multiplying the feature parameter by 1.0."
   ]
  },
  {
   "cell_type": "code",
   "execution_count": 33,
   "id": "7a1120f7-4841-4912-b2a3-2e9e42a41394",
   "metadata": {},
   "outputs": [
    {
     "data": {
      "text/plain": [
       "tensor([[0.9988+0.0000j, 0.0000-0.0500j]])"
      ]
     },
     "execution_count": 33,
     "metadata": {},
     "output_type": "execute_result"
    }
   ],
   "source": [
    "import torch\n",
    "from qadence import RX, FeatureParameter, run\n",
    "\n",
    "# param = FeatureParameter(\"t\") # GIVES BUG\n",
    "\n",
    "param = 1.0 * FeatureParameter(\"t\") # DOES NOT GIVE BUG\n",
    "\n",
    "op = RX(0, param)\n",
    "\n",
    "run(op, values = {\"t\": torch.tensor([[0.1]])})"
   ]
  },
  {
   "cell_type": "markdown",
   "id": "6729ffad-d29a-465a-9071-151a22ddbb79",
   "metadata": {},
   "source": [
    "If you use the `feature_map` function, you can do this automatically with the `multiplier` argument."
   ]
  },
  {
   "cell_type": "code",
   "execution_count": 34,
   "id": "9ff74807-6cb7-465d-bda3-7efe0d024a90",
   "metadata": {},
   "outputs": [
    {
     "data": {
      "text/plain": [
       "tensor([[ 0.9975+0.0000j,  0.0000-0.0499j,  0.0000-0.0499j, -0.0025+0.0000j]])"
      ]
     },
     "execution_count": 34,
     "metadata": {},
     "output_type": "execute_result"
    }
   ],
   "source": [
    "import torch\n",
    "from qadence import feature_map, run\n",
    "\n",
    "op = feature_map(n_qubits = 2, param = \"t\", multiplier = 1.0)\n",
    "\n",
    "run(op, values = {\"t\": torch.tensor([[0.1]])})"
   ]
  },
  {
   "cell_type": "code",
   "execution_count": null,
   "id": "d249ca86-ff56-47ee-a88d-e0d44a6b93d0",
   "metadata": {},
   "outputs": [],
   "source": []
  }
 ],
 "metadata": {
  "kernelspec": {
   "display_name": "Python 3 (ipykernel)",
   "language": "python",
   "name": "python3"
  },
  "language_info": {
   "codemirror_mode": {
    "name": "ipython",
    "version": 3
   },
   "file_extension": ".py",
   "mimetype": "text/x-python",
   "name": "python",
   "nbconvert_exporter": "python",
   "pygments_lexer": "ipython3",
   "version": "3.10.14"
  }
 },
 "nbformat": 4,
 "nbformat_minor": 5
}
